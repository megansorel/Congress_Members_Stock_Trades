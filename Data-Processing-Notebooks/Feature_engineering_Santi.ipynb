{
 "cells": [
  {
   "cell_type": "code",
   "execution_count": 2,
   "metadata": {},
   "outputs": [],
   "source": [
    "import pandas as pd"
   ]
  },
  {
   "cell_type": "code",
   "execution_count": 3,
   "metadata": {},
   "outputs": [],
   "source": [
    "df = pd.read_csv('../data/final_dataset.csv')"
   ]
  },
  {
   "cell_type": "code",
   "execution_count": 4,
   "metadata": {},
   "outputs": [],
   "source": [
    "# List of columns for percentage difference calculations\n",
    "stocks = df[['day_30', 'day_60', 'day_90', 'day_180']]\n",
    "sp = df[['sp_30', 'sp_60', 'sp_90', 'sp_180']]"
   ]
  },
  {
   "cell_type": "code",
   "execution_count": 5,
   "metadata": {},
   "outputs": [],
   "source": [
    "# Calculate percentage difference data\n",
    "stock_perc = [round((df[i]/df['start']) - 1,3) for i in stocks.columns]\n",
    "sp_perc = [round((df[i]/df['sp_start']) - 1,3) for i in sp.columns]"
   ]
  },
  {
   "cell_type": "code",
   "execution_count": 6,
   "metadata": {},
   "outputs": [],
   "source": [
    "# Create stock percentage difference columns\n",
    "for i,col in enumerate(stocks.columns):\n",
    "    df[col+'_stock_perc_diff'] = stock_perc[i]"
   ]
  },
  {
   "cell_type": "code",
   "execution_count": 7,
   "metadata": {},
   "outputs": [],
   "source": [
    "# Create S&P percentage difference columns\n",
    "for i,col in enumerate(sp.columns):\n",
    "    df[col+'_sp_perc_diff'] = sp_perc[i]"
   ]
  },
  {
   "cell_type": "code",
   "execution_count": 8,
   "metadata": {},
   "outputs": [],
   "source": [
    "# Create title holder variable\n",
    "titles = list(df.columns)\n",
    "# Rearrange pertinent columns\n",
    "titles[24],titles[25],titles[26],titles[27],titles[28],titles[29],titles[30],titles[31],titles[32],\\\n",
    "titles[33],titles[34],titles[35],titles[36],titles[37],titles[38],titles[39],titles[40] =\\\n",
    "titles[24],titles[33],titles[25],titles[34],titles[26],titles[35],titles[27],titles[36],titles[28],\\\n",
    "titles[29],titles[37],titles[30],titles[38],titles[31],titles[39],titles[32],titles[40]"
   ]
  },
  {
   "cell_type": "code",
   "execution_count": 9,
   "metadata": {},
   "outputs": [
    {
     "data": {
      "text/html": [
       "<div>\n",
       "<style scoped>\n",
       "    .dataframe tbody tr th:only-of-type {\n",
       "        vertical-align: middle;\n",
       "    }\n",
       "\n",
       "    .dataframe tbody tr th {\n",
       "        vertical-align: top;\n",
       "    }\n",
       "\n",
       "    .dataframe thead th {\n",
       "        text-align: right;\n",
       "    }\n",
       "</style>\n",
       "<table border=\"1\" class=\"dataframe\">\n",
       "  <thead>\n",
       "    <tr style=\"text-align: right;\">\n",
       "      <th></th>\n",
       "      <th>start</th>\n",
       "      <th>day_30</th>\n",
       "      <th>day_30_stock_perc_diff</th>\n",
       "      <th>day_60</th>\n",
       "      <th>day_60_stock_perc_diff</th>\n",
       "      <th>day_90</th>\n",
       "      <th>day_90_stock_perc_diff</th>\n",
       "      <th>day_180</th>\n",
       "      <th>day_180_stock_perc_diff</th>\n",
       "      <th>sp_start</th>\n",
       "      <th>sp_30</th>\n",
       "      <th>sp_30_sp_perc_diff</th>\n",
       "      <th>sp_60</th>\n",
       "      <th>sp_60_sp_perc_diff</th>\n",
       "      <th>sp_90</th>\n",
       "      <th>sp_90_sp_perc_diff</th>\n",
       "      <th>sp_180</th>\n",
       "      <th>sp_180_sp_perc_diff</th>\n",
       "    </tr>\n",
       "  </thead>\n",
       "  <tbody>\n",
       "    <tr>\n",
       "      <th>0</th>\n",
       "      <td>35.520000</td>\n",
       "      <td>44.500000</td>\n",
       "      <td>0.253</td>\n",
       "      <td>39.090000</td>\n",
       "      <td>0.101</td>\n",
       "      <td>46.740002</td>\n",
       "      <td>0.316</td>\n",
       "      <td>46.910000</td>\n",
       "      <td>0.321</td>\n",
       "      <td>2398.100098</td>\n",
       "      <td>2874.560059</td>\n",
       "      <td>0.199</td>\n",
       "      <td>2953.909912</td>\n",
       "      <td>0.232</td>\n",
       "      <td>3097.739990</td>\n",
       "      <td>0.292</td>\n",
       "      <td>3340.969971</td>\n",
       "      <td>0.393</td>\n",
       "    </tr>\n",
       "    <tr>\n",
       "      <th>1</th>\n",
       "      <td>48.730000</td>\n",
       "      <td>69.239998</td>\n",
       "      <td>0.421</td>\n",
       "      <td>64.839996</td>\n",
       "      <td>0.331</td>\n",
       "      <td>63.360001</td>\n",
       "      <td>0.300</td>\n",
       "      <td>61.130001</td>\n",
       "      <td>0.254</td>\n",
       "      <td>2447.330078</td>\n",
       "      <td>2797.800049</td>\n",
       "      <td>0.143</td>\n",
       "      <td>2955.449951</td>\n",
       "      <td>0.208</td>\n",
       "      <td>3083.760010</td>\n",
       "      <td>0.260</td>\n",
       "      <td>3319.469971</td>\n",
       "      <td>0.356</td>\n",
       "    </tr>\n",
       "    <tr>\n",
       "      <th>2</th>\n",
       "      <td>151.009995</td>\n",
       "      <td>175.300003</td>\n",
       "      <td>0.161</td>\n",
       "      <td>191.500000</td>\n",
       "      <td>0.268</td>\n",
       "      <td>189.479996</td>\n",
       "      <td>0.255</td>\n",
       "      <td>208.389999</td>\n",
       "      <td>0.380</td>\n",
       "      <td>2584.590088</td>\n",
       "      <td>2912.429932</td>\n",
       "      <td>0.127</td>\n",
       "      <td>3055.729980</td>\n",
       "      <td>0.182</td>\n",
       "      <td>3130.010010</td>\n",
       "      <td>0.211</td>\n",
       "      <td>3298.459961</td>\n",
       "      <td>0.276</td>\n",
       "    </tr>\n",
       "    <tr>\n",
       "      <th>3</th>\n",
       "      <td>78.989998</td>\n",
       "      <td>48.860001</td>\n",
       "      <td>-0.381</td>\n",
       "      <td>55.400002</td>\n",
       "      <td>-0.299</td>\n",
       "      <td>70.970001</td>\n",
       "      <td>-0.102</td>\n",
       "      <td>80.239998</td>\n",
       "      <td>0.016</td>\n",
       "      <td>3337.750000</td>\n",
       "      <td>2237.399902</td>\n",
       "      <td>-0.330</td>\n",
       "      <td>2799.310059</td>\n",
       "      <td>-0.161</td>\n",
       "      <td>2991.770020</td>\n",
       "      <td>-0.104</td>\n",
       "      <td>3389.780029</td>\n",
       "      <td>0.016</td>\n",
       "    </tr>\n",
       "    <tr>\n",
       "      <th>4</th>\n",
       "      <td>19.690001</td>\n",
       "      <td>19.840000</td>\n",
       "      <td>0.008</td>\n",
       "      <td>23.600000</td>\n",
       "      <td>0.199</td>\n",
       "      <td>25.980000</td>\n",
       "      <td>0.319</td>\n",
       "      <td>32.160000</td>\n",
       "      <td>0.633</td>\n",
       "      <td>2529.189941</td>\n",
       "      <td>2799.550049</td>\n",
       "      <td>0.107</td>\n",
       "      <td>2863.699951</td>\n",
       "      <td>0.132</td>\n",
       "      <td>3115.340088</td>\n",
       "      <td>0.232</td>\n",
       "      <td>3340.969971</td>\n",
       "      <td>0.321</td>\n",
       "    </tr>\n",
       "  </tbody>\n",
       "</table>\n",
       "</div>"
      ],
      "text/plain": [
       "        start      day_30  day_30_stock_perc_diff      day_60  \\\n",
       "0   35.520000   44.500000                   0.253   39.090000   \n",
       "1   48.730000   69.239998                   0.421   64.839996   \n",
       "2  151.009995  175.300003                   0.161  191.500000   \n",
       "3   78.989998   48.860001                  -0.381   55.400002   \n",
       "4   19.690001   19.840000                   0.008   23.600000   \n",
       "\n",
       "   day_60_stock_perc_diff      day_90  day_90_stock_perc_diff     day_180  \\\n",
       "0                   0.101   46.740002                   0.316   46.910000   \n",
       "1                   0.331   63.360001                   0.300   61.130001   \n",
       "2                   0.268  189.479996                   0.255  208.389999   \n",
       "3                  -0.299   70.970001                  -0.102   80.239998   \n",
       "4                   0.199   25.980000                   0.319   32.160000   \n",
       "\n",
       "   day_180_stock_perc_diff     sp_start        sp_30  sp_30_sp_perc_diff  \\\n",
       "0                    0.321  2398.100098  2874.560059               0.199   \n",
       "1                    0.254  2447.330078  2797.800049               0.143   \n",
       "2                    0.380  2584.590088  2912.429932               0.127   \n",
       "3                    0.016  3337.750000  2237.399902              -0.330   \n",
       "4                    0.633  2529.189941  2799.550049               0.107   \n",
       "\n",
       "         sp_60  sp_60_sp_perc_diff        sp_90  sp_90_sp_perc_diff  \\\n",
       "0  2953.909912               0.232  3097.739990               0.292   \n",
       "1  2955.449951               0.208  3083.760010               0.260   \n",
       "2  3055.729980               0.182  3130.010010               0.211   \n",
       "3  2799.310059              -0.161  2991.770020              -0.104   \n",
       "4  2863.699951               0.132  3115.340088               0.232   \n",
       "\n",
       "        sp_180  sp_180_sp_perc_diff  \n",
       "0  3340.969971                0.393  \n",
       "1  3319.469971                0.356  \n",
       "2  3298.459961                0.276  \n",
       "3  3389.780029                0.016  \n",
       "4  3340.969971                0.321  "
      ]
     },
     "execution_count": 9,
     "metadata": {},
     "output_type": "execute_result"
    }
   ],
   "source": [
    "# Assign rearranged columns\n",
    "df = df[titles]\n",
    "# Display new columns in order\n",
    "df[df.columns[23:]].head()"
   ]
  },
  {
   "cell_type": "code",
   "execution_count": 12,
   "metadata": {},
   "outputs": [],
   "source": [
    "df.drop(columns = ['Unnamed: 0', 'party_y', 'donation_merge_key', \n",
    "                          'people', 'name', 'merge_key'], inplace = True)"
   ]
  },
  {
   "cell_type": "code",
   "execution_count": 13,
   "metadata": {},
   "outputs": [],
   "source": [
    "# Save updated DataFrame\n",
    "df.to_csv('../data/stock_percentage_difference.csv', index=False)"
   ]
  },
  {
   "cell_type": "markdown",
   "metadata": {},
   "source": [
    "\n",
    "References:\n",
    "1. Rearrange Columns - https://www.youtube.com/watch?v=Hvf67c2YTUw"
   ]
  },
  {
   "cell_type": "code",
   "execution_count": null,
   "metadata": {},
   "outputs": [],
   "source": []
  }
 ],
 "metadata": {
  "kernelspec": {
   "display_name": "Python 3",
   "language": "python",
   "name": "python3"
  },
  "language_info": {
   "codemirror_mode": {
    "name": "ipython",
    "version": 3
   },
   "file_extension": ".py",
   "mimetype": "text/x-python",
   "name": "python",
   "nbconvert_exporter": "python",
   "pygments_lexer": "ipython3",
   "version": "3.8.5"
  }
 },
 "nbformat": 4,
 "nbformat_minor": 5
}
