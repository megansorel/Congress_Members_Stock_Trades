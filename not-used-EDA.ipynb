{
 "cells": [
  {
   "cell_type": "markdown",
   "metadata": {},
   "source": [
    "# EDA - Chris - replaced by nathan chris data merge"
   ]
  },
  {
   "cell_type": "code",
   "execution_count": 113,
   "metadata": {},
   "outputs": [],
   "source": [
    "import pandas as pd\n",
    "import numpy as np\n",
    "import matplotlib.pyplot as plt\n",
    "import seaborn as sns\n",
    "\n",
    "#setting up random seed for project requirements \n",
    "np.random.seed(73)"
   ]
  },
  {
   "cell_type": "code",
   "execution_count": 114,
   "metadata": {},
   "outputs": [],
   "source": [
    "# reading in all members. Initial data exploration revealed '--' was used sometimes for null values.\n",
    "# We also know that there is date column 'transaction_date'\n",
    "senators = pd.read_csv('./data/senate_stocks.csv', index_col = 'senator', na_values = '--', \n",
    "                       parse_dates = ['transaction_date'])\n",
    "reps = pd.read_csv('./data/house_stocks.csv', index_col = 'representative', na_values = '--',\n",
    "                  parse_dates = ['transaction_date'])"
   ]
  },
  {
   "cell_type": "code",
   "execution_count": 115,
   "metadata": {
    "scrolled": true
   },
   "outputs": [
    {
     "data": {
      "text/plain": [
       "['transaction_date',\n",
       " 'owner',\n",
       " 'ticker',\n",
       " 'asset_description',\n",
       " 'asset_type',\n",
       " 'type',\n",
       " 'amount',\n",
       " 'comment',\n",
       " 'ptr_link']"
      ]
     },
     "execution_count": 115,
     "metadata": {},
     "output_type": "execute_result"
    }
   ],
   "source": [
    "list(senators.columns)"
   ]
  },
  {
   "cell_type": "code",
   "execution_count": 116,
   "metadata": {
    "scrolled": true
   },
   "outputs": [
    {
     "data": {
      "text/plain": [
       "['disclosure_year',\n",
       " 'disclosure_date',\n",
       " 'transaction_date',\n",
       " 'owner',\n",
       " 'ticker',\n",
       " 'asset_description',\n",
       " 'type',\n",
       " 'amount',\n",
       " 'district',\n",
       " 'ptr_link',\n",
       " 'cap_gains_over_200_usd']"
      ]
     },
     "execution_count": 116,
     "metadata": {},
     "output_type": "execute_result"
    }
   ],
   "source": [
    "list(reps.columns)"
   ]
  },
  {
   "cell_type": "markdown",
   "metadata": {},
   "source": [
    "**The shared columns in both files are transaction_date, owner, ticker, asset_description, amount, ptr_link. I am not sure about asset_type and type**"
   ]
  },
  {
   "cell_type": "code",
   "execution_count": 117,
   "metadata": {
    "scrolled": false
   },
   "outputs": [
    {
     "data": {
      "text/plain": [
       "transaction_date     datetime64[ns]\n",
       "owner                        object\n",
       "ticker                       object\n",
       "asset_description            object\n",
       "asset_type                   object\n",
       "type                         object\n",
       "amount                       object\n",
       "comment                      object\n",
       "ptr_link                     object\n",
       "dtype: object"
      ]
     },
     "execution_count": 117,
     "metadata": {},
     "output_type": "execute_result"
    }
   ],
   "source": [
    "# Check the date conversion for senators\n",
    "senators.dtypes"
   ]
  },
  {
   "cell_type": "code",
   "execution_count": 118,
   "metadata": {},
   "outputs": [
    {
     "data": {
      "text/plain": [
       "disclosure_year                    int64\n",
       "disclosure_date                   object\n",
       "transaction_date          datetime64[ns]\n",
       "owner                             object\n",
       "ticker                            object\n",
       "asset_description                 object\n",
       "type                              object\n",
       "amount                            object\n",
       "district                          object\n",
       "ptr_link                          object\n",
       "cap_gains_over_200_usd              bool\n",
       "dtype: object"
      ]
     },
     "execution_count": 118,
     "metadata": {},
     "output_type": "execute_result"
    }
   ],
   "source": [
    "# Check the date conversion for reps\n",
    "reps.dtypes"
   ]
  },
  {
   "cell_type": "code",
   "execution_count": 119,
   "metadata": {},
   "outputs": [
    {
     "data": {
      "text/html": [
       "<div>\n",
       "<style scoped>\n",
       "    .dataframe tbody tr th:only-of-type {\n",
       "        vertical-align: middle;\n",
       "    }\n",
       "\n",
       "    .dataframe tbody tr th {\n",
       "        vertical-align: top;\n",
       "    }\n",
       "\n",
       "    .dataframe thead th {\n",
       "        text-align: right;\n",
       "    }\n",
       "</style>\n",
       "<table border=\"1\" class=\"dataframe\">\n",
       "  <thead>\n",
       "    <tr style=\"text-align: right;\">\n",
       "      <th></th>\n",
       "      <th>transaction_date</th>\n",
       "      <th>owner</th>\n",
       "      <th>ticker</th>\n",
       "      <th>asset_description</th>\n",
       "      <th>asset_type</th>\n",
       "      <th>type</th>\n",
       "      <th>amount</th>\n",
       "      <th>comment</th>\n",
       "      <th>ptr_link</th>\n",
       "    </tr>\n",
       "    <tr>\n",
       "      <th>senator</th>\n",
       "      <th></th>\n",
       "      <th></th>\n",
       "      <th></th>\n",
       "      <th></th>\n",
       "      <th></th>\n",
       "      <th></th>\n",
       "      <th></th>\n",
       "      <th></th>\n",
       "      <th></th>\n",
       "    </tr>\n",
       "  </thead>\n",
       "  <tbody>\n",
       "    <tr>\n",
       "      <th>Thomas R Carper</th>\n",
       "      <td>2021-05-26</td>\n",
       "      <td>Spouse</td>\n",
       "      <td>NaN</td>\n",
       "      <td>HSBC Contingent Autocall BMY &lt;div class=\"text-...</td>\n",
       "      <td>Corporate Bond</td>\n",
       "      <td>Sale (Full)</td>\n",
       "      <td>$15,001 - $50,000</td>\n",
       "      <td>NaN</td>\n",
       "      <td>https://efdsearch.senate.gov/search/view/ptr/2...</td>\n",
       "    </tr>\n",
       "    <tr>\n",
       "      <th>Thomas R Carper</th>\n",
       "      <td>2021-05-26</td>\n",
       "      <td>Spouse</td>\n",
       "      <td>NaN</td>\n",
       "      <td>HSBC Contingent Autocall BMY &lt;div class=\"text-...</td>\n",
       "      <td>Corporate Bond</td>\n",
       "      <td>Sale (Full)</td>\n",
       "      <td>$15,001 - $50,000</td>\n",
       "      <td>NaN</td>\n",
       "      <td>https://efdsearch.senate.gov/search/view/ptr/2...</td>\n",
       "    </tr>\n",
       "    <tr>\n",
       "      <th>Thomas R Carper</th>\n",
       "      <td>2021-05-07</td>\n",
       "      <td>Spouse</td>\n",
       "      <td>NaN</td>\n",
       "      <td>CS Contingent Autocall CSCO &lt;div class=\"text-m...</td>\n",
       "      <td>Corporate Bond</td>\n",
       "      <td>Purchase</td>\n",
       "      <td>$15,001 - $50,000</td>\n",
       "      <td>NaN</td>\n",
       "      <td>https://efdsearch.senate.gov/search/view/ptr/2...</td>\n",
       "    </tr>\n",
       "    <tr>\n",
       "      <th>Mike Rounds</th>\n",
       "      <td>2021-05-01</td>\n",
       "      <td>Joint</td>\n",
       "      <td>NaN</td>\n",
       "      <td>Bird Dog Hospitality Fund 1, LLC &lt;div class=\"t...</td>\n",
       "      <td>Non-Public Stock</td>\n",
       "      <td>Purchase</td>\n",
       "      <td>$15,001 - $50,000</td>\n",
       "      <td>NaN</td>\n",
       "      <td>https://efdsearch.senate.gov/search/view/ptr/3...</td>\n",
       "    </tr>\n",
       "    <tr>\n",
       "      <th>Shelley M Capito</th>\n",
       "      <td>2021-04-26</td>\n",
       "      <td>Spouse</td>\n",
       "      <td>WFC</td>\n",
       "      <td>Wells Fargo &amp;amp; Company</td>\n",
       "      <td>Stock</td>\n",
       "      <td>Sale (Partial)</td>\n",
       "      <td>$1,001 - $15,000</td>\n",
       "      <td>NaN</td>\n",
       "      <td>https://efdsearch.senate.gov/search/view/ptr/8...</td>\n",
       "    </tr>\n",
       "  </tbody>\n",
       "</table>\n",
       "</div>"
      ],
      "text/plain": [
       "                 transaction_date   owner ticker  \\\n",
       "senator                                            \n",
       "Thomas R Carper        2021-05-26  Spouse    NaN   \n",
       "Thomas R Carper        2021-05-26  Spouse    NaN   \n",
       "Thomas R Carper        2021-05-07  Spouse    NaN   \n",
       "Mike Rounds            2021-05-01   Joint    NaN   \n",
       "Shelley M Capito       2021-04-26  Spouse    WFC   \n",
       "\n",
       "                                                  asset_description  \\\n",
       "senator                                                               \n",
       "Thomas R Carper   HSBC Contingent Autocall BMY <div class=\"text-...   \n",
       "Thomas R Carper   HSBC Contingent Autocall BMY <div class=\"text-...   \n",
       "Thomas R Carper   CS Contingent Autocall CSCO <div class=\"text-m...   \n",
       "Mike Rounds       Bird Dog Hospitality Fund 1, LLC <div class=\"t...   \n",
       "Shelley M Capito                          Wells Fargo &amp; Company   \n",
       "\n",
       "                        asset_type            type             amount comment  \\\n",
       "senator                                                                         \n",
       "Thomas R Carper     Corporate Bond     Sale (Full)  $15,001 - $50,000     NaN   \n",
       "Thomas R Carper     Corporate Bond     Sale (Full)  $15,001 - $50,000     NaN   \n",
       "Thomas R Carper     Corporate Bond        Purchase  $15,001 - $50,000     NaN   \n",
       "Mike Rounds       Non-Public Stock        Purchase  $15,001 - $50,000     NaN   \n",
       "Shelley M Capito             Stock  Sale (Partial)   $1,001 - $15,000     NaN   \n",
       "\n",
       "                                                           ptr_link  \n",
       "senator                                                              \n",
       "Thomas R Carper   https://efdsearch.senate.gov/search/view/ptr/2...  \n",
       "Thomas R Carper   https://efdsearch.senate.gov/search/view/ptr/2...  \n",
       "Thomas R Carper   https://efdsearch.senate.gov/search/view/ptr/2...  \n",
       "Mike Rounds       https://efdsearch.senate.gov/search/view/ptr/3...  \n",
       "Shelley M Capito  https://efdsearch.senate.gov/search/view/ptr/8...  "
      ]
     },
     "execution_count": 119,
     "metadata": {},
     "output_type": "execute_result"
    }
   ],
   "source": [
    "# Look at the dataframe, especially transaction_date, type, asset_type\n",
    "senators.head()"
   ]
  },
  {
   "cell_type": "code",
   "execution_count": 120,
   "metadata": {},
   "outputs": [
    {
     "data": {
      "text/html": [
       "<div>\n",
       "<style scoped>\n",
       "    .dataframe tbody tr th:only-of-type {\n",
       "        vertical-align: middle;\n",
       "    }\n",
       "\n",
       "    .dataframe tbody tr th {\n",
       "        vertical-align: top;\n",
       "    }\n",
       "\n",
       "    .dataframe thead th {\n",
       "        text-align: right;\n",
       "    }\n",
       "</style>\n",
       "<table border=\"1\" class=\"dataframe\">\n",
       "  <thead>\n",
       "    <tr style=\"text-align: right;\">\n",
       "      <th></th>\n",
       "      <th>disclosure_year</th>\n",
       "      <th>disclosure_date</th>\n",
       "      <th>transaction_date</th>\n",
       "      <th>owner</th>\n",
       "      <th>ticker</th>\n",
       "      <th>asset_description</th>\n",
       "      <th>type</th>\n",
       "      <th>amount</th>\n",
       "      <th>district</th>\n",
       "      <th>ptr_link</th>\n",
       "      <th>cap_gains_over_200_usd</th>\n",
       "    </tr>\n",
       "    <tr>\n",
       "      <th>representative</th>\n",
       "      <th></th>\n",
       "      <th></th>\n",
       "      <th></th>\n",
       "      <th></th>\n",
       "      <th></th>\n",
       "      <th></th>\n",
       "      <th></th>\n",
       "      <th></th>\n",
       "      <th></th>\n",
       "      <th></th>\n",
       "      <th></th>\n",
       "    </tr>\n",
       "  </thead>\n",
       "  <tbody>\n",
       "    <tr>\n",
       "      <th>Hon. Susie Lee</th>\n",
       "      <td>2020</td>\n",
       "      <td>04/28/2020</td>\n",
       "      <td>2020-02-24</td>\n",
       "      <td>joint</td>\n",
       "      <td>BHC</td>\n",
       "      <td>Bausch Health Companies Inc.</td>\n",
       "      <td>purchase</td>\n",
       "      <td>$1,001 - $15,000</td>\n",
       "      <td>NV03</td>\n",
       "      <td>https://disclosures-clerk.house.gov/public_dis...</td>\n",
       "      <td>False</td>\n",
       "    </tr>\n",
       "    <tr>\n",
       "      <th>Hon. Susie Lee</th>\n",
       "      <td>2020</td>\n",
       "      <td>04/28/2020</td>\n",
       "      <td>2020-03-06</td>\n",
       "      <td>joint</td>\n",
       "      <td>BAH</td>\n",
       "      <td>Booz Allen Hamilton Holding Corporation</td>\n",
       "      <td>sale_full</td>\n",
       "      <td>$1,001 - $15,000</td>\n",
       "      <td>NV03</td>\n",
       "      <td>https://disclosures-clerk.house.gov/public_dis...</td>\n",
       "      <td>True</td>\n",
       "    </tr>\n",
       "    <tr>\n",
       "      <th>Hon. Susie Lee</th>\n",
       "      <td>2020</td>\n",
       "      <td>04/28/2020</td>\n",
       "      <td>2020-03-23</td>\n",
       "      <td>joint</td>\n",
       "      <td>BYD</td>\n",
       "      <td>Boyd Gaming Corporation</td>\n",
       "      <td>sale_full</td>\n",
       "      <td>$1,001 - $15,000</td>\n",
       "      <td>NV03</td>\n",
       "      <td>https://disclosures-clerk.house.gov/public_dis...</td>\n",
       "      <td>False</td>\n",
       "    </tr>\n",
       "    <tr>\n",
       "      <th>Hon. Susie Lee</th>\n",
       "      <td>2020</td>\n",
       "      <td>04/28/2020</td>\n",
       "      <td>2020-02-04</td>\n",
       "      <td>joint</td>\n",
       "      <td>CTLT</td>\n",
       "      <td>Catalent, Inc.</td>\n",
       "      <td>purchase</td>\n",
       "      <td>$1,001 - $15,000</td>\n",
       "      <td>NV03</td>\n",
       "      <td>https://disclosures-clerk.house.gov/public_dis...</td>\n",
       "      <td>False</td>\n",
       "    </tr>\n",
       "    <tr>\n",
       "      <th>Hon. Susie Lee</th>\n",
       "      <td>2020</td>\n",
       "      <td>04/28/2020</td>\n",
       "      <td>2020-03-18</td>\n",
       "      <td>joint</td>\n",
       "      <td>CBRE</td>\n",
       "      <td>CBRE Group Inc Common Stock Class A</td>\n",
       "      <td>sale_partial</td>\n",
       "      <td>$1,001 - $15,000</td>\n",
       "      <td>NV03</td>\n",
       "      <td>https://disclosures-clerk.house.gov/public_dis...</td>\n",
       "      <td>False</td>\n",
       "    </tr>\n",
       "  </tbody>\n",
       "</table>\n",
       "</div>"
      ],
      "text/plain": [
       "                disclosure_year disclosure_date transaction_date  owner  \\\n",
       "representative                                                            \n",
       "Hon. Susie Lee             2020      04/28/2020       2020-02-24  joint   \n",
       "Hon. Susie Lee             2020      04/28/2020       2020-03-06  joint   \n",
       "Hon. Susie Lee             2020      04/28/2020       2020-03-23  joint   \n",
       "Hon. Susie Lee             2020      04/28/2020       2020-02-04  joint   \n",
       "Hon. Susie Lee             2020      04/28/2020       2020-03-18  joint   \n",
       "\n",
       "               ticker                        asset_description          type  \\\n",
       "representative                                                                 \n",
       "Hon. Susie Lee    BHC             Bausch Health Companies Inc.      purchase   \n",
       "Hon. Susie Lee    BAH  Booz Allen Hamilton Holding Corporation     sale_full   \n",
       "Hon. Susie Lee    BYD                  Boyd Gaming Corporation     sale_full   \n",
       "Hon. Susie Lee   CTLT                           Catalent, Inc.      purchase   \n",
       "Hon. Susie Lee   CBRE      CBRE Group Inc Common Stock Class A  sale_partial   \n",
       "\n",
       "                          amount district  \\\n",
       "representative                              \n",
       "Hon. Susie Lee  $1,001 - $15,000     NV03   \n",
       "Hon. Susie Lee  $1,001 - $15,000     NV03   \n",
       "Hon. Susie Lee  $1,001 - $15,000     NV03   \n",
       "Hon. Susie Lee  $1,001 - $15,000     NV03   \n",
       "Hon. Susie Lee  $1,001 - $15,000     NV03   \n",
       "\n",
       "                                                         ptr_link  \\\n",
       "representative                                                      \n",
       "Hon. Susie Lee  https://disclosures-clerk.house.gov/public_dis...   \n",
       "Hon. Susie Lee  https://disclosures-clerk.house.gov/public_dis...   \n",
       "Hon. Susie Lee  https://disclosures-clerk.house.gov/public_dis...   \n",
       "Hon. Susie Lee  https://disclosures-clerk.house.gov/public_dis...   \n",
       "Hon. Susie Lee  https://disclosures-clerk.house.gov/public_dis...   \n",
       "\n",
       "                cap_gains_over_200_usd  \n",
       "representative                          \n",
       "Hon. Susie Lee                   False  \n",
       "Hon. Susie Lee                    True  \n",
       "Hon. Susie Lee                   False  \n",
       "Hon. Susie Lee                   False  \n",
       "Hon. Susie Lee                   False  "
      ]
     },
     "execution_count": 120,
     "metadata": {},
     "output_type": "execute_result"
    }
   ],
   "source": [
    "# Look at the dataframe, especially transaction_date, type\n",
    "reps.head()"
   ]
  },
  {
   "cell_type": "markdown",
   "metadata": {},
   "source": [
    "**Conclusions**: transaction date conversion worked. Asset type is not in representative data. Type needs to be standardized, different in both dataframes, but same information."
   ]
  },
  {
   "cell_type": "markdown",
   "metadata": {},
   "source": [
    "### Reduce to columns shared between dataframes"
   ]
  },
  {
   "cell_type": "code",
   "execution_count": 121,
   "metadata": {},
   "outputs": [],
   "source": [
    "senators = senators[['transaction_date', 'owner', 'ticker', 'asset_description', 'amount', 'ptr_link', 'type']]"
   ]
  },
  {
   "cell_type": "code",
   "execution_count": 122,
   "metadata": {
    "scrolled": true
   },
   "outputs": [
    {
     "data": {
      "text/html": [
       "<div>\n",
       "<style scoped>\n",
       "    .dataframe tbody tr th:only-of-type {\n",
       "        vertical-align: middle;\n",
       "    }\n",
       "\n",
       "    .dataframe tbody tr th {\n",
       "        vertical-align: top;\n",
       "    }\n",
       "\n",
       "    .dataframe thead th {\n",
       "        text-align: right;\n",
       "    }\n",
       "</style>\n",
       "<table border=\"1\" class=\"dataframe\">\n",
       "  <thead>\n",
       "    <tr style=\"text-align: right;\">\n",
       "      <th></th>\n",
       "      <th>transaction_date</th>\n",
       "      <th>owner</th>\n",
       "      <th>ticker</th>\n",
       "      <th>asset_description</th>\n",
       "      <th>amount</th>\n",
       "      <th>ptr_link</th>\n",
       "      <th>type</th>\n",
       "    </tr>\n",
       "    <tr>\n",
       "      <th>senator</th>\n",
       "      <th></th>\n",
       "      <th></th>\n",
       "      <th></th>\n",
       "      <th></th>\n",
       "      <th></th>\n",
       "      <th></th>\n",
       "      <th></th>\n",
       "    </tr>\n",
       "  </thead>\n",
       "  <tbody>\n",
       "    <tr>\n",
       "      <th>Thomas R Carper</th>\n",
       "      <td>2021-05-26</td>\n",
       "      <td>Spouse</td>\n",
       "      <td>NaN</td>\n",
       "      <td>HSBC Contingent Autocall BMY &lt;div class=\"text-...</td>\n",
       "      <td>$15,001 - $50,000</td>\n",
       "      <td>https://efdsearch.senate.gov/search/view/ptr/2...</td>\n",
       "      <td>Sale (Full)</td>\n",
       "    </tr>\n",
       "    <tr>\n",
       "      <th>Thomas R Carper</th>\n",
       "      <td>2021-05-26</td>\n",
       "      <td>Spouse</td>\n",
       "      <td>NaN</td>\n",
       "      <td>HSBC Contingent Autocall BMY &lt;div class=\"text-...</td>\n",
       "      <td>$15,001 - $50,000</td>\n",
       "      <td>https://efdsearch.senate.gov/search/view/ptr/2...</td>\n",
       "      <td>Sale (Full)</td>\n",
       "    </tr>\n",
       "    <tr>\n",
       "      <th>Thomas R Carper</th>\n",
       "      <td>2021-05-07</td>\n",
       "      <td>Spouse</td>\n",
       "      <td>NaN</td>\n",
       "      <td>CS Contingent Autocall CSCO &lt;div class=\"text-m...</td>\n",
       "      <td>$15,001 - $50,000</td>\n",
       "      <td>https://efdsearch.senate.gov/search/view/ptr/2...</td>\n",
       "      <td>Purchase</td>\n",
       "    </tr>\n",
       "    <tr>\n",
       "      <th>Mike Rounds</th>\n",
       "      <td>2021-05-01</td>\n",
       "      <td>Joint</td>\n",
       "      <td>NaN</td>\n",
       "      <td>Bird Dog Hospitality Fund 1, LLC &lt;div class=\"t...</td>\n",
       "      <td>$15,001 - $50,000</td>\n",
       "      <td>https://efdsearch.senate.gov/search/view/ptr/3...</td>\n",
       "      <td>Purchase</td>\n",
       "    </tr>\n",
       "    <tr>\n",
       "      <th>Shelley M Capito</th>\n",
       "      <td>2021-04-26</td>\n",
       "      <td>Spouse</td>\n",
       "      <td>WFC</td>\n",
       "      <td>Wells Fargo &amp;amp; Company</td>\n",
       "      <td>$1,001 - $15,000</td>\n",
       "      <td>https://efdsearch.senate.gov/search/view/ptr/8...</td>\n",
       "      <td>Sale (Partial)</td>\n",
       "    </tr>\n",
       "  </tbody>\n",
       "</table>\n",
       "</div>"
      ],
      "text/plain": [
       "                 transaction_date   owner ticker  \\\n",
       "senator                                            \n",
       "Thomas R Carper        2021-05-26  Spouse    NaN   \n",
       "Thomas R Carper        2021-05-26  Spouse    NaN   \n",
       "Thomas R Carper        2021-05-07  Spouse    NaN   \n",
       "Mike Rounds            2021-05-01   Joint    NaN   \n",
       "Shelley M Capito       2021-04-26  Spouse    WFC   \n",
       "\n",
       "                                                  asset_description  \\\n",
       "senator                                                               \n",
       "Thomas R Carper   HSBC Contingent Autocall BMY <div class=\"text-...   \n",
       "Thomas R Carper   HSBC Contingent Autocall BMY <div class=\"text-...   \n",
       "Thomas R Carper   CS Contingent Autocall CSCO <div class=\"text-m...   \n",
       "Mike Rounds       Bird Dog Hospitality Fund 1, LLC <div class=\"t...   \n",
       "Shelley M Capito                          Wells Fargo &amp; Company   \n",
       "\n",
       "                             amount  \\\n",
       "senator                               \n",
       "Thomas R Carper   $15,001 - $50,000   \n",
       "Thomas R Carper   $15,001 - $50,000   \n",
       "Thomas R Carper   $15,001 - $50,000   \n",
       "Mike Rounds       $15,001 - $50,000   \n",
       "Shelley M Capito   $1,001 - $15,000   \n",
       "\n",
       "                                                           ptr_link  \\\n",
       "senator                                                               \n",
       "Thomas R Carper   https://efdsearch.senate.gov/search/view/ptr/2...   \n",
       "Thomas R Carper   https://efdsearch.senate.gov/search/view/ptr/2...   \n",
       "Thomas R Carper   https://efdsearch.senate.gov/search/view/ptr/2...   \n",
       "Mike Rounds       https://efdsearch.senate.gov/search/view/ptr/3...   \n",
       "Shelley M Capito  https://efdsearch.senate.gov/search/view/ptr/8...   \n",
       "\n",
       "                            type  \n",
       "senator                           \n",
       "Thomas R Carper      Sale (Full)  \n",
       "Thomas R Carper      Sale (Full)  \n",
       "Thomas R Carper         Purchase  \n",
       "Mike Rounds             Purchase  \n",
       "Shelley M Capito  Sale (Partial)  "
      ]
     },
     "execution_count": 122,
     "metadata": {},
     "output_type": "execute_result"
    }
   ],
   "source": [
    "senators.head()"
   ]
  },
  {
   "cell_type": "code",
   "execution_count": 123,
   "metadata": {},
   "outputs": [],
   "source": [
    "reps = reps[['transaction_date', 'owner', 'ticker', 'asset_description', 'amount', 'ptr_link', 'type']]"
   ]
  },
  {
   "cell_type": "code",
   "execution_count": 124,
   "metadata": {},
   "outputs": [
    {
     "data": {
      "text/html": [
       "<div>\n",
       "<style scoped>\n",
       "    .dataframe tbody tr th:only-of-type {\n",
       "        vertical-align: middle;\n",
       "    }\n",
       "\n",
       "    .dataframe tbody tr th {\n",
       "        vertical-align: top;\n",
       "    }\n",
       "\n",
       "    .dataframe thead th {\n",
       "        text-align: right;\n",
       "    }\n",
       "</style>\n",
       "<table border=\"1\" class=\"dataframe\">\n",
       "  <thead>\n",
       "    <tr style=\"text-align: right;\">\n",
       "      <th></th>\n",
       "      <th>transaction_date</th>\n",
       "      <th>owner</th>\n",
       "      <th>ticker</th>\n",
       "      <th>asset_description</th>\n",
       "      <th>amount</th>\n",
       "      <th>ptr_link</th>\n",
       "      <th>type</th>\n",
       "    </tr>\n",
       "    <tr>\n",
       "      <th>representative</th>\n",
       "      <th></th>\n",
       "      <th></th>\n",
       "      <th></th>\n",
       "      <th></th>\n",
       "      <th></th>\n",
       "      <th></th>\n",
       "      <th></th>\n",
       "    </tr>\n",
       "  </thead>\n",
       "  <tbody>\n",
       "    <tr>\n",
       "      <th>Hon. Susie Lee</th>\n",
       "      <td>2020-02-24</td>\n",
       "      <td>joint</td>\n",
       "      <td>BHC</td>\n",
       "      <td>Bausch Health Companies Inc.</td>\n",
       "      <td>$1,001 - $15,000</td>\n",
       "      <td>https://disclosures-clerk.house.gov/public_dis...</td>\n",
       "      <td>purchase</td>\n",
       "    </tr>\n",
       "    <tr>\n",
       "      <th>Hon. Susie Lee</th>\n",
       "      <td>2020-03-06</td>\n",
       "      <td>joint</td>\n",
       "      <td>BAH</td>\n",
       "      <td>Booz Allen Hamilton Holding Corporation</td>\n",
       "      <td>$1,001 - $15,000</td>\n",
       "      <td>https://disclosures-clerk.house.gov/public_dis...</td>\n",
       "      <td>sale_full</td>\n",
       "    </tr>\n",
       "    <tr>\n",
       "      <th>Hon. Susie Lee</th>\n",
       "      <td>2020-03-23</td>\n",
       "      <td>joint</td>\n",
       "      <td>BYD</td>\n",
       "      <td>Boyd Gaming Corporation</td>\n",
       "      <td>$1,001 - $15,000</td>\n",
       "      <td>https://disclosures-clerk.house.gov/public_dis...</td>\n",
       "      <td>sale_full</td>\n",
       "    </tr>\n",
       "    <tr>\n",
       "      <th>Hon. Susie Lee</th>\n",
       "      <td>2020-02-04</td>\n",
       "      <td>joint</td>\n",
       "      <td>CTLT</td>\n",
       "      <td>Catalent, Inc.</td>\n",
       "      <td>$1,001 - $15,000</td>\n",
       "      <td>https://disclosures-clerk.house.gov/public_dis...</td>\n",
       "      <td>purchase</td>\n",
       "    </tr>\n",
       "    <tr>\n",
       "      <th>Hon. Susie Lee</th>\n",
       "      <td>2020-03-18</td>\n",
       "      <td>joint</td>\n",
       "      <td>CBRE</td>\n",
       "      <td>CBRE Group Inc Common Stock Class A</td>\n",
       "      <td>$1,001 - $15,000</td>\n",
       "      <td>https://disclosures-clerk.house.gov/public_dis...</td>\n",
       "      <td>sale_partial</td>\n",
       "    </tr>\n",
       "  </tbody>\n",
       "</table>\n",
       "</div>"
      ],
      "text/plain": [
       "               transaction_date  owner ticker  \\\n",
       "representative                                  \n",
       "Hon. Susie Lee       2020-02-24  joint    BHC   \n",
       "Hon. Susie Lee       2020-03-06  joint    BAH   \n",
       "Hon. Susie Lee       2020-03-23  joint    BYD   \n",
       "Hon. Susie Lee       2020-02-04  joint   CTLT   \n",
       "Hon. Susie Lee       2020-03-18  joint   CBRE   \n",
       "\n",
       "                                      asset_description            amount  \\\n",
       "representative                                                              \n",
       "Hon. Susie Lee             Bausch Health Companies Inc.  $1,001 - $15,000   \n",
       "Hon. Susie Lee  Booz Allen Hamilton Holding Corporation  $1,001 - $15,000   \n",
       "Hon. Susie Lee                  Boyd Gaming Corporation  $1,001 - $15,000   \n",
       "Hon. Susie Lee                           Catalent, Inc.  $1,001 - $15,000   \n",
       "Hon. Susie Lee      CBRE Group Inc Common Stock Class A  $1,001 - $15,000   \n",
       "\n",
       "                                                         ptr_link  \\\n",
       "representative                                                      \n",
       "Hon. Susie Lee  https://disclosures-clerk.house.gov/public_dis...   \n",
       "Hon. Susie Lee  https://disclosures-clerk.house.gov/public_dis...   \n",
       "Hon. Susie Lee  https://disclosures-clerk.house.gov/public_dis...   \n",
       "Hon. Susie Lee  https://disclosures-clerk.house.gov/public_dis...   \n",
       "Hon. Susie Lee  https://disclosures-clerk.house.gov/public_dis...   \n",
       "\n",
       "                        type  \n",
       "representative                \n",
       "Hon. Susie Lee      purchase  \n",
       "Hon. Susie Lee     sale_full  \n",
       "Hon. Susie Lee     sale_full  \n",
       "Hon. Susie Lee      purchase  \n",
       "Hon. Susie Lee  sale_partial  "
      ]
     },
     "execution_count": 124,
     "metadata": {},
     "output_type": "execute_result"
    }
   ],
   "source": [
    "reps.head()"
   ]
  },
  {
   "cell_type": "markdown",
   "metadata": {},
   "source": [
    "### Standardize type column"
   ]
  },
  {
   "cell_type": "code",
   "execution_count": 125,
   "metadata": {
    "scrolled": false
   },
   "outputs": [
    {
     "data": {
      "text/plain": [
       "Purchase          4200\n",
       "Sale (Full)       2064\n",
       "Sale (Partial)    1735\n",
       "Exchange            93\n",
       "Name: type, dtype: int64"
      ]
     },
     "execution_count": 125,
     "metadata": {},
     "output_type": "execute_result"
    }
   ],
   "source": [
    "senators['type'].value_counts()"
   ]
  },
  {
   "cell_type": "code",
   "execution_count": 126,
   "metadata": {
    "scrolled": true
   },
   "outputs": [
    {
     "data": {
      "text/plain": [
       "purchase        5114\n",
       "sale_full       3283\n",
       "sale_partial    1659\n",
       "exchange          99\n",
       "Name: type, dtype: int64"
      ]
     },
     "execution_count": 126,
     "metadata": {},
     "output_type": "execute_result"
    }
   ],
   "source": [
    "reps['type'].value_counts()"
   ]
  },
  {
   "cell_type": "code",
   "execution_count": 127,
   "metadata": {
    "scrolled": true
   },
   "outputs": [],
   "source": [
    "senators.loc[senators['type'] == 'Purchase', 'type'] = 'purchase'"
   ]
  },
  {
   "cell_type": "code",
   "execution_count": 128,
   "metadata": {},
   "outputs": [],
   "source": [
    "senators.loc[senators['type'] == 'Sale (Full)', 'type'] = 'sale_full'"
   ]
  },
  {
   "cell_type": "code",
   "execution_count": 129,
   "metadata": {},
   "outputs": [],
   "source": [
    "senators.loc[senators['type'] == 'Sale (Partial)', 'type'] = 'sale_partial'"
   ]
  },
  {
   "cell_type": "code",
   "execution_count": 130,
   "metadata": {},
   "outputs": [],
   "source": [
    "senators.loc[senators['type'] == 'Exchange', 'type'] = 'exchange'"
   ]
  },
  {
   "cell_type": "code",
   "execution_count": 131,
   "metadata": {
    "scrolled": false
   },
   "outputs": [
    {
     "data": {
      "text/plain": [
       "purchase        4200\n",
       "sale_full       2064\n",
       "sale_partial    1735\n",
       "exchange          93\n",
       "Name: type, dtype: int64"
      ]
     },
     "execution_count": 131,
     "metadata": {},
     "output_type": "execute_result"
    }
   ],
   "source": [
    "senators['type'].value_counts()"
   ]
  },
  {
   "cell_type": "code",
   "execution_count": 132,
   "metadata": {
    "scrolled": true
   },
   "outputs": [
    {
     "data": {
      "text/plain": [
       "purchase        5114\n",
       "sale_full       3283\n",
       "sale_partial    1659\n",
       "exchange          99\n",
       "Name: type, dtype: int64"
      ]
     },
     "execution_count": 132,
     "metadata": {},
     "output_type": "execute_result"
    }
   ],
   "source": [
    "reps['type'].value_counts()"
   ]
  },
  {
   "cell_type": "code",
   "execution_count": 133,
   "metadata": {},
   "outputs": [
    {
     "data": {
      "text/plain": [
       "senator\n",
       "Lamar Alexander     2012-06-14\n",
       "Benjamin L Cardin   2012-07-25\n",
       "Thomas R Carper     2012-08-02\n",
       "Robert J Portman    2012-08-15\n",
       "Pat Roberts         2012-08-16\n",
       "                       ...    \n",
       "Mike Rounds         2021-05-01\n",
       "Thomas R Carper     2021-05-07\n",
       "Richard M Burr      2021-05-17\n",
       "Thomas R Carper     2021-05-26\n",
       "Thomas R Carper     2021-05-26\n",
       "Name: transaction_date, Length: 8556, dtype: datetime64[ns]"
      ]
     },
     "execution_count": 133,
     "metadata": {},
     "output_type": "execute_result"
    }
   ],
   "source": [
    "senators['transaction_date'].sort_values()"
   ]
  },
  {
   "cell_type": "markdown",
   "metadata": {},
   "source": [
    "**Conclusion**: Dataset runs from June 2012 to May 2021"
   ]
  },
  {
   "cell_type": "code",
   "execution_count": 134,
   "metadata": {
    "scrolled": true
   },
   "outputs": [
    {
     "data": {
      "text/plain": [
       "representative\n",
       "Hon. Carol Devine Miller   2018-12-27\n",
       "Hon. Donna Shalala         2019-01-09\n",
       "Hon. Donna Shalala         2019-01-09\n",
       "Hon. Donna Shalala         2019-01-09\n",
       "Hon. Donna Shalala         2019-01-09\n",
       "                              ...    \n",
       "Hon. Mo Brooks             2021-05-14\n",
       "Hon. Hakeem S. Jeffries    2021-05-17\n",
       "Hon. Bob Gibbs             2021-05-25\n",
       "Hon. Bob Gibbs             2021-05-25\n",
       "Hon. Bob Gibbs             2021-05-25\n",
       "Name: transaction_date, Length: 10155, dtype: datetime64[ns]"
      ]
     },
     "execution_count": 134,
     "metadata": {},
     "output_type": "execute_result"
    }
   ],
   "source": [
    "reps['transaction_date'].sort_values()"
   ]
  },
  {
   "cell_type": "markdown",
   "metadata": {},
   "source": [
    "**Conclusion**: dataset runs from December 2018 to May 2021"
   ]
  },
  {
   "cell_type": "code",
   "execution_count": 135,
   "metadata": {},
   "outputs": [],
   "source": [
    "#concatting all files\n",
    "\n",
    "df = pd.concat([senators, reps])"
   ]
  },
  {
   "cell_type": "code",
   "execution_count": 136,
   "metadata": {
    "scrolled": true
   },
   "outputs": [
    {
     "data": {
      "text/html": [
       "<div>\n",
       "<style scoped>\n",
       "    .dataframe tbody tr th:only-of-type {\n",
       "        vertical-align: middle;\n",
       "    }\n",
       "\n",
       "    .dataframe tbody tr th {\n",
       "        vertical-align: top;\n",
       "    }\n",
       "\n",
       "    .dataframe thead th {\n",
       "        text-align: right;\n",
       "    }\n",
       "</style>\n",
       "<table border=\"1\" class=\"dataframe\">\n",
       "  <thead>\n",
       "    <tr style=\"text-align: right;\">\n",
       "      <th></th>\n",
       "      <th>transaction_date</th>\n",
       "      <th>owner</th>\n",
       "      <th>ticker</th>\n",
       "      <th>asset_description</th>\n",
       "      <th>amount</th>\n",
       "      <th>ptr_link</th>\n",
       "      <th>type</th>\n",
       "    </tr>\n",
       "  </thead>\n",
       "  <tbody>\n",
       "    <tr>\n",
       "      <th>Thomas R Carper</th>\n",
       "      <td>2021-05-26</td>\n",
       "      <td>Spouse</td>\n",
       "      <td>NaN</td>\n",
       "      <td>HSBC Contingent Autocall BMY &lt;div class=\"text-...</td>\n",
       "      <td>$15,001 - $50,000</td>\n",
       "      <td>https://efdsearch.senate.gov/search/view/ptr/2...</td>\n",
       "      <td>sale_full</td>\n",
       "    </tr>\n",
       "    <tr>\n",
       "      <th>Thomas R Carper</th>\n",
       "      <td>2021-05-26</td>\n",
       "      <td>Spouse</td>\n",
       "      <td>NaN</td>\n",
       "      <td>HSBC Contingent Autocall BMY &lt;div class=\"text-...</td>\n",
       "      <td>$15,001 - $50,000</td>\n",
       "      <td>https://efdsearch.senate.gov/search/view/ptr/2...</td>\n",
       "      <td>sale_full</td>\n",
       "    </tr>\n",
       "    <tr>\n",
       "      <th>Thomas R Carper</th>\n",
       "      <td>2021-05-07</td>\n",
       "      <td>Spouse</td>\n",
       "      <td>NaN</td>\n",
       "      <td>CS Contingent Autocall CSCO &lt;div class=\"text-m...</td>\n",
       "      <td>$15,001 - $50,000</td>\n",
       "      <td>https://efdsearch.senate.gov/search/view/ptr/2...</td>\n",
       "      <td>purchase</td>\n",
       "    </tr>\n",
       "    <tr>\n",
       "      <th>Mike Rounds</th>\n",
       "      <td>2021-05-01</td>\n",
       "      <td>Joint</td>\n",
       "      <td>NaN</td>\n",
       "      <td>Bird Dog Hospitality Fund 1, LLC &lt;div class=\"t...</td>\n",
       "      <td>$15,001 - $50,000</td>\n",
       "      <td>https://efdsearch.senate.gov/search/view/ptr/3...</td>\n",
       "      <td>purchase</td>\n",
       "    </tr>\n",
       "    <tr>\n",
       "      <th>Shelley M Capito</th>\n",
       "      <td>2021-04-26</td>\n",
       "      <td>Spouse</td>\n",
       "      <td>WFC</td>\n",
       "      <td>Wells Fargo &amp;amp; Company</td>\n",
       "      <td>$1,001 - $15,000</td>\n",
       "      <td>https://efdsearch.senate.gov/search/view/ptr/8...</td>\n",
       "      <td>sale_partial</td>\n",
       "    </tr>\n",
       "    <tr>\n",
       "      <th>Jerry Moran,</th>\n",
       "      <td>2020-04-01</td>\n",
       "      <td>Joint</td>\n",
       "      <td>VZ</td>\n",
       "      <td>Verizon Communications Inc. (Exchanged) &lt;br&gt; T...</td>\n",
       "      <td>$1,001 - $15,000</td>\n",
       "      <td>https://efdsearch.senate.gov/search/view/ptr/1...</td>\n",
       "      <td>exchange</td>\n",
       "    </tr>\n",
       "    <tr>\n",
       "      <th>Richard M Burr</th>\n",
       "      <td>2021-05-17</td>\n",
       "      <td>NaN</td>\n",
       "      <td>NaN</td>\n",
       "      <td>This filing was disclosed via scanned PDF. Use...</td>\n",
       "      <td>Unknown</td>\n",
       "      <td>https://efdsearch.senate.gov/search/view/paper...</td>\n",
       "      <td>NaN</td>\n",
       "    </tr>\n",
       "    <tr>\n",
       "      <th>Susan M Collins</th>\n",
       "      <td>2021-04-29</td>\n",
       "      <td>Spouse</td>\n",
       "      <td>NaN</td>\n",
       "      <td>ME St Muni Bond Bank 56045RWK1 &lt;div class=\"tex...</td>\n",
       "      <td>$15,001 - $50,000</td>\n",
       "      <td>https://efdsearch.senate.gov/search/view/ptr/b...</td>\n",
       "      <td>purchase</td>\n",
       "    </tr>\n",
       "    <tr>\n",
       "      <th>Susan M Collins</th>\n",
       "      <td>2021-04-29</td>\n",
       "      <td>Spouse</td>\n",
       "      <td>NaN</td>\n",
       "      <td>ME St Health &amp;amp; Higher Ed 560427VR4 &lt;div cl...</td>\n",
       "      <td>$50,001 - $100,000</td>\n",
       "      <td>https://efdsearch.senate.gov/search/view/ptr/b...</td>\n",
       "      <td>purchase</td>\n",
       "    </tr>\n",
       "    <tr>\n",
       "      <th>Tina Smith</th>\n",
       "      <td>2021-04-11</td>\n",
       "      <td>Spouse</td>\n",
       "      <td>NaN</td>\n",
       "      <td>Surgical Information Sciences &lt;div class=\"text...</td>\n",
       "      <td>$1,001 - $15,000</td>\n",
       "      <td>https://efdsearch.senate.gov/search/view/ptr/1...</td>\n",
       "      <td>purchase</td>\n",
       "    </tr>\n",
       "    <tr>\n",
       "      <th>John Boozman</th>\n",
       "      <td>2021-04-22</td>\n",
       "      <td>Self</td>\n",
       "      <td>IWM</td>\n",
       "      <td>iShares Russell 2000 ETF</td>\n",
       "      <td>$1,001 - $15,000</td>\n",
       "      <td>https://efdsearch.senate.gov/search/view/paper...</td>\n",
       "      <td>sale_full</td>\n",
       "    </tr>\n",
       "    <tr>\n",
       "      <th>John Boozman</th>\n",
       "      <td>2021-04-22</td>\n",
       "      <td>Self</td>\n",
       "      <td>NaN</td>\n",
       "      <td>Advisory Inner Circle FD Westwood Sm Y</td>\n",
       "      <td>$1,001 - $15,000</td>\n",
       "      <td>https://efdsearch.senate.gov/search/view/paper...</td>\n",
       "      <td>purchase</td>\n",
       "    </tr>\n",
       "    <tr>\n",
       "      <th>William F Hagerty, Iv</th>\n",
       "      <td>2021-04-20</td>\n",
       "      <td>Self</td>\n",
       "      <td>NTRA</td>\n",
       "      <td>Natera, Inc.</td>\n",
       "      <td>$1,001 - $15,000</td>\n",
       "      <td>https://efdsearch.senate.gov/search/view/ptr/5...</td>\n",
       "      <td>sale_partial</td>\n",
       "    </tr>\n",
       "    <tr>\n",
       "      <th>Thomas R Carper</th>\n",
       "      <td>2021-04-28</td>\n",
       "      <td>Spouse</td>\n",
       "      <td>NaN</td>\n",
       "      <td>BCS Contingent Autocall on CSCO &lt;div class=\"te...</td>\n",
       "      <td>$15,001 - $50,000</td>\n",
       "      <td>https://efdsearch.senate.gov/search/view/ptr/5...</td>\n",
       "      <td>sale_full</td>\n",
       "    </tr>\n",
       "    <tr>\n",
       "      <th>Thomas R Carper</th>\n",
       "      <td>2021-04-13</td>\n",
       "      <td>Spouse</td>\n",
       "      <td>NUAN</td>\n",
       "      <td>Nuance Communications, Inc.</td>\n",
       "      <td>$1,001 - $15,000</td>\n",
       "      <td>https://efdsearch.senate.gov/search/view/ptr/5...</td>\n",
       "      <td>sale_full</td>\n",
       "    </tr>\n",
       "  </tbody>\n",
       "</table>\n",
       "</div>"
      ],
      "text/plain": [
       "                      transaction_date   owner ticker  \\\n",
       "Thomas R Carper             2021-05-26  Spouse    NaN   \n",
       "Thomas R Carper             2021-05-26  Spouse    NaN   \n",
       "Thomas R Carper             2021-05-07  Spouse    NaN   \n",
       "Mike Rounds                 2021-05-01   Joint    NaN   \n",
       "Shelley M Capito            2021-04-26  Spouse    WFC   \n",
       "Jerry Moran,                2020-04-01   Joint     VZ   \n",
       "Richard M Burr              2021-05-17     NaN    NaN   \n",
       "Susan M Collins             2021-04-29  Spouse    NaN   \n",
       "Susan M Collins             2021-04-29  Spouse    NaN   \n",
       "Tina Smith                  2021-04-11  Spouse    NaN   \n",
       "John Boozman                2021-04-22    Self    IWM   \n",
       "John Boozman                2021-04-22    Self    NaN   \n",
       "William F Hagerty, Iv       2021-04-20    Self   NTRA   \n",
       "Thomas R Carper             2021-04-28  Spouse    NaN   \n",
       "Thomas R Carper             2021-04-13  Spouse   NUAN   \n",
       "\n",
       "                                                       asset_description  \\\n",
       "Thomas R Carper        HSBC Contingent Autocall BMY <div class=\"text-...   \n",
       "Thomas R Carper        HSBC Contingent Autocall BMY <div class=\"text-...   \n",
       "Thomas R Carper        CS Contingent Autocall CSCO <div class=\"text-m...   \n",
       "Mike Rounds            Bird Dog Hospitality Fund 1, LLC <div class=\"t...   \n",
       "Shelley M Capito                               Wells Fargo &amp; Company   \n",
       "Jerry Moran,           Verizon Communications Inc. (Exchanged) <br> T...   \n",
       "Richard M Burr         This filing was disclosed via scanned PDF. Use...   \n",
       "Susan M Collins        ME St Muni Bond Bank 56045RWK1 <div class=\"tex...   \n",
       "Susan M Collins        ME St Health &amp; Higher Ed 560427VR4 <div cl...   \n",
       "Tina Smith             Surgical Information Sciences <div class=\"text...   \n",
       "John Boozman                                    iShares Russell 2000 ETF   \n",
       "John Boozman                      Advisory Inner Circle FD Westwood Sm Y   \n",
       "William F Hagerty, Iv                                       Natera, Inc.   \n",
       "Thomas R Carper        BCS Contingent Autocall on CSCO <div class=\"te...   \n",
       "Thomas R Carper                              Nuance Communications, Inc.   \n",
       "\n",
       "                                   amount  \\\n",
       "Thomas R Carper         $15,001 - $50,000   \n",
       "Thomas R Carper         $15,001 - $50,000   \n",
       "Thomas R Carper         $15,001 - $50,000   \n",
       "Mike Rounds             $15,001 - $50,000   \n",
       "Shelley M Capito         $1,001 - $15,000   \n",
       "Jerry Moran,             $1,001 - $15,000   \n",
       "Richard M Burr                    Unknown   \n",
       "Susan M Collins         $15,001 - $50,000   \n",
       "Susan M Collins        $50,001 - $100,000   \n",
       "Tina Smith               $1,001 - $15,000   \n",
       "John Boozman             $1,001 - $15,000   \n",
       "John Boozman             $1,001 - $15,000   \n",
       "William F Hagerty, Iv    $1,001 - $15,000   \n",
       "Thomas R Carper         $15,001 - $50,000   \n",
       "Thomas R Carper          $1,001 - $15,000   \n",
       "\n",
       "                                                                ptr_link  \\\n",
       "Thomas R Carper        https://efdsearch.senate.gov/search/view/ptr/2...   \n",
       "Thomas R Carper        https://efdsearch.senate.gov/search/view/ptr/2...   \n",
       "Thomas R Carper        https://efdsearch.senate.gov/search/view/ptr/2...   \n",
       "Mike Rounds            https://efdsearch.senate.gov/search/view/ptr/3...   \n",
       "Shelley M Capito       https://efdsearch.senate.gov/search/view/ptr/8...   \n",
       "Jerry Moran,           https://efdsearch.senate.gov/search/view/ptr/1...   \n",
       "Richard M Burr         https://efdsearch.senate.gov/search/view/paper...   \n",
       "Susan M Collins        https://efdsearch.senate.gov/search/view/ptr/b...   \n",
       "Susan M Collins        https://efdsearch.senate.gov/search/view/ptr/b...   \n",
       "Tina Smith             https://efdsearch.senate.gov/search/view/ptr/1...   \n",
       "John Boozman           https://efdsearch.senate.gov/search/view/paper...   \n",
       "John Boozman           https://efdsearch.senate.gov/search/view/paper...   \n",
       "William F Hagerty, Iv  https://efdsearch.senate.gov/search/view/ptr/5...   \n",
       "Thomas R Carper        https://efdsearch.senate.gov/search/view/ptr/5...   \n",
       "Thomas R Carper        https://efdsearch.senate.gov/search/view/ptr/5...   \n",
       "\n",
       "                               type  \n",
       "Thomas R Carper           sale_full  \n",
       "Thomas R Carper           sale_full  \n",
       "Thomas R Carper            purchase  \n",
       "Mike Rounds                purchase  \n",
       "Shelley M Capito       sale_partial  \n",
       "Jerry Moran,               exchange  \n",
       "Richard M Burr                  NaN  \n",
       "Susan M Collins            purchase  \n",
       "Susan M Collins            purchase  \n",
       "Tina Smith                 purchase  \n",
       "John Boozman              sale_full  \n",
       "John Boozman               purchase  \n",
       "William F Hagerty, Iv  sale_partial  \n",
       "Thomas R Carper           sale_full  \n",
       "Thomas R Carper           sale_full  "
      ]
     },
     "execution_count": 136,
     "metadata": {},
     "output_type": "execute_result"
    }
   ],
   "source": [
    "df.head(15)"
   ]
  },
  {
   "cell_type": "code",
   "execution_count": 137,
   "metadata": {},
   "outputs": [
    {
     "data": {
      "text/plain": [
       "(18711, 7)"
      ]
     },
     "execution_count": 137,
     "metadata": {},
     "output_type": "execute_result"
    }
   ],
   "source": [
    "df.shape"
   ]
  },
  {
   "cell_type": "markdown",
   "metadata": {},
   "source": [
    "### Deal with Null and blank values"
   ]
  },
  {
   "cell_type": "code",
   "execution_count": 138,
   "metadata": {
    "scrolled": false
   },
   "outputs": [
    {
     "data": {
      "text/plain": [
       "transaction_date        0\n",
       "owner                5401\n",
       "ticker               2995\n",
       "asset_description       4\n",
       "amount                  0\n",
       "ptr_link                0\n",
       "type                  464\n",
       "dtype: int64"
      ]
     },
     "execution_count": 138,
     "metadata": {},
     "output_type": "execute_result"
    }
   ],
   "source": [
    "# columns with nulls\n",
    "df.isnull().sum()"
   ]
  },
  {
   "cell_type": "code",
   "execution_count": 139,
   "metadata": {},
   "outputs": [
    {
     "data": {
      "text/plain": [
       "(15716, 7)"
      ]
     },
     "execution_count": 139,
     "metadata": {},
     "output_type": "execute_result"
    }
   ],
   "source": [
    "# I concluded that we should drop nulls from these columns. Not very many nulls and cannot be filled in with anything.\n",
    "df = df.dropna(subset=['ticker', 'type'])\n",
    "df.shape"
   ]
  },
  {
   "cell_type": "markdown",
   "metadata": {},
   "source": [
    "#### Fill null values in categorical/name columns with appropriate values "
   ]
  },
  {
   "cell_type": "code",
   "execution_count": 140,
   "metadata": {},
   "outputs": [],
   "source": [
    "df['owner'].fillna(\"Unknown\", inplace=True)"
   ]
  },
  {
   "cell_type": "code",
   "execution_count": 141,
   "metadata": {},
   "outputs": [],
   "source": [
    "df['asset_description'].fillna(\"None\", inplace=True)"
   ]
  },
  {
   "cell_type": "code",
   "execution_count": 142,
   "metadata": {},
   "outputs": [
    {
     "data": {
      "text/plain": [
       "transaction_date     0\n",
       "owner                0\n",
       "ticker               0\n",
       "asset_description    0\n",
       "amount               0\n",
       "ptr_link             0\n",
       "type                 0\n",
       "dtype: int64"
      ]
     },
     "execution_count": 142,
     "metadata": {},
     "output_type": "execute_result"
    }
   ],
   "source": [
    "df.isnull().sum()"
   ]
  },
  {
   "cell_type": "code",
   "execution_count": 52,
   "metadata": {},
   "outputs": [],
   "source": [
    "# TODO: remodel data based on problem statements"
   ]
  },
  {
   "cell_type": "code",
   "execution_count": null,
   "metadata": {},
   "outputs": [],
   "source": [
    "# TO DO LAST. MAKE SURE I HAVE DIFFERENT NAMES. \n",
    "\n",
    "# saving to a file for the modeling\n",
    "df.to_csv('./data/cleaned_data.csv', index = False)"
   ]
  }
 ],
 "metadata": {
  "kernelspec": {
   "display_name": "Python 3",
   "language": "python",
   "name": "python3"
  },
  "language_info": {
   "codemirror_mode": {
    "name": "ipython",
    "version": 3
   },
   "file_extension": ".py",
   "mimetype": "text/x-python",
   "name": "python",
   "nbconvert_exporter": "python",
   "pygments_lexer": "ipython3",
   "version": "3.8.5"
  }
 },
 "nbformat": 4,
 "nbformat_minor": 4
}
