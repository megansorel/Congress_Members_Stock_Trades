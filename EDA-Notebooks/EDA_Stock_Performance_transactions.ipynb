{
 "cells": [
  {
   "cell_type": "code",
   "execution_count": 217,
   "metadata": {
    "ExecuteTime": {
     "end_time": "2021-06-10T20:37:27.826432Z",
     "start_time": "2021-06-10T20:37:27.822537Z"
    }
   },
   "outputs": [],
   "source": [
    "import pandas as pd\n",
    "import matplotlib.pyplot as plt\n",
    "import seaborn as sns\n",
    "import numpy as np"
   ]
  },
  {
   "cell_type": "code",
   "execution_count": 187,
   "metadata": {
    "ExecuteTime": {
     "end_time": "2021-06-10T20:25:57.136803Z",
     "start_time": "2021-06-10T20:25:57.029090Z"
    }
   },
   "outputs": [],
   "source": [
    "df = pd.read_csv('../data/stock_percentage_difference.csv')"
   ]
  },
  {
   "cell_type": "code",
   "execution_count": 188,
   "metadata": {
    "ExecuteTime": {
     "end_time": "2021-06-10T20:25:57.149829Z",
     "start_time": "2021-06-10T20:25:57.140400Z"
    }
   },
   "outputs": [],
   "source": [
    "df.drop(columns=['Unnamed: 0','merge_key','people'], inplace=True)"
   ]
  },
  {
   "cell_type": "code",
   "execution_count": 189,
   "metadata": {
    "ExecuteTime": {
     "end_time": "2021-06-10T20:25:57.157041Z",
     "start_time": "2021-06-10T20:25:57.152683Z"
    }
   },
   "outputs": [
    {
     "data": {
      "text/plain": [
       "Index(['level_0', 'transaction_date', 'ticker', 'asset_description', 'type',\n",
       "       'amount', 'representative', 'timestamp', 'state', 'party_x',\n",
       "       'total_senate_years', 'total_house_years', 'total_years',\n",
       "       'donation_merge_key', 'name', 'total_raised', 'total_from_small_donors',\n",
       "       'percent_from_small_donors*', 'total_money_raised', 'party_y', 'start',\n",
       "       'day_30', 'day_30_stock_perc_diff', 'day_60', 'day_60_stock_perc_diff',\n",
       "       'day_90', 'day_90_stock_perc_diff', 'day_180',\n",
       "       'day_180_stock_perc_diff', 'sp_start', 'sp_30', 'sp_30_sp_perc_diff',\n",
       "       'sp_60', 'sp_60_sp_perc_diff', 'sp_90', 'sp_90_sp_perc_diff', 'sp_180',\n",
       "       'sp_180_sp_perc_diff'],\n",
       "      dtype='object')"
      ]
     },
     "execution_count": 189,
     "metadata": {},
     "output_type": "execute_result"
    }
   ],
   "source": [
    "df.columns"
   ]
  },
  {
   "cell_type": "code",
   "execution_count": 190,
   "metadata": {
    "ExecuteTime": {
     "end_time": "2021-06-10T20:25:57.167523Z",
     "start_time": "2021-06-10T20:25:57.159849Z"
    }
   },
   "outputs": [
    {
     "data": {
      "text/plain": [
       "138"
      ]
     },
     "execution_count": 190,
     "metadata": {},
     "output_type": "execute_result"
    }
   ],
   "source": [
    "df['representative'].nunique()"
   ]
  },
  {
   "cell_type": "code",
   "execution_count": 191,
   "metadata": {
    "ExecuteTime": {
     "end_time": "2021-06-10T20:25:57.200537Z",
     "start_time": "2021-06-10T20:25:57.171177Z"
    }
   },
   "outputs": [
    {
     "data": {
      "text/html": [
       "<div>\n",
       "<style scoped>\n",
       "    .dataframe tbody tr th:only-of-type {\n",
       "        vertical-align: middle;\n",
       "    }\n",
       "\n",
       "    .dataframe tbody tr th {\n",
       "        vertical-align: top;\n",
       "    }\n",
       "\n",
       "    .dataframe thead th {\n",
       "        text-align: right;\n",
       "    }\n",
       "</style>\n",
       "<table border=\"1\" class=\"dataframe\">\n",
       "  <thead>\n",
       "    <tr style=\"text-align: right;\">\n",
       "      <th></th>\n",
       "      <th>level_0</th>\n",
       "      <th>transaction_date</th>\n",
       "      <th>ticker</th>\n",
       "      <th>asset_description</th>\n",
       "      <th>type</th>\n",
       "      <th>amount</th>\n",
       "      <th>representative</th>\n",
       "      <th>timestamp</th>\n",
       "      <th>state</th>\n",
       "      <th>party_x</th>\n",
       "      <th>...</th>\n",
       "      <th>day_180_stock_perc_diff</th>\n",
       "      <th>sp_start</th>\n",
       "      <th>sp_30</th>\n",
       "      <th>sp_30_sp_perc_diff</th>\n",
       "      <th>sp_60</th>\n",
       "      <th>sp_60_sp_perc_diff</th>\n",
       "      <th>sp_90</th>\n",
       "      <th>sp_90_sp_perc_diff</th>\n",
       "      <th>sp_180</th>\n",
       "      <th>sp_180_sp_perc_diff</th>\n",
       "    </tr>\n",
       "  </thead>\n",
       "  <tbody>\n",
       "    <tr>\n",
       "      <th>0</th>\n",
       "      <td>0</td>\n",
       "      <td>2020-03-18</td>\n",
       "      <td>CBRE</td>\n",
       "      <td>CBRE Group Inc Common Stock Class A</td>\n",
       "      <td>sale_partial</td>\n",
       "      <td>$1,001 - $15,000</td>\n",
       "      <td>Susie Lee</td>\n",
       "      <td>1584504000</td>\n",
       "      <td>Nevada</td>\n",
       "      <td>Democratic</td>\n",
       "      <td>...</td>\n",
       "      <td>0.321</td>\n",
       "      <td>2398.100098</td>\n",
       "      <td>2874.560059</td>\n",
       "      <td>0.199</td>\n",
       "      <td>2953.909912</td>\n",
       "      <td>0.232</td>\n",
       "      <td>3097.73999</td>\n",
       "      <td>0.292</td>\n",
       "      <td>3340.969971</td>\n",
       "      <td>0.393</td>\n",
       "    </tr>\n",
       "  </tbody>\n",
       "</table>\n",
       "<p>1 rows × 38 columns</p>\n",
       "</div>"
      ],
      "text/plain": [
       "   level_0 transaction_date ticker                    asset_description  \\\n",
       "0        0       2020-03-18   CBRE  CBRE Group Inc Common Stock Class A   \n",
       "\n",
       "           type            amount representative   timestamp   state  \\\n",
       "0  sale_partial  $1,001 - $15,000      Susie Lee  1584504000  Nevada   \n",
       "\n",
       "      party_x  ...  day_180_stock_perc_diff     sp_start        sp_30  \\\n",
       "0  Democratic  ...                    0.321  2398.100098  2874.560059   \n",
       "\n",
       "  sp_30_sp_perc_diff        sp_60 sp_60_sp_perc_diff       sp_90  \\\n",
       "0              0.199  2953.909912              0.232  3097.73999   \n",
       "\n",
       "  sp_90_sp_perc_diff       sp_180 sp_180_sp_perc_diff  \n",
       "0              0.292  3340.969971               0.393  \n",
       "\n",
       "[1 rows x 38 columns]"
      ]
     },
     "execution_count": 191,
     "metadata": {},
     "output_type": "execute_result"
    }
   ],
   "source": [
    "df.head(1)"
   ]
  },
  {
   "cell_type": "code",
   "execution_count": 192,
   "metadata": {
    "ExecuteTime": {
     "end_time": "2021-06-10T20:25:57.212321Z",
     "start_time": "2021-06-10T20:25:57.203707Z"
    }
   },
   "outputs": [],
   "source": [
    "# how many transactions did \n",
    "df_transaction_num = df.groupby(['representative'])[['ticker']].count()"
   ]
  },
  {
   "cell_type": "code",
   "execution_count": 193,
   "metadata": {
    "ExecuteTime": {
     "end_time": "2021-06-10T20:25:57.230904Z",
     "start_time": "2021-06-10T20:25:57.217668Z"
    }
   },
   "outputs": [
    {
     "data": {
      "text/html": [
       "<div>\n",
       "<style scoped>\n",
       "    .dataframe tbody tr th:only-of-type {\n",
       "        vertical-align: middle;\n",
       "    }\n",
       "\n",
       "    .dataframe tbody tr th {\n",
       "        vertical-align: top;\n",
       "    }\n",
       "\n",
       "    .dataframe thead th {\n",
       "        text-align: right;\n",
       "    }\n",
       "</style>\n",
       "<table border=\"1\" class=\"dataframe\">\n",
       "  <thead>\n",
       "    <tr style=\"text-align: right;\">\n",
       "      <th></th>\n",
       "      <th>ticker</th>\n",
       "    </tr>\n",
       "    <tr>\n",
       "      <th>representative</th>\n",
       "      <th></th>\n",
       "    </tr>\n",
       "  </thead>\n",
       "  <tbody>\n",
       "    <tr>\n",
       "      <th>David A Perdue , Jr</th>\n",
       "      <td>1627</td>\n",
       "    </tr>\n",
       "  </tbody>\n",
       "</table>\n",
       "</div>"
      ],
      "text/plain": [
       "                     ticker\n",
       "representative             \n",
       "David A Perdue , Jr    1627"
      ]
     },
     "execution_count": 193,
     "metadata": {},
     "output_type": "execute_result"
    }
   ],
   "source": [
    "df_transaction_num[df_transaction_num['ticker']==1627]"
   ]
  },
  {
   "cell_type": "code",
   "execution_count": 194,
   "metadata": {
    "ExecuteTime": {
     "end_time": "2021-06-10T20:25:57.243375Z",
     "start_time": "2021-06-10T20:25:57.235787Z"
    }
   },
   "outputs": [],
   "source": [
    "con_stocks_180_days = df.groupby(['representative'])[['day_180_stock_perc_diff']].mean()\n"
   ]
  },
  {
   "cell_type": "code",
   "execution_count": 195,
   "metadata": {
    "ExecuteTime": {
     "end_time": "2021-06-10T20:25:57.261084Z",
     "start_time": "2021-06-10T20:25:57.245728Z"
    }
   },
   "outputs": [],
   "source": [
    "# get the avg stock performance by representative after 180 days\n",
    "con_stocks_180_days = df.groupby(['representative'])[['day_180_stock_perc_diff']].mean()\n",
    "\n",
    "# get the mean S&P 500 performance after 180 days from when a congressman purchased stock\n",
    "sp_180_days = df.groupby(['representative'])[['sp_180_sp_perc_diff']].mean()"
   ]
  },
  {
   "cell_type": "code",
   "execution_count": 196,
   "metadata": {
    "ExecuteTime": {
     "end_time": "2021-06-10T20:25:57.274812Z",
     "start_time": "2021-06-10T20:25:57.263361Z"
    }
   },
   "outputs": [
    {
     "data": {
      "text/html": [
       "<div>\n",
       "<style scoped>\n",
       "    .dataframe tbody tr th:only-of-type {\n",
       "        vertical-align: middle;\n",
       "    }\n",
       "\n",
       "    .dataframe tbody tr th {\n",
       "        vertical-align: top;\n",
       "    }\n",
       "\n",
       "    .dataframe thead th {\n",
       "        text-align: right;\n",
       "    }\n",
       "</style>\n",
       "<table border=\"1\" class=\"dataframe\">\n",
       "  <thead>\n",
       "    <tr style=\"text-align: right;\">\n",
       "      <th></th>\n",
       "      <th>day_180_stock_perc_diff</th>\n",
       "    </tr>\n",
       "    <tr>\n",
       "      <th>representative</th>\n",
       "      <th></th>\n",
       "    </tr>\n",
       "  </thead>\n",
       "  <tbody>\n",
       "    <tr>\n",
       "      <th>Thomas Massie</th>\n",
       "      <td>1.901000</td>\n",
       "    </tr>\n",
       "    <tr>\n",
       "      <th>Austin Scott</th>\n",
       "      <td>1.404000</td>\n",
       "    </tr>\n",
       "    <tr>\n",
       "      <th>Kim Schrier</th>\n",
       "      <td>1.048250</td>\n",
       "    </tr>\n",
       "    <tr>\n",
       "      <th>Bradley S. Schneider</th>\n",
       "      <td>0.984000</td>\n",
       "    </tr>\n",
       "    <tr>\n",
       "      <th>Brian Mast</th>\n",
       "      <td>0.928684</td>\n",
       "    </tr>\n",
       "    <tr>\n",
       "      <th>...</th>\n",
       "      <td>...</td>\n",
       "    </tr>\n",
       "    <tr>\n",
       "      <th>Bill Pascrell</th>\n",
       "      <td>-0.129000</td>\n",
       "    </tr>\n",
       "    <tr>\n",
       "      <th>Michael Patrick Guest</th>\n",
       "      <td>-0.227000</td>\n",
       "    </tr>\n",
       "    <tr>\n",
       "      <th>Neal Patrick MD, Facs Dunn</th>\n",
       "      <td>-0.229125</td>\n",
       "    </tr>\n",
       "    <tr>\n",
       "      <th>Linda T. Sanchez</th>\n",
       "      <td>-0.375000</td>\n",
       "    </tr>\n",
       "    <tr>\n",
       "      <th>Tim Burchett</th>\n",
       "      <td>-0.520000</td>\n",
       "    </tr>\n",
       "  </tbody>\n",
       "</table>\n",
       "<p>138 rows × 1 columns</p>\n",
       "</div>"
      ],
      "text/plain": [
       "                            day_180_stock_perc_diff\n",
       "representative                                     \n",
       "Thomas Massie                              1.901000\n",
       "Austin Scott                               1.404000\n",
       "Kim Schrier                                1.048250\n",
       "Bradley S. Schneider                       0.984000\n",
       "Brian Mast                                 0.928684\n",
       "...                                             ...\n",
       "Bill Pascrell                             -0.129000\n",
       "Michael Patrick Guest                     -0.227000\n",
       "Neal Patrick MD, Facs Dunn                -0.229125\n",
       "Linda T. Sanchez                          -0.375000\n",
       "Tim Burchett                              -0.520000\n",
       "\n",
       "[138 rows x 1 columns]"
      ]
     },
     "execution_count": 196,
     "metadata": {},
     "output_type": "execute_result"
    }
   ],
   "source": [
    "# look at the top stock returns for congressmen and congresswomen\n",
    "con_stocks_180_days.sort_values(by='day_180_stock_perc_diff',ascending=False)"
   ]
  },
  {
   "cell_type": "markdown",
   "metadata": {},
   "source": [
    "# Top Performer Analysis\n",
    "Massie sold Tesla stock only, but had a sizable return. His total invesment was less than  50k. Austin Scott bought Bloom Energy and FuelCell Energy, Ballard Power systems, Exxon, GE, Plug Power with lots of small investments. Kim Schrier sold lots of Apple stock in March 2020 worth ~1 million+ dollars. Schneider only sold Trupanion worth approximately 1 $million."
   ]
  },
  {
   "cell_type": "code",
   "execution_count": 197,
   "metadata": {
    "ExecuteTime": {
     "end_time": "2021-06-10T20:25:57.279873Z",
     "start_time": "2021-06-10T20:25:57.276642Z"
    }
   },
   "outputs": [],
   "source": [
    "# merge performance of two dataframes\n",
    "con_sp_180d_avg_merge = con_stocks_180_days.merge(sp_180_days, left_index=True, right_index=True)"
   ]
  },
  {
   "cell_type": "code",
   "execution_count": 198,
   "metadata": {
    "ExecuteTime": {
     "end_time": "2021-06-10T20:25:57.288639Z",
     "start_time": "2021-06-10T20:25:57.283341Z"
    }
   },
   "outputs": [],
   "source": [
    "# merge transaction numbers with stock performance\n",
    "stock_perform = con_sp_180d_avg_merge.merge(df_transaction_num, left_index=True, right_index=True)"
   ]
  },
  {
   "cell_type": "code",
   "execution_count": 199,
   "metadata": {
    "ExecuteTime": {
     "end_time": "2021-06-10T20:25:57.295422Z",
     "start_time": "2021-06-10T20:25:57.291151Z"
    }
   },
   "outputs": [],
   "source": [
    "# create new column for how much their investments made above the s&p500 average\n",
    "stock_perform['performance_diff_sp500'] = stock_perform['day_180_stock_perc_diff'] - stock_perform['sp_180_sp_perc_diff']"
   ]
  },
  {
   "cell_type": "code",
   "execution_count": 200,
   "metadata": {
    "ExecuteTime": {
     "end_time": "2021-06-10T20:25:57.303200Z",
     "start_time": "2021-06-10T20:25:57.298077Z"
    }
   },
   "outputs": [
    {
     "data": {
      "text/plain": [
       "Index(['day_180_stock_perc_diff', 'sp_180_sp_perc_diff', 'ticker',\n",
       "       'performance_diff_sp500'],\n",
       "      dtype='object')"
      ]
     },
     "execution_count": 200,
     "metadata": {},
     "output_type": "execute_result"
    }
   ],
   "source": [
    "stock_perform.columns"
   ]
  },
  {
   "cell_type": "code",
   "execution_count": 201,
   "metadata": {
    "ExecuteTime": {
     "end_time": "2021-06-10T20:25:57.308665Z",
     "start_time": "2021-06-10T20:25:57.305910Z"
    }
   },
   "outputs": [],
   "source": [
    "stock_perform.columns = ['day_180_stock_perc_diff', 'sp_180_sp_perc_diff', 'stock_transactions',\n",
    "       'performance_vs_avg_180days']"
   ]
  },
  {
   "cell_type": "code",
   "execution_count": 209,
   "metadata": {
    "ExecuteTime": {
     "end_time": "2021-06-10T20:30:49.074400Z",
     "start_time": "2021-06-10T20:30:49.060189Z"
    },
    "scrolled": false
   },
   "outputs": [
    {
     "data": {
      "text/html": [
       "<div>\n",
       "<style scoped>\n",
       "    .dataframe tbody tr th:only-of-type {\n",
       "        vertical-align: middle;\n",
       "    }\n",
       "\n",
       "    .dataframe tbody tr th {\n",
       "        vertical-align: top;\n",
       "    }\n",
       "\n",
       "    .dataframe thead th {\n",
       "        text-align: right;\n",
       "    }\n",
       "</style>\n",
       "<table border=\"1\" class=\"dataframe\">\n",
       "  <thead>\n",
       "    <tr style=\"text-align: right;\">\n",
       "      <th></th>\n",
       "      <th>day_180_stock_perc_diff</th>\n",
       "      <th>sp_180_sp_perc_diff</th>\n",
       "      <th>stock_transactions</th>\n",
       "      <th>performance_vs_avg_180days</th>\n",
       "    </tr>\n",
       "    <tr>\n",
       "      <th>representative</th>\n",
       "      <th></th>\n",
       "      <th></th>\n",
       "      <th></th>\n",
       "      <th></th>\n",
       "    </tr>\n",
       "  </thead>\n",
       "  <tbody>\n",
       "    <tr>\n",
       "      <th>Austin Scott</th>\n",
       "      <td>1.404000</td>\n",
       "      <td>0.191000</td>\n",
       "      <td>13</td>\n",
       "      <td>1.213000</td>\n",
       "    </tr>\n",
       "    <tr>\n",
       "      <th>Kim Schrier</th>\n",
       "      <td>1.048250</td>\n",
       "      <td>0.159250</td>\n",
       "      <td>8</td>\n",
       "      <td>0.889000</td>\n",
       "    </tr>\n",
       "    <tr>\n",
       "      <th>Brian Mast</th>\n",
       "      <td>0.928684</td>\n",
       "      <td>0.112526</td>\n",
       "      <td>19</td>\n",
       "      <td>0.816158</td>\n",
       "    </tr>\n",
       "    <tr>\n",
       "      <th>Michael Garcia</th>\n",
       "      <td>0.669136</td>\n",
       "      <td>0.173091</td>\n",
       "      <td>22</td>\n",
       "      <td>0.496045</td>\n",
       "    </tr>\n",
       "    <tr>\n",
       "      <th>Frank Pallone</th>\n",
       "      <td>0.653200</td>\n",
       "      <td>0.186000</td>\n",
       "      <td>5</td>\n",
       "      <td>0.467200</td>\n",
       "    </tr>\n",
       "    <tr>\n",
       "      <th>...</th>\n",
       "      <td>...</td>\n",
       "      <td>...</td>\n",
       "      <td>...</td>\n",
       "      <td>...</td>\n",
       "    </tr>\n",
       "    <tr>\n",
       "      <th>Virginia Foxx</th>\n",
       "      <td>-0.035333</td>\n",
       "      <td>0.159733</td>\n",
       "      <td>30</td>\n",
       "      <td>-0.195067</td>\n",
       "    </tr>\n",
       "    <tr>\n",
       "      <th>James E. Banks</th>\n",
       "      <td>-0.079440</td>\n",
       "      <td>0.134600</td>\n",
       "      <td>25</td>\n",
       "      <td>-0.214040</td>\n",
       "    </tr>\n",
       "    <tr>\n",
       "      <th>Nicholas Van Taylor</th>\n",
       "      <td>-0.084789</td>\n",
       "      <td>0.142421</td>\n",
       "      <td>19</td>\n",
       "      <td>-0.227211</td>\n",
       "    </tr>\n",
       "    <tr>\n",
       "      <th>Neal Patrick MD, Facs Dunn</th>\n",
       "      <td>-0.229125</td>\n",
       "      <td>0.027125</td>\n",
       "      <td>8</td>\n",
       "      <td>-0.256250</td>\n",
       "    </tr>\n",
       "    <tr>\n",
       "      <th>Billy Long</th>\n",
       "      <td>0.087000</td>\n",
       "      <td>0.400000</td>\n",
       "      <td>16</td>\n",
       "      <td>-0.313000</td>\n",
       "    </tr>\n",
       "  </tbody>\n",
       "</table>\n",
       "<p>99 rows × 4 columns</p>\n",
       "</div>"
      ],
      "text/plain": [
       "                            day_180_stock_perc_diff  sp_180_sp_perc_diff  \\\n",
       "representative                                                             \n",
       "Austin Scott                               1.404000             0.191000   \n",
       "Kim Schrier                                1.048250             0.159250   \n",
       "Brian Mast                                 0.928684             0.112526   \n",
       "Michael Garcia                             0.669136             0.173091   \n",
       "Frank Pallone                              0.653200             0.186000   \n",
       "...                                             ...                  ...   \n",
       "Virginia Foxx                             -0.035333             0.159733   \n",
       "James E. Banks                            -0.079440             0.134600   \n",
       "Nicholas Van Taylor                       -0.084789             0.142421   \n",
       "Neal Patrick MD, Facs Dunn                -0.229125             0.027125   \n",
       "Billy Long                                 0.087000             0.400000   \n",
       "\n",
       "                            stock_transactions  performance_vs_avg_180days  \n",
       "representative                                                              \n",
       "Austin Scott                                13                    1.213000  \n",
       "Kim Schrier                                  8                    0.889000  \n",
       "Brian Mast                                  19                    0.816158  \n",
       "Michael Garcia                              22                    0.496045  \n",
       "Frank Pallone                                5                    0.467200  \n",
       "...                                        ...                         ...  \n",
       "Virginia Foxx                               30                   -0.195067  \n",
       "James E. Banks                              25                   -0.214040  \n",
       "Nicholas Van Taylor                         19                   -0.227211  \n",
       "Neal Patrick MD, Facs Dunn                   8                   -0.256250  \n",
       "Billy Long                                  16                   -0.313000  \n",
       "\n",
       "[99 rows x 4 columns]"
      ]
     },
     "execution_count": 209,
     "metadata": {},
     "output_type": "execute_result"
    }
   ],
   "source": [
    "# clean dataframe for analysis\n",
    "# drop congressmen with less than 10 transactions.\n",
    "# our high performer and low performers only \n",
    "stock_perform_sorted = stock_perform[stock_perform['stock_transactions']>=5].sort_values(by='performance_vs_avg_180days',ascending=False)"
   ]
  },
  {
   "cell_type": "code",
   "execution_count": 210,
   "metadata": {
    "ExecuteTime": {
     "end_time": "2021-06-10T20:33:06.987454Z",
     "start_time": "2021-06-10T20:33:06.983298Z"
    }
   },
   "outputs": [],
   "source": [
    "# save congressmen sorted by best investments over the s&p500 (average) at the same time\n",
    "\n",
    "stock_perform_sorted = stock_perform[stock_perform['stock_transactions']>=5].sort_values(by='performance_vs_avg_180days',ascending=False)"
   ]
  },
  {
   "cell_type": "code",
   "execution_count": 228,
   "metadata": {
    "ExecuteTime": {
     "end_time": "2021-06-10T20:48:43.300400Z",
     "start_time": "2021-06-10T20:48:43.285328Z"
    }
   },
   "outputs": [
    {
     "data": {
      "text/html": [
       "<div>\n",
       "<style scoped>\n",
       "    .dataframe tbody tr th:only-of-type {\n",
       "        vertical-align: middle;\n",
       "    }\n",
       "\n",
       "    .dataframe tbody tr th {\n",
       "        vertical-align: top;\n",
       "    }\n",
       "\n",
       "    .dataframe thead th {\n",
       "        text-align: right;\n",
       "    }\n",
       "</style>\n",
       "<table border=\"1\" class=\"dataframe\">\n",
       "  <thead>\n",
       "    <tr style=\"text-align: right;\">\n",
       "      <th></th>\n",
       "      <th>day_180_stock_perc_diff</th>\n",
       "      <th>sp_180_sp_perc_diff</th>\n",
       "      <th>stock_transactions</th>\n",
       "      <th>performance_vs_avg_180days</th>\n",
       "    </tr>\n",
       "    <tr>\n",
       "      <th>representative</th>\n",
       "      <th></th>\n",
       "      <th></th>\n",
       "      <th></th>\n",
       "      <th></th>\n",
       "    </tr>\n",
       "  </thead>\n",
       "  <tbody>\n",
       "    <tr>\n",
       "      <th>Austin Scott</th>\n",
       "      <td>1.404000</td>\n",
       "      <td>0.191000</td>\n",
       "      <td>13</td>\n",
       "      <td>1.213000</td>\n",
       "    </tr>\n",
       "    <tr>\n",
       "      <th>Kim Schrier</th>\n",
       "      <td>1.048250</td>\n",
       "      <td>0.159250</td>\n",
       "      <td>8</td>\n",
       "      <td>0.889000</td>\n",
       "    </tr>\n",
       "    <tr>\n",
       "      <th>Brian Mast</th>\n",
       "      <td>0.928684</td>\n",
       "      <td>0.112526</td>\n",
       "      <td>19</td>\n",
       "      <td>0.816158</td>\n",
       "    </tr>\n",
       "    <tr>\n",
       "      <th>Michael Garcia</th>\n",
       "      <td>0.669136</td>\n",
       "      <td>0.173091</td>\n",
       "      <td>22</td>\n",
       "      <td>0.496045</td>\n",
       "    </tr>\n",
       "    <tr>\n",
       "      <th>Frank Pallone</th>\n",
       "      <td>0.653200</td>\n",
       "      <td>0.186000</td>\n",
       "      <td>5</td>\n",
       "      <td>0.467200</td>\n",
       "    </tr>\n",
       "    <tr>\n",
       "      <th>...</th>\n",
       "      <td>...</td>\n",
       "      <td>...</td>\n",
       "      <td>...</td>\n",
       "      <td>...</td>\n",
       "    </tr>\n",
       "    <tr>\n",
       "      <th>Virginia Foxx</th>\n",
       "      <td>-0.035333</td>\n",
       "      <td>0.159733</td>\n",
       "      <td>30</td>\n",
       "      <td>-0.195067</td>\n",
       "    </tr>\n",
       "    <tr>\n",
       "      <th>James E. Banks</th>\n",
       "      <td>-0.079440</td>\n",
       "      <td>0.134600</td>\n",
       "      <td>25</td>\n",
       "      <td>-0.214040</td>\n",
       "    </tr>\n",
       "    <tr>\n",
       "      <th>Nicholas Van Taylor</th>\n",
       "      <td>-0.084789</td>\n",
       "      <td>0.142421</td>\n",
       "      <td>19</td>\n",
       "      <td>-0.227211</td>\n",
       "    </tr>\n",
       "    <tr>\n",
       "      <th>Neal Patrick MD, Facs Dunn</th>\n",
       "      <td>-0.229125</td>\n",
       "      <td>0.027125</td>\n",
       "      <td>8</td>\n",
       "      <td>-0.256250</td>\n",
       "    </tr>\n",
       "    <tr>\n",
       "      <th>Billy Long</th>\n",
       "      <td>0.087000</td>\n",
       "      <td>0.400000</td>\n",
       "      <td>16</td>\n",
       "      <td>-0.313000</td>\n",
       "    </tr>\n",
       "  </tbody>\n",
       "</table>\n",
       "<p>99 rows × 4 columns</p>\n",
       "</div>"
      ],
      "text/plain": [
       "                            day_180_stock_perc_diff  sp_180_sp_perc_diff  \\\n",
       "representative                                                             \n",
       "Austin Scott                               1.404000             0.191000   \n",
       "Kim Schrier                                1.048250             0.159250   \n",
       "Brian Mast                                 0.928684             0.112526   \n",
       "Michael Garcia                             0.669136             0.173091   \n",
       "Frank Pallone                              0.653200             0.186000   \n",
       "...                                             ...                  ...   \n",
       "Virginia Foxx                             -0.035333             0.159733   \n",
       "James E. Banks                            -0.079440             0.134600   \n",
       "Nicholas Van Taylor                       -0.084789             0.142421   \n",
       "Neal Patrick MD, Facs Dunn                -0.229125             0.027125   \n",
       "Billy Long                                 0.087000             0.400000   \n",
       "\n",
       "                            stock_transactions  performance_vs_avg_180days  \n",
       "representative                                                              \n",
       "Austin Scott                                13                    1.213000  \n",
       "Kim Schrier                                  8                    0.889000  \n",
       "Brian Mast                                  19                    0.816158  \n",
       "Michael Garcia                              22                    0.496045  \n",
       "Frank Pallone                                5                    0.467200  \n",
       "...                                        ...                         ...  \n",
       "Virginia Foxx                               30                   -0.195067  \n",
       "James E. Banks                              25                   -0.214040  \n",
       "Nicholas Van Taylor                         19                   -0.227211  \n",
       "Neal Patrick MD, Facs Dunn                   8                   -0.256250  \n",
       "Billy Long                                  16                   -0.313000  \n",
       "\n",
       "[99 rows x 4 columns]"
      ]
     },
     "execution_count": 228,
     "metadata": {},
     "output_type": "execute_result"
    }
   ],
   "source": [
    "stock_perform_sorted"
   ]
  },
  {
   "cell_type": "code",
   "execution_count": 223,
   "metadata": {
    "ExecuteTime": {
     "end_time": "2021-06-10T20:42:09.264727Z",
     "start_time": "2021-06-10T20:42:08.760199Z"
    }
   },
   "outputs": [
    {
     "data": {
      "image/png": "[encoded data removed]",
      "text/plain": [
       "<Figure size 432x288 with 4 Axes>"
      ]
     },
     "metadata": {
      "needs_background": "light"
     },
     "output_type": "display_data"
    }
   ],
   "source": [
    "# distirbutions of stock performance\n",
    "stock_perform.hist();"
   ]
  },
  {
   "cell_type": "code",
   "execution_count": 212,
   "metadata": {
    "ExecuteTime": {
     "end_time": "2021-06-10T20:35:34.478217Z",
     "start_time": "2021-06-10T20:35:34.474114Z"
    }
   },
   "outputs": [
    {
     "data": {
      "text/plain": [
       "Index(['Austin Scott', 'Kim Schrier', 'Brian Mast', 'Michael Garcia',\n",
       "       'Frank Pallone'],\n",
       "      dtype='object', name='representative')"
      ]
     },
     "execution_count": 212,
     "metadata": {},
     "output_type": "execute_result"
    }
   ],
   "source": [
    "stock_perform_sorted.index[:5]"
   ]
  },
  {
   "cell_type": "code",
   "execution_count": 215,
   "metadata": {
    "ExecuteTime": {
     "end_time": "2021-06-10T20:37:08.874840Z",
     "start_time": "2021-06-10T20:37:08.853958Z"
    }
   },
   "outputs": [
    {
     "data": {
      "text/html": [
       "<div>\n",
       "<style scoped>\n",
       "    .dataframe tbody tr th:only-of-type {\n",
       "        vertical-align: middle;\n",
       "    }\n",
       "\n",
       "    .dataframe tbody tr th {\n",
       "        vertical-align: top;\n",
       "    }\n",
       "\n",
       "    .dataframe thead th {\n",
       "        text-align: right;\n",
       "    }\n",
       "</style>\n",
       "<table border=\"1\" class=\"dataframe\">\n",
       "  <thead>\n",
       "    <tr style=\"text-align: right;\">\n",
       "      <th></th>\n",
       "      <th>level_0</th>\n",
       "      <th>transaction_date</th>\n",
       "      <th>ticker</th>\n",
       "      <th>asset_description</th>\n",
       "      <th>type</th>\n",
       "      <th>amount</th>\n",
       "      <th>representative</th>\n",
       "      <th>timestamp</th>\n",
       "      <th>state</th>\n",
       "      <th>party_x</th>\n",
       "      <th>...</th>\n",
       "      <th>day_180_stock_perc_diff</th>\n",
       "      <th>sp_start</th>\n",
       "      <th>sp_30</th>\n",
       "      <th>sp_30_sp_perc_diff</th>\n",
       "      <th>sp_60</th>\n",
       "      <th>sp_60_sp_perc_diff</th>\n",
       "      <th>sp_90</th>\n",
       "      <th>sp_90_sp_perc_diff</th>\n",
       "      <th>sp_180</th>\n",
       "      <th>sp_180_sp_perc_diff</th>\n",
       "    </tr>\n",
       "  </thead>\n",
       "  <tbody>\n",
       "    <tr>\n",
       "      <th>0</th>\n",
       "      <td>0</td>\n",
       "      <td>2020-03-18</td>\n",
       "      <td>CBRE</td>\n",
       "      <td>CBRE Group Inc Common Stock Class A</td>\n",
       "      <td>sale_partial</td>\n",
       "      <td>$1,001 - $15,000</td>\n",
       "      <td>Susie Lee</td>\n",
       "      <td>1584504000</td>\n",
       "      <td>Nevada</td>\n",
       "      <td>Democratic</td>\n",
       "      <td>...</td>\n",
       "      <td>0.321</td>\n",
       "      <td>2398.100098</td>\n",
       "      <td>2874.560059</td>\n",
       "      <td>0.199</td>\n",
       "      <td>2953.909912</td>\n",
       "      <td>0.232</td>\n",
       "      <td>3097.73999</td>\n",
       "      <td>0.292</td>\n",
       "      <td>3340.969971</td>\n",
       "      <td>0.393</td>\n",
       "    </tr>\n",
       "  </tbody>\n",
       "</table>\n",
       "<p>1 rows × 38 columns</p>\n",
       "</div>"
      ],
      "text/plain": [
       "   level_0 transaction_date ticker                    asset_description  \\\n",
       "0        0       2020-03-18   CBRE  CBRE Group Inc Common Stock Class A   \n",
       "\n",
       "           type            amount representative   timestamp   state  \\\n",
       "0  sale_partial  $1,001 - $15,000      Susie Lee  1584504000  Nevada   \n",
       "\n",
       "      party_x  ...  day_180_stock_perc_diff     sp_start        sp_30  \\\n",
       "0  Democratic  ...                    0.321  2398.100098  2874.560059   \n",
       "\n",
       "  sp_30_sp_perc_diff        sp_60 sp_60_sp_perc_diff       sp_90  \\\n",
       "0              0.199  2953.909912              0.232  3097.73999   \n",
       "\n",
       "  sp_90_sp_perc_diff       sp_180 sp_180_sp_perc_diff  \n",
       "0              0.292  3340.969971               0.393  \n",
       "\n",
       "[1 rows x 38 columns]"
      ]
     },
     "execution_count": 215,
     "metadata": {},
     "output_type": "execute_result"
    }
   ],
   "source": [
    "df.head(1)"
   ]
  },
  {
   "cell_type": "code",
   "execution_count": 229,
   "metadata": {
    "ExecuteTime": {
     "end_time": "2021-06-10T20:52:09.019836Z",
     "start_time": "2021-06-10T20:52:08.693636Z"
    }
   },
   "outputs": [
    {
     "data": {
      "image/png": "[encoded data removed]",
      "text/plain": [
       "<Figure size 576x432 with 1 Axes>"
      ]
     },
     "metadata": {
      "needs_background": "light"
     },
     "output_type": "display_data"
    }
   ],
   "source": [
    "# visualizations\n",
    "\n",
    "\n",
    "\n",
    "# get grouped returns by person (fill with columns as needed)\n",
    "values = stock_perform_sorted\n",
    "\n",
    "#getting names of top 5 reps\n",
    "barchart_names = values.index[:10]\n",
    "labels = [col for col in barchart_names]\n",
    "#getting corresponding names \n",
    "lst_one = [item for item in values.day_180_stock_perc_diff[:10].values]\n",
    "lst_two =  [item for item in values.sp_180_sp_perc_diff[:10].values]\n",
    "#make labels and bar locations\n",
    "x = np.arange(len(labels))  # the label locations\n",
    "width = 0.4  # the width of the bars\n",
    "# plot both columns next to eachother \n",
    "fig, ax = plt.subplots(figsize = (8, 6))\n",
    "rects1 = ax.bar(x - width/2, lst_one, width, label='Congress Percent Returns', color = 'firebrick')\n",
    "rects2 = ax.bar(x + width/2, lst_two, width, label='S%P Percent Returns ', color = 'dodgerblue')\n",
    "# Add some text for labels, title and custom x-axis tick labels, etc.\n",
    "ax.set_ylabel('Percent Returns', fontsize = 12, labelpad = 10)\n",
    "ax.set_xlabel('People', fontsize = 15, labelpad = 20)\n",
    "# setting up the graph\n",
    "#ax.set_ylim([.05,.3])\n",
    "ax.set_xticks(x)\n",
    "ax.set_xticklabels(labels, fontsize = 15)\n",
    "ax.legend(loc = (0.33, .85), fontsize = 13, facecolor = 'white')\n",
    "ax.set_facecolor('white')\n",
    "fig.tight_layout()\n",
    "plt.show();"
   ]
  },
  {
   "cell_type": "code",
   "execution_count": null,
   "metadata": {},
   "outputs": [],
   "source": []
  }
 ],
 "metadata": {
  "kernelspec": {
   "display_name": "Python 3",
   "language": "python",
   "name": "python3"
  },
  "language_info": {
   "codemirror_mode": {
    "name": "ipython",
    "version": 3
   },
   "file_extension": ".py",
   "mimetype": "text/x-python",
   "name": "python",
   "nbconvert_exporter": "python",
   "pygments_lexer": "ipython3",
   "version": "3.8.5"
  }
 },
 "nbformat": 4,
 "nbformat_minor": 4
}
