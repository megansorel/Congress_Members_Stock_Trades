{
 "cells": [
  {
   "cell_type": "code",
   "execution_count": 78,
   "metadata": {},
   "outputs": [],
   "source": [
    "import pandas as pd\n",
    "import numpy as np\n",
    "import matplotlib.pyplot as plt\n",
    "import seaborn as sns\n",
    "\n",
    "from sklearn.preprocessing import StandardScaler\n",
    "\n",
    "# import models here \n",
    "from sklearn.linear_model import LassoCV\n",
    "from sklearn.model_selection import train_test_split, cross_val_score, GridSearchCV\n",
    "from sklearn.pipeline import Pipeline\n",
    "import os\n",
    "#setting up random seed for project requirements \n",
    "np.random.seed(73)"
   ]
  },
  {
   "cell_type": "code",
   "execution_count": 79,
   "metadata": {},
   "outputs": [
    {
     "data": {
      "text/plain": [
       "'/Users/megansorel/Projects/GA/projects/Insider_Trading/Model-Notebooks'"
      ]
     },
     "execution_count": 79,
     "metadata": {},
     "output_type": "execute_result"
    }
   ],
   "source": [
    "dir_path = os.path.dirname(os.path.realpath('Regression Model_Performance.ipynb'))\n",
    "dir_path"
   ]
  },
  {
   "cell_type": "code",
   "execution_count": 80,
   "metadata": {},
   "outputs": [],
   "source": [
    "#reading in final dataset from EDA \n",
    "train = pd.read_csv('/Users/megansorel/Projects/GA/projects/Insider_Trading/data/final_dataset.csv')"
   ]
  },
  {
   "cell_type": "code",
   "execution_count": 81,
   "metadata": {},
   "outputs": [
    {
     "data": {
      "text/html": [
       "<div>\n",
       "<style scoped>\n",
       "    .dataframe tbody tr th:only-of-type {\n",
       "        vertical-align: middle;\n",
       "    }\n",
       "\n",
       "    .dataframe tbody tr th {\n",
       "        vertical-align: top;\n",
       "    }\n",
       "\n",
       "    .dataframe thead th {\n",
       "        text-align: right;\n",
       "    }\n",
       "</style>\n",
       "<table border=\"1\" class=\"dataframe\">\n",
       "  <thead>\n",
       "    <tr style=\"text-align: right;\">\n",
       "      <th></th>\n",
       "      <th>0</th>\n",
       "      <th>1</th>\n",
       "      <th>2</th>\n",
       "      <th>3</th>\n",
       "      <th>4</th>\n",
       "    </tr>\n",
       "  </thead>\n",
       "  <tbody>\n",
       "    <tr>\n",
       "      <th>Unnamed: 0</th>\n",
       "      <td>0</td>\n",
       "      <td>1</td>\n",
       "      <td>2</td>\n",
       "      <td>3</td>\n",
       "      <td>4</td>\n",
       "    </tr>\n",
       "    <tr>\n",
       "      <th>level_0</th>\n",
       "      <td>0</td>\n",
       "      <td>1</td>\n",
       "      <td>2</td>\n",
       "      <td>3</td>\n",
       "      <td>4</td>\n",
       "    </tr>\n",
       "    <tr>\n",
       "      <th>transaction_date</th>\n",
       "      <td>2020-03-18</td>\n",
       "      <td>2020-03-24</td>\n",
       "      <td>2020-03-31</td>\n",
       "      <td>2020-02-21</td>\n",
       "      <td>2020-03-17</td>\n",
       "    </tr>\n",
       "    <tr>\n",
       "      <th>ticker</th>\n",
       "      <td>CBRE</td>\n",
       "      <td>CNC</td>\n",
       "      <td>DG</td>\n",
       "      <td>ENV</td>\n",
       "      <td>LKQ</td>\n",
       "    </tr>\n",
       "    <tr>\n",
       "      <th>asset_description</th>\n",
       "      <td>CBRE Group Inc Common Stock Class A</td>\n",
       "      <td>Centene Corporation</td>\n",
       "      <td>Dollar General Corporation</td>\n",
       "      <td>Envestnet, Inc</td>\n",
       "      <td>LKQ Corporation</td>\n",
       "    </tr>\n",
       "    <tr>\n",
       "      <th>type</th>\n",
       "      <td>sale_partial</td>\n",
       "      <td>purchase</td>\n",
       "      <td>purchase</td>\n",
       "      <td>sale_partial</td>\n",
       "      <td>sale_partial</td>\n",
       "    </tr>\n",
       "    <tr>\n",
       "      <th>amount</th>\n",
       "      <td>$1,001 - $15,000</td>\n",
       "      <td>$1,001 - $15,000</td>\n",
       "      <td>$1,001 - $15,000</td>\n",
       "      <td>$1,001 - $15,000</td>\n",
       "      <td>$1,001 - $15,000</td>\n",
       "    </tr>\n",
       "    <tr>\n",
       "      <th>representative</th>\n",
       "      <td>Susie Lee</td>\n",
       "      <td>Susie Lee</td>\n",
       "      <td>Susie Lee</td>\n",
       "      <td>Susie Lee</td>\n",
       "      <td>Susie Lee</td>\n",
       "    </tr>\n",
       "    <tr>\n",
       "      <th>timestamp</th>\n",
       "      <td>1584504000</td>\n",
       "      <td>1585022400</td>\n",
       "      <td>1585627200</td>\n",
       "      <td>1582261200</td>\n",
       "      <td>1584417600</td>\n",
       "    </tr>\n",
       "    <tr>\n",
       "      <th>merge_key</th>\n",
       "      <td>Susie Lee</td>\n",
       "      <td>Susie Lee</td>\n",
       "      <td>Susie Lee</td>\n",
       "      <td>Susie Lee</td>\n",
       "      <td>Susie Lee</td>\n",
       "    </tr>\n",
       "    <tr>\n",
       "      <th>people</th>\n",
       "      <td>Susie Lee</td>\n",
       "      <td>Susie Lee</td>\n",
       "      <td>Susie Lee</td>\n",
       "      <td>Susie Lee</td>\n",
       "      <td>Susie Lee</td>\n",
       "    </tr>\n",
       "    <tr>\n",
       "      <th>state</th>\n",
       "      <td>Nevada</td>\n",
       "      <td>Nevada</td>\n",
       "      <td>Nevada</td>\n",
       "      <td>Nevada</td>\n",
       "      <td>Nevada</td>\n",
       "    </tr>\n",
       "    <tr>\n",
       "      <th>party_x</th>\n",
       "      <td>Democratic</td>\n",
       "      <td>Democratic</td>\n",
       "      <td>Democratic</td>\n",
       "      <td>Democratic</td>\n",
       "      <td>Democratic</td>\n",
       "    </tr>\n",
       "    <tr>\n",
       "      <th>total_senate_years</th>\n",
       "      <td>0</td>\n",
       "      <td>0</td>\n",
       "      <td>0</td>\n",
       "      <td>0</td>\n",
       "      <td>0</td>\n",
       "    </tr>\n",
       "    <tr>\n",
       "      <th>total_house_years</th>\n",
       "      <td>2</td>\n",
       "      <td>2</td>\n",
       "      <td>2</td>\n",
       "      <td>2</td>\n",
       "      <td>2</td>\n",
       "    </tr>\n",
       "    <tr>\n",
       "      <th>total_years</th>\n",
       "      <td>2</td>\n",
       "      <td>2</td>\n",
       "      <td>2</td>\n",
       "      <td>2</td>\n",
       "      <td>2</td>\n",
       "    </tr>\n",
       "    <tr>\n",
       "      <th>donation_merge_key</th>\n",
       "      <td>Susie Lee</td>\n",
       "      <td>Susie Lee</td>\n",
       "      <td>Susie Lee</td>\n",
       "      <td>Susie Lee</td>\n",
       "      <td>Susie Lee</td>\n",
       "    </tr>\n",
       "    <tr>\n",
       "      <th>name</th>\n",
       "      <td>Susie Lee</td>\n",
       "      <td>Susie Lee</td>\n",
       "      <td>Susie Lee</td>\n",
       "      <td>Susie Lee</td>\n",
       "      <td>Susie Lee</td>\n",
       "    </tr>\n",
       "    <tr>\n",
       "      <th>total_raised</th>\n",
       "      <td>$4748019</td>\n",
       "      <td>$4748019</td>\n",
       "      <td>$4748019</td>\n",
       "      <td>$4748019</td>\n",
       "      <td>$4748019</td>\n",
       "    </tr>\n",
       "    <tr>\n",
       "      <th>total_from_small_donors</th>\n",
       "      <td>$284775</td>\n",
       "      <td>$284775</td>\n",
       "      <td>$284775</td>\n",
       "      <td>$284775</td>\n",
       "      <td>$284775</td>\n",
       "    </tr>\n",
       "    <tr>\n",
       "      <th>percent_from_small_donors*</th>\n",
       "      <td>6.00%</td>\n",
       "      <td>6.00%</td>\n",
       "      <td>6.00%</td>\n",
       "      <td>6.00%</td>\n",
       "      <td>6.00%</td>\n",
       "    </tr>\n",
       "    <tr>\n",
       "      <th>total_money_raised</th>\n",
       "      <td>Raised over $100k</td>\n",
       "      <td>Raised over $100k</td>\n",
       "      <td>Raised over $100k</td>\n",
       "      <td>Raised over $100k</td>\n",
       "      <td>Raised over $100k</td>\n",
       "    </tr>\n",
       "    <tr>\n",
       "      <th>party_y</th>\n",
       "      <td>D</td>\n",
       "      <td>D</td>\n",
       "      <td>D</td>\n",
       "      <td>D</td>\n",
       "      <td>D</td>\n",
       "    </tr>\n",
       "    <tr>\n",
       "      <th>start</th>\n",
       "      <td>35.52</td>\n",
       "      <td>48.73</td>\n",
       "      <td>151.01</td>\n",
       "      <td>78.99</td>\n",
       "      <td>19.69</td>\n",
       "    </tr>\n",
       "    <tr>\n",
       "      <th>day_30</th>\n",
       "      <td>44.5</td>\n",
       "      <td>69.24</td>\n",
       "      <td>175.3</td>\n",
       "      <td>48.86</td>\n",
       "      <td>19.84</td>\n",
       "    </tr>\n",
       "    <tr>\n",
       "      <th>day_60</th>\n",
       "      <td>39.09</td>\n",
       "      <td>64.84</td>\n",
       "      <td>191.5</td>\n",
       "      <td>55.4</td>\n",
       "      <td>23.6</td>\n",
       "    </tr>\n",
       "    <tr>\n",
       "      <th>day_90</th>\n",
       "      <td>46.74</td>\n",
       "      <td>63.36</td>\n",
       "      <td>189.48</td>\n",
       "      <td>70.97</td>\n",
       "      <td>25.98</td>\n",
       "    </tr>\n",
       "    <tr>\n",
       "      <th>day_180</th>\n",
       "      <td>46.91</td>\n",
       "      <td>61.13</td>\n",
       "      <td>208.39</td>\n",
       "      <td>80.24</td>\n",
       "      <td>32.16</td>\n",
       "    </tr>\n",
       "    <tr>\n",
       "      <th>sp_start</th>\n",
       "      <td>2398.1</td>\n",
       "      <td>2447.33</td>\n",
       "      <td>2584.59</td>\n",
       "      <td>3337.75</td>\n",
       "      <td>2529.19</td>\n",
       "    </tr>\n",
       "    <tr>\n",
       "      <th>sp_30</th>\n",
       "      <td>2874.56</td>\n",
       "      <td>2797.8</td>\n",
       "      <td>2912.43</td>\n",
       "      <td>2237.4</td>\n",
       "      <td>2799.55</td>\n",
       "    </tr>\n",
       "    <tr>\n",
       "      <th>sp_60</th>\n",
       "      <td>2953.91</td>\n",
       "      <td>2955.45</td>\n",
       "      <td>3055.73</td>\n",
       "      <td>2799.31</td>\n",
       "      <td>2863.7</td>\n",
       "    </tr>\n",
       "    <tr>\n",
       "      <th>sp_90</th>\n",
       "      <td>3097.74</td>\n",
       "      <td>3083.76</td>\n",
       "      <td>3130.01</td>\n",
       "      <td>2991.77</td>\n",
       "      <td>3115.34</td>\n",
       "    </tr>\n",
       "    <tr>\n",
       "      <th>sp_180</th>\n",
       "      <td>3340.97</td>\n",
       "      <td>3319.47</td>\n",
       "      <td>3298.46</td>\n",
       "      <td>3389.78</td>\n",
       "      <td>3340.97</td>\n",
       "    </tr>\n",
       "  </tbody>\n",
       "</table>\n",
       "</div>"
      ],
      "text/plain": [
       "                                                              0  \\\n",
       "Unnamed: 0                                                    0   \n",
       "level_0                                                       0   \n",
       "transaction_date                                     2020-03-18   \n",
       "ticker                                                     CBRE   \n",
       "asset_description           CBRE Group Inc Common Stock Class A   \n",
       "type                                               sale_partial   \n",
       "amount                                         $1,001 - $15,000   \n",
       "representative                                        Susie Lee   \n",
       "timestamp                                            1584504000   \n",
       "merge_key                                             Susie Lee   \n",
       "people                                                Susie Lee   \n",
       "state                                                    Nevada   \n",
       "party_x                                              Democratic   \n",
       "total_senate_years                                            0   \n",
       "total_house_years                                             2   \n",
       "total_years                                                   2   \n",
       "donation_merge_key                                    Susie Lee   \n",
       "name                                                  Susie Lee   \n",
       "total_raised                                           $4748019   \n",
       "total_from_small_donors                                 $284775   \n",
       "percent_from_small_donors*                                6.00%   \n",
       "total_money_raised                            Raised over $100k   \n",
       "party_y                                                       D   \n",
       "start                                                     35.52   \n",
       "day_30                                                     44.5   \n",
       "day_60                                                    39.09   \n",
       "day_90                                                    46.74   \n",
       "day_180                                                   46.91   \n",
       "sp_start                                                 2398.1   \n",
       "sp_30                                                   2874.56   \n",
       "sp_60                                                   2953.91   \n",
       "sp_90                                                   3097.74   \n",
       "sp_180                                                  3340.97   \n",
       "\n",
       "                                              1                           2  \\\n",
       "Unnamed: 0                                    1                           2   \n",
       "level_0                                       1                           2   \n",
       "transaction_date                     2020-03-24                  2020-03-31   \n",
       "ticker                                      CNC                          DG   \n",
       "asset_description           Centene Corporation  Dollar General Corporation   \n",
       "type                                   purchase                    purchase   \n",
       "amount                         $1,001 - $15,000            $1,001 - $15,000   \n",
       "representative                        Susie Lee                   Susie Lee   \n",
       "timestamp                            1585022400                  1585627200   \n",
       "merge_key                             Susie Lee                   Susie Lee   \n",
       "people                                Susie Lee                   Susie Lee   \n",
       "state                                    Nevada                      Nevada   \n",
       "party_x                              Democratic                  Democratic   \n",
       "total_senate_years                            0                           0   \n",
       "total_house_years                             2                           2   \n",
       "total_years                                   2                           2   \n",
       "donation_merge_key                    Susie Lee                   Susie Lee   \n",
       "name                                  Susie Lee                   Susie Lee   \n",
       "total_raised                           $4748019                    $4748019   \n",
       "total_from_small_donors                 $284775                     $284775   \n",
       "percent_from_small_donors*                6.00%                       6.00%   \n",
       "total_money_raised            Raised over $100k           Raised over $100k   \n",
       "party_y                                       D                           D   \n",
       "start                                     48.73                      151.01   \n",
       "day_30                                    69.24                       175.3   \n",
       "day_60                                    64.84                       191.5   \n",
       "day_90                                    63.36                      189.48   \n",
       "day_180                                   61.13                      208.39   \n",
       "sp_start                                2447.33                     2584.59   \n",
       "sp_30                                    2797.8                     2912.43   \n",
       "sp_60                                   2955.45                     3055.73   \n",
       "sp_90                                   3083.76                     3130.01   \n",
       "sp_180                                  3319.47                     3298.46   \n",
       "\n",
       "                                            3                  4  \n",
       "Unnamed: 0                                  3                  4  \n",
       "level_0                                     3                  4  \n",
       "transaction_date                   2020-02-21         2020-03-17  \n",
       "ticker                                    ENV                LKQ  \n",
       "asset_description              Envestnet, Inc    LKQ Corporation  \n",
       "type                             sale_partial       sale_partial  \n",
       "amount                       $1,001 - $15,000   $1,001 - $15,000  \n",
       "representative                      Susie Lee          Susie Lee  \n",
       "timestamp                          1582261200         1584417600  \n",
       "merge_key                           Susie Lee          Susie Lee  \n",
       "people                              Susie Lee          Susie Lee  \n",
       "state                                  Nevada             Nevada  \n",
       "party_x                            Democratic         Democratic  \n",
       "total_senate_years                          0                  0  \n",
       "total_house_years                           2                  2  \n",
       "total_years                                 2                  2  \n",
       "donation_merge_key                  Susie Lee          Susie Lee  \n",
       "name                                Susie Lee          Susie Lee  \n",
       "total_raised                         $4748019           $4748019  \n",
       "total_from_small_donors               $284775            $284775  \n",
       "percent_from_small_donors*              6.00%              6.00%  \n",
       "total_money_raised          Raised over $100k  Raised over $100k  \n",
       "party_y                                     D                  D  \n",
       "start                                   78.99              19.69  \n",
       "day_30                                  48.86              19.84  \n",
       "day_60                                   55.4               23.6  \n",
       "day_90                                  70.97              25.98  \n",
       "day_180                                 80.24              32.16  \n",
       "sp_start                              3337.75            2529.19  \n",
       "sp_30                                  2237.4            2799.55  \n",
       "sp_60                                 2799.31             2863.7  \n",
       "sp_90                                 2991.77            3115.34  \n",
       "sp_180                                3389.78            3340.97  "
      ]
     },
     "execution_count": 81,
     "metadata": {},
     "output_type": "execute_result"
    }
   ],
   "source": [
    "train.head().T"
   ]
  },
  {
   "cell_type": "code",
   "execution_count": 82,
   "metadata": {},
   "outputs": [
    {
     "data": {
      "text/plain": [
       "array(['Raised over $100k', 'Raised less than $100k'], dtype=object)"
      ]
     },
     "execution_count": 82,
     "metadata": {},
     "output_type": "execute_result"
    }
   ],
   "source": [
    "train.total_money_raised.unique()"
   ]
  },
  {
   "cell_type": "code",
   "execution_count": 83,
   "metadata": {},
   "outputs": [],
   "source": [
    "train.total_money_raised = train['total_money_raised'].map(lambda x: 0 if x ==  'Raised less than $100k' else 1)"
   ]
  },
  {
   "cell_type": "code",
   "execution_count": 84,
   "metadata": {},
   "outputs": [],
   "source": [
    "train.total_raised = train['total_raised'].map(lambda x: x.strip('$').strip('-').strip('$'))"
   ]
  },
  {
   "cell_type": "code",
   "execution_count": 85,
   "metadata": {},
   "outputs": [],
   "source": [
    "train['percent_from_small_donors*'] = train['percent_from_small_donors*'].map(lambda x: x.strip('%'))"
   ]
  },
  {
   "cell_type": "code",
   "execution_count": 86,
   "metadata": {},
   "outputs": [],
   "source": [
    "train['percent_from_small_donors*'] = train['percent_from_small_donors*'].astype('float')\n",
    "train.total_raised = train.total_raised.astype('int')"
   ]
  },
  {
   "cell_type": "code",
   "execution_count": 87,
   "metadata": {},
   "outputs": [],
   "source": [
    "train.total_from_small_donors = train.total_from_small_donors.map(lambda x: x.strip('$'))"
   ]
  },
  {
   "cell_type": "code",
   "execution_count": 88,
   "metadata": {},
   "outputs": [],
   "source": [
    "train.total_from_small_donors = train.total_from_small_donors.astype('int')"
   ]
  },
  {
   "cell_type": "code",
   "execution_count": 89,
   "metadata": {},
   "outputs": [
    {
     "data": {
      "text/plain": [
       "Unnamed: 0                      int64\n",
       "level_0                         int64\n",
       "transaction_date               object\n",
       "ticker                         object\n",
       "asset_description              object\n",
       "type                           object\n",
       "amount                         object\n",
       "representative                 object\n",
       "timestamp                       int64\n",
       "merge_key                      object\n",
       "people                         object\n",
       "state                          object\n",
       "party_x                        object\n",
       "total_senate_years              int64\n",
       "total_house_years               int64\n",
       "total_years                     int64\n",
       "donation_merge_key             object\n",
       "name                           object\n",
       "total_raised                    int64\n",
       "total_from_small_donors         int64\n",
       "percent_from_small_donors*    float64\n",
       "total_money_raised              int64\n",
       "party_y                        object\n",
       "start                         float64\n",
       "day_30                        float64\n",
       "day_60                        float64\n",
       "day_90                        float64\n",
       "day_180                       float64\n",
       "sp_start                      float64\n",
       "sp_30                         float64\n",
       "sp_60                         float64\n",
       "sp_90                         float64\n",
       "sp_180                        float64\n",
       "dtype: object"
      ]
     },
     "execution_count": 89,
     "metadata": {},
     "output_type": "execute_result"
    }
   ],
   "source": [
    "train.dtypes"
   ]
  },
  {
   "cell_type": "code",
   "execution_count": 90,
   "metadata": {},
   "outputs": [],
   "source": [
    "train.drop(columns = ['party_y', 'name', 'donation_merge_key', 'representative', 'Unnamed: 0'], inplace = True)"
   ]
  },
  {
   "cell_type": "code",
   "execution_count": 91,
   "metadata": {},
   "outputs": [
    {
     "data": {
      "text/plain": [
       "Index(['level_0', 'transaction_date', 'ticker', 'asset_description', 'type',\n",
       "       'amount', 'timestamp', 'merge_key', 'people', 'state', 'party_x',\n",
       "       'total_senate_years', 'total_house_years', 'total_years',\n",
       "       'total_raised', 'total_from_small_donors', 'percent_from_small_donors*',\n",
       "       'total_money_raised', 'start', 'day_30', 'day_60', 'day_90', 'day_180',\n",
       "       'sp_start', 'sp_30', 'sp_60', 'sp_90', 'sp_180'],\n",
       "      dtype='object')"
      ]
     },
     "execution_count": 91,
     "metadata": {},
     "output_type": "execute_result"
    }
   ],
   "source": [
    "train.columns"
   ]
  },
  {
   "cell_type": "code",
   "execution_count": 95,
   "metadata": {},
   "outputs": [
    {
     "data": {
      "text/plain": [
       "people\n",
       "Linda Sanchez, T.        0.050000\n",
       "Maria Cantwell           6.518000\n",
       "Tim Burchett             9.750000\n",
       "E. Coleman, Thomas      10.230000\n",
       "Michael Enzi, B.        12.260000\n",
       "                         ...     \n",
       "Nancy Pelosi           567.524073\n",
       "Dan Crenshaw           600.180020\n",
       "Allen Boyd             839.934986\n",
       "Thomas Massie          880.020020\n",
       "Harley Rouda          1161.655000\n",
       "Name: day_180, Length: 135, dtype: float64"
      ]
     },
     "execution_count": 95,
     "metadata": {},
     "output_type": "execute_result"
    }
   ],
   "source": [
    "#avg return on day 180 vs sp_180\n",
    "train.groupby('people')['day_180'].mean().sort_values()"
   ]
  },
  {
   "cell_type": "code",
   "execution_count": 97,
   "metadata": {},
   "outputs": [
    {
     "data": {
      "text/plain": [
       "array(['$1,001 - $15,000', '$1,001 -', '$5,000,001 - $25,000,000',\n",
       "       '$15,001 - $50,000', '$100,001 - $250,000',\n",
       "       '$1,000,001 - $5,000,000', '$50,001 - $100,000',\n",
       "       '$250,001 - $500,000', '$500,001 - $1,000,000'], dtype=object)"
      ]
     },
     "execution_count": 97,
     "metadata": {},
     "output_type": "execute_result"
    }
   ],
   "source": [
    "train.amount.unique()"
   ]
  },
  {
   "cell_type": "code",
   "execution_count": null,
   "metadata": {},
   "outputs": [],
   "source": [
    "X = \n",
    "y = "
   ]
  },
  {
   "cell_type": "code",
   "execution_count": null,
   "metadata": {},
   "outputs": [],
   "source": [
    "# train test splitting \n",
    "X_train, X_test, y_train, y_test = train_test_split(X, y, stratify = y)"
   ]
  },
  {
   "cell_type": "code",
   "execution_count": null,
   "metadata": {},
   "outputs": [],
   "source": [
    "pipe = Pipeline([\n",
    "    'ss' = StandardScaler()\n",
    "    'model', LassoCV()\n",
    "])\n",
    "\n",
    "params = {\n",
    "}\n",
    "\n",
    "gs = GridSearchCV(pipe, params, cv = 5, verbose = 1)\n",
    "\n",
    "gs.fit(X_train, y_train)"
   ]
  },
  {
   "cell_type": "code",
   "execution_count": null,
   "metadata": {},
   "outputs": [],
   "source": [
    "#checking variance and bias\n",
    "\n",
    "print('Training Score:', gs.score(X_train, y_train))\n",
    "print('Testing Score:', gs.score(X_test, y_test))"
   ]
  },
  {
   "cell_type": "code",
   "execution_count": null,
   "metadata": {},
   "outputs": [],
   "source": [
    "# what features were the best indicators of stock performance \n",
    "\n",
    "gs.best_params_"
   ]
  },
  {
   "cell_type": "markdown",
   "metadata": {},
   "source": [
    "# Get Coefficients\n",
    "\n",
    "if gridsearched, to get coefficients without using best_features, you can rerun the model here"
   ]
  },
  {
   "cell_type": "code",
   "execution_count": null,
   "metadata": {},
   "outputs": [],
   "source": [
    "X_train, X_test, y_train, y_test = train_test_split(X, y, stratify = y)"
   ]
  },
  {
   "cell_type": "code",
   "execution_count": null,
   "metadata": {},
   "outputs": [],
   "source": [
    "lasso = LassoCV()\n",
    "\n",
    "logreg.fit(X_train, y_train)"
   ]
  },
  {
   "cell_type": "code",
   "execution_count": null,
   "metadata": {},
   "outputs": [],
   "source": [
    "coefficients = pd.DataFrame({'Feature': X_train.columns, 'coef':logreg.coef_})"
   ]
  }
 ],
 "metadata": {
  "kernelspec": {
   "display_name": "Python 3",
   "language": "python",
   "name": "python3"
  },
  "language_info": {
   "codemirror_mode": {
    "name": "ipython",
    "version": 3
   },
   "file_extension": ".py",
   "mimetype": "text/x-python",
   "name": "python",
   "nbconvert_exporter": "python",
   "pygments_lexer": "ipython3",
   "version": "3.8.5"
  }
 },
 "nbformat": 4,
 "nbformat_minor": 4
}
