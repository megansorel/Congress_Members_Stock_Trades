{
 "cells": [
  {
   "cell_type": "code",
   "execution_count": 106,
   "metadata": {
    "ExecuteTime": {
     "end_time": "2021-06-10T13:36:24.948810Z",
     "start_time": "2021-06-10T13:36:24.934654Z"
    }
   },
   "outputs": [],
   "source": [
    "import pandas as pd\n",
    "import numpy as np\n",
    "\n",
    "# import models here \n",
    "import pandas as pd\n",
    "import numpy as np\n",
    "from sklearn.model_selection import GridSearchCV, train_test_split\n",
    "from sklearn.tree import DecisionTreeClassifier\n",
    "from sklearn.linear_model import LogisticRegression\n",
    "from sklearn.svm import SVC\n",
    "from sklearn.ensemble import AdaBoostClassifier, BaggingClassifier, ExtraTreesClassifier\n",
    "from sklearn.ensemble import VotingClassifier, GradientBoostingClassifier, RandomForestClassifier\n",
    "from sklearn.metrics import plot_confusion_matrix\n",
    "from sklearn.preprocessing import StandardScaler, PolynomialFeatures\n",
    "from sklearn.pipeline import Pipeline\n",
    "import sklearn.metrics as metrics\n",
    "from sklearn.metrics import accuracy_score\n",
    "from sklearn.metrics import confusion_matrix, plot_confusion_matrix\n",
    "\n",
    "#setting up random seed for project requirements \n",
    "np.random.seed(73)\n"
   ]
  },
  {
   "cell_type": "code",
   "execution_count": 107,
   "metadata": {
    "ExecuteTime": {
     "end_time": "2021-06-10T13:36:25.458624Z",
     "start_time": "2021-06-10T13:36:24.952466Z"
    }
   },
   "outputs": [],
   "source": [
    "#reading in final dataset from EDA \n",
    "df = pd.read_csv('../data/stock_percentage_difference.csv')"
   ]
  },
  {
   "cell_type": "code",
   "execution_count": 108,
   "metadata": {
    "ExecuteTime": {
     "end_time": "2021-06-10T13:36:25.467682Z",
     "start_time": "2021-06-10T13:36:25.460020Z"
    }
   },
   "outputs": [
    {
     "data": {
      "text/plain": [
       "Index(['Unnamed: 0', 'level_0', 'transaction_date', 'ticker',\n",
       "       'asset_description', 'type', 'amount', 'representative', 'timestamp',\n",
       "       'merge_key', 'people', 'state', 'party_x', 'total_senate_years',\n",
       "       'total_house_years', 'total_years', 'donation_merge_key', 'name',\n",
       "       'total_raised', 'total_from_small_donors', 'percent_from_small_donors*',\n",
       "       'total_money_raised', 'party_y', 'start', 'day_30',\n",
       "       'day_30_stock_perc_diff', 'day_60', 'day_60_stock_perc_diff', 'day_90',\n",
       "       'day_90_stock_perc_diff', 'day_180', 'day_180_stock_perc_diff',\n",
       "       'sp_start', 'sp_30', 'sp_30_sp_perc_diff', 'sp_60',\n",
       "       'sp_60_sp_perc_diff', 'sp_90', 'sp_90_sp_perc_diff', 'sp_180',\n",
       "       'sp_180_sp_perc_diff'],\n",
       "      dtype='object')"
      ]
     },
     "execution_count": 108,
     "metadata": {},
     "output_type": "execute_result"
    }
   ],
   "source": [
    "df.columns"
   ]
  },
  {
   "cell_type": "code",
   "execution_count": 109,
   "metadata": {
    "ExecuteTime": {
     "end_time": "2021-06-10T13:36:25.513157Z",
     "start_time": "2021-06-10T13:36:25.468839Z"
    }
   },
   "outputs": [],
   "source": [
    "df['total_raised'] =[int(raised.replace('$','')) for raised in df['total_raised']]"
   ]
  },
  {
   "cell_type": "code",
   "execution_count": 110,
   "metadata": {
    "ExecuteTime": {
     "end_time": "2021-06-10T13:36:25.520901Z",
     "start_time": "2021-06-10T13:36:25.514041Z"
    }
   },
   "outputs": [],
   "source": [
    "df['percent_from_small_donors*'] = [float(pct.replace('%','')) for pct in df['percent_from_small_donors*']]"
   ]
  },
  {
   "cell_type": "code",
   "execution_count": 111,
   "metadata": {
    "ExecuteTime": {
     "end_time": "2021-06-10T13:36:25.528824Z",
     "start_time": "2021-06-10T13:36:25.522252Z"
    }
   },
   "outputs": [
    {
     "data": {
      "text/plain": [
       "0         6.00\n",
       "1         6.00\n",
       "2         6.00\n",
       "3         6.00\n",
       "4         6.00\n",
       "         ...  \n",
       "10076    19.55\n",
       "10077    19.55\n",
       "10078    19.55\n",
       "10079    19.55\n",
       "10080    19.55\n",
       "Name: percent_from_small_donors*, Length: 10081, dtype: float64"
      ]
     },
     "execution_count": 111,
     "metadata": {},
     "output_type": "execute_result"
    }
   ],
   "source": [
    "df['percent_from_small_donors*']"
   ]
  },
  {
   "cell_type": "code",
   "execution_count": 112,
   "metadata": {
    "ExecuteTime": {
     "end_time": "2021-06-10T13:36:25.548488Z",
     "start_time": "2021-06-10T13:36:25.529714Z"
    }
   },
   "outputs": [
    {
     "data": {
      "text/plain": [
       "purchase        5101\n",
       "sale_full       2804\n",
       "sale_partial    2088\n",
       "exchange          88\n",
       "Name: type, dtype: int64"
      ]
     },
     "execution_count": 112,
     "metadata": {},
     "output_type": "execute_result"
    }
   ],
   "source": [
    "df['type'].value_counts()"
   ]
  },
  {
   "cell_type": "code",
   "execution_count": 113,
   "metadata": {
    "ExecuteTime": {
     "end_time": "2021-06-10T13:36:26.255210Z",
     "start_time": "2021-06-10T13:36:25.551116Z"
    }
   },
   "outputs": [],
   "source": [
    "beats_sp = []\n",
    "for i, row in df.iterrows():\n",
    "    if row['day_180_stock_perc_diff'] > row['sp_180_sp_perc_diff']:\n",
    "        beats_sp.append(1)\n",
    "    else:\n",
    "        beats_sp.append(0)\n",
    "df['beats_sp'] = beats_sp"
   ]
  },
  {
   "cell_type": "code",
   "execution_count": 114,
   "metadata": {
    "ExecuteTime": {
     "end_time": "2021-06-10T13:36:26.279119Z",
     "start_time": "2021-06-10T13:36:26.256641Z"
    }
   },
   "outputs": [],
   "source": [
    "df = df.loc[df['type'] == 'purchase']"
   ]
  },
  {
   "cell_type": "code",
   "execution_count": 115,
   "metadata": {
    "ExecuteTime": {
     "end_time": "2021-06-10T13:36:26.283364Z",
     "start_time": "2021-06-10T13:36:26.280063Z"
    }
   },
   "outputs": [
    {
     "data": {
      "text/plain": [
       "0.46324250147029994"
      ]
     },
     "execution_count": 115,
     "metadata": {},
     "output_type": "execute_result"
    }
   ],
   "source": [
    "df['beats_sp'].mean()"
   ]
  },
  {
   "cell_type": "code",
   "execution_count": 116,
   "metadata": {
    "ExecuteTime": {
     "end_time": "2021-06-10T13:36:26.323849Z",
     "start_time": "2021-06-10T13:36:26.284263Z"
    }
   },
   "outputs": [
    {
     "data": {
      "text/html": [
       "<div>\n",
       "<style scoped>\n",
       "    .dataframe tbody tr th:only-of-type {\n",
       "        vertical-align: middle;\n",
       "    }\n",
       "\n",
       "    .dataframe tbody tr th {\n",
       "        vertical-align: top;\n",
       "    }\n",
       "\n",
       "    .dataframe thead th {\n",
       "        text-align: right;\n",
       "    }\n",
       "</style>\n",
       "<table border=\"1\" class=\"dataframe\">\n",
       "  <thead>\n",
       "    <tr style=\"text-align: right;\">\n",
       "      <th></th>\n",
       "      <th>Unnamed: 0</th>\n",
       "      <th>level_0</th>\n",
       "      <th>transaction_date</th>\n",
       "      <th>ticker</th>\n",
       "      <th>asset_description</th>\n",
       "      <th>type</th>\n",
       "      <th>amount</th>\n",
       "      <th>representative</th>\n",
       "      <th>timestamp</th>\n",
       "      <th>merge_key</th>\n",
       "      <th>...</th>\n",
       "      <th>sp_start</th>\n",
       "      <th>sp_30</th>\n",
       "      <th>sp_30_sp_perc_diff</th>\n",
       "      <th>sp_60</th>\n",
       "      <th>sp_60_sp_perc_diff</th>\n",
       "      <th>sp_90</th>\n",
       "      <th>sp_90_sp_perc_diff</th>\n",
       "      <th>sp_180</th>\n",
       "      <th>sp_180_sp_perc_diff</th>\n",
       "      <th>beats_sp</th>\n",
       "    </tr>\n",
       "  </thead>\n",
       "  <tbody>\n",
       "    <tr>\n",
       "      <th>1</th>\n",
       "      <td>1</td>\n",
       "      <td>1</td>\n",
       "      <td>2020-03-24</td>\n",
       "      <td>CNC</td>\n",
       "      <td>Centene Corporation</td>\n",
       "      <td>purchase</td>\n",
       "      <td>$1,001 - $15,000</td>\n",
       "      <td>Susie Lee</td>\n",
       "      <td>1585022400</td>\n",
       "      <td>Susie Lee</td>\n",
       "      <td>...</td>\n",
       "      <td>2447.330078</td>\n",
       "      <td>2797.800049</td>\n",
       "      <td>0.143</td>\n",
       "      <td>2955.449951</td>\n",
       "      <td>0.208</td>\n",
       "      <td>3083.760010</td>\n",
       "      <td>0.260</td>\n",
       "      <td>3319.469971</td>\n",
       "      <td>0.356</td>\n",
       "      <td>0</td>\n",
       "    </tr>\n",
       "    <tr>\n",
       "      <th>2</th>\n",
       "      <td>2</td>\n",
       "      <td>2</td>\n",
       "      <td>2020-03-31</td>\n",
       "      <td>DG</td>\n",
       "      <td>Dollar General Corporation</td>\n",
       "      <td>purchase</td>\n",
       "      <td>$1,001 - $15,000</td>\n",
       "      <td>Susie Lee</td>\n",
       "      <td>1585627200</td>\n",
       "      <td>Susie Lee</td>\n",
       "      <td>...</td>\n",
       "      <td>2584.590088</td>\n",
       "      <td>2912.429932</td>\n",
       "      <td>0.127</td>\n",
       "      <td>3055.729980</td>\n",
       "      <td>0.182</td>\n",
       "      <td>3130.010010</td>\n",
       "      <td>0.211</td>\n",
       "      <td>3298.459961</td>\n",
       "      <td>0.276</td>\n",
       "      <td>1</td>\n",
       "    </tr>\n",
       "    <tr>\n",
       "      <th>16</th>\n",
       "      <td>17</td>\n",
       "      <td>17</td>\n",
       "      <td>2020-07-02</td>\n",
       "      <td>HD</td>\n",
       "      <td>Home Depot</td>\n",
       "      <td>purchase</td>\n",
       "      <td>$1,001 - $15,000</td>\n",
       "      <td>Robert J. Wittman</td>\n",
       "      <td>1593662400</td>\n",
       "      <td>Robert Wittman, J.</td>\n",
       "      <td>...</td>\n",
       "      <td>3130.010010</td>\n",
       "      <td>3294.610107</td>\n",
       "      <td>0.053</td>\n",
       "      <td>3526.649902</td>\n",
       "      <td>0.127</td>\n",
       "      <td>3408.600098</td>\n",
       "      <td>0.089</td>\n",
       "      <td>3735.360107</td>\n",
       "      <td>0.193</td>\n",
       "      <td>0</td>\n",
       "    </tr>\n",
       "    <tr>\n",
       "      <th>17</th>\n",
       "      <td>18</td>\n",
       "      <td>18</td>\n",
       "      <td>2020-07-02</td>\n",
       "      <td>KMB</td>\n",
       "      <td>Kimberly-Clark Corp</td>\n",
       "      <td>purchase</td>\n",
       "      <td>$1,001 - $15,000</td>\n",
       "      <td>Robert J. Wittman</td>\n",
       "      <td>1593662400</td>\n",
       "      <td>Robert Wittman, J.</td>\n",
       "      <td>...</td>\n",
       "      <td>3130.010010</td>\n",
       "      <td>3294.610107</td>\n",
       "      <td>0.053</td>\n",
       "      <td>3526.649902</td>\n",
       "      <td>0.127</td>\n",
       "      <td>3408.600098</td>\n",
       "      <td>0.089</td>\n",
       "      <td>3735.360107</td>\n",
       "      <td>0.193</td>\n",
       "      <td>0</td>\n",
       "    </tr>\n",
       "    <tr>\n",
       "      <th>18</th>\n",
       "      <td>19</td>\n",
       "      <td>19</td>\n",
       "      <td>2020-07-02</td>\n",
       "      <td>RGLD</td>\n",
       "      <td>Royal Gold Inc</td>\n",
       "      <td>purchase</td>\n",
       "      <td>$1,001 - $15,000</td>\n",
       "      <td>Robert J. Wittman</td>\n",
       "      <td>1593662400</td>\n",
       "      <td>Robert Wittman, J.</td>\n",
       "      <td>...</td>\n",
       "      <td>3130.010010</td>\n",
       "      <td>3294.610107</td>\n",
       "      <td>0.053</td>\n",
       "      <td>3526.649902</td>\n",
       "      <td>0.127</td>\n",
       "      <td>3408.600098</td>\n",
       "      <td>0.089</td>\n",
       "      <td>3735.360107</td>\n",
       "      <td>0.193</td>\n",
       "      <td>0</td>\n",
       "    </tr>\n",
       "    <tr>\n",
       "      <th>...</th>\n",
       "      <td>...</td>\n",
       "      <td>...</td>\n",
       "      <td>...</td>\n",
       "      <td>...</td>\n",
       "      <td>...</td>\n",
       "      <td>...</td>\n",
       "      <td>...</td>\n",
       "      <td>...</td>\n",
       "      <td>...</td>\n",
       "      <td>...</td>\n",
       "      <td>...</td>\n",
       "      <td>...</td>\n",
       "      <td>...</td>\n",
       "      <td>...</td>\n",
       "      <td>...</td>\n",
       "      <td>...</td>\n",
       "      <td>...</td>\n",
       "      <td>...</td>\n",
       "      <td>...</td>\n",
       "      <td>...</td>\n",
       "      <td>...</td>\n",
       "    </tr>\n",
       "    <tr>\n",
       "      <th>10072</th>\n",
       "      <td>10814</td>\n",
       "      <td>10814</td>\n",
       "      <td>2014-01-30</td>\n",
       "      <td>HON</td>\n",
       "      <td>Honeywell International Inc. (NYSE)</td>\n",
       "      <td>purchase</td>\n",
       "      <td>$1,001 - $15,000</td>\n",
       "      <td>Susan M Collins</td>\n",
       "      <td>1391058000</td>\n",
       "      <td>Susan Collins, M.</td>\n",
       "      <td>...</td>\n",
       "      <td>1794.189941</td>\n",
       "      <td>1845.729980</td>\n",
       "      <td>0.029</td>\n",
       "      <td>1885.520020</td>\n",
       "      <td>0.051</td>\n",
       "      <td>1884.660034</td>\n",
       "      <td>0.050</td>\n",
       "      <td>1978.910034</td>\n",
       "      <td>0.103</td>\n",
       "      <td>0</td>\n",
       "    </tr>\n",
       "    <tr>\n",
       "      <th>10073</th>\n",
       "      <td>10815</td>\n",
       "      <td>10815</td>\n",
       "      <td>2014-01-30</td>\n",
       "      <td>CVS</td>\n",
       "      <td>CVS Caremark Corporation (NYSE)</td>\n",
       "      <td>purchase</td>\n",
       "      <td>$1,001 - $15,000</td>\n",
       "      <td>Susan M Collins</td>\n",
       "      <td>1391058000</td>\n",
       "      <td>Susan Collins, M.</td>\n",
       "      <td>...</td>\n",
       "      <td>1794.189941</td>\n",
       "      <td>1845.729980</td>\n",
       "      <td>0.029</td>\n",
       "      <td>1885.520020</td>\n",
       "      <td>0.051</td>\n",
       "      <td>1884.660034</td>\n",
       "      <td>0.050</td>\n",
       "      <td>1978.910034</td>\n",
       "      <td>0.103</td>\n",
       "      <td>1</td>\n",
       "    </tr>\n",
       "    <tr>\n",
       "      <th>10074</th>\n",
       "      <td>10816</td>\n",
       "      <td>10816</td>\n",
       "      <td>2014-01-29</td>\n",
       "      <td>MSFT</td>\n",
       "      <td>Microsoft Corporation (NASDAQ)</td>\n",
       "      <td>purchase</td>\n",
       "      <td>$1,001 - $15,000</td>\n",
       "      <td>Susan M Collins</td>\n",
       "      <td>1390971600</td>\n",
       "      <td>Susan Collins, M.</td>\n",
       "      <td>...</td>\n",
       "      <td>1774.199951</td>\n",
       "      <td>1859.449951</td>\n",
       "      <td>0.048</td>\n",
       "      <td>1872.339966</td>\n",
       "      <td>0.055</td>\n",
       "      <td>1881.140015</td>\n",
       "      <td>0.060</td>\n",
       "      <td>1978.339966</td>\n",
       "      <td>0.115</td>\n",
       "      <td>1</td>\n",
       "    </tr>\n",
       "    <tr>\n",
       "      <th>10078</th>\n",
       "      <td>10820</td>\n",
       "      <td>10820</td>\n",
       "      <td>2014-01-24</td>\n",
       "      <td>FB</td>\n",
       "      <td>Facebook, Inc. (NASDAQ)</td>\n",
       "      <td>purchase</td>\n",
       "      <td>$1,001 - $15,000</td>\n",
       "      <td>Susan M Collins</td>\n",
       "      <td>1390539600</td>\n",
       "      <td>Susan Collins, M.</td>\n",
       "      <td>...</td>\n",
       "      <td>1790.290039</td>\n",
       "      <td>1845.119995</td>\n",
       "      <td>0.031</td>\n",
       "      <td>1852.560059</td>\n",
       "      <td>0.035</td>\n",
       "      <td>1878.329956</td>\n",
       "      <td>0.049</td>\n",
       "      <td>1983.530029</td>\n",
       "      <td>0.108</td>\n",
       "      <td>1</td>\n",
       "    </tr>\n",
       "    <tr>\n",
       "      <th>10079</th>\n",
       "      <td>10821</td>\n",
       "      <td>10821</td>\n",
       "      <td>2014-01-24</td>\n",
       "      <td>CRM</td>\n",
       "      <td>Salesforce.com, Inc (NYSE)</td>\n",
       "      <td>purchase</td>\n",
       "      <td>$1,001 - $15,000</td>\n",
       "      <td>Susan M Collins</td>\n",
       "      <td>1390539600</td>\n",
       "      <td>Susan Collins, M.</td>\n",
       "      <td>...</td>\n",
       "      <td>1790.290039</td>\n",
       "      <td>1845.119995</td>\n",
       "      <td>0.031</td>\n",
       "      <td>1852.560059</td>\n",
       "      <td>0.035</td>\n",
       "      <td>1878.329956</td>\n",
       "      <td>0.049</td>\n",
       "      <td>1983.530029</td>\n",
       "      <td>0.108</td>\n",
       "      <td>0</td>\n",
       "    </tr>\n",
       "  </tbody>\n",
       "</table>\n",
       "<p>5101 rows × 42 columns</p>\n",
       "</div>"
      ],
      "text/plain": [
       "       Unnamed: 0  level_0 transaction_date ticker  \\\n",
       "1               1        1       2020-03-24    CNC   \n",
       "2               2        2       2020-03-31     DG   \n",
       "16             17       17       2020-07-02     HD   \n",
       "17             18       18       2020-07-02    KMB   \n",
       "18             19       19       2020-07-02   RGLD   \n",
       "...           ...      ...              ...    ...   \n",
       "10072       10814    10814       2014-01-30    HON   \n",
       "10073       10815    10815       2014-01-30    CVS   \n",
       "10074       10816    10816       2014-01-29   MSFT   \n",
       "10078       10820    10820       2014-01-24     FB   \n",
       "10079       10821    10821       2014-01-24    CRM   \n",
       "\n",
       "                         asset_description      type            amount  \\\n",
       "1                      Centene Corporation  purchase  $1,001 - $15,000   \n",
       "2               Dollar General Corporation  purchase  $1,001 - $15,000   \n",
       "16                              Home Depot  purchase  $1,001 - $15,000   \n",
       "17                     Kimberly-Clark Corp  purchase  $1,001 - $15,000   \n",
       "18                          Royal Gold Inc  purchase  $1,001 - $15,000   \n",
       "...                                    ...       ...               ...   \n",
       "10072  Honeywell International Inc. (NYSE)  purchase  $1,001 - $15,000   \n",
       "10073      CVS Caremark Corporation (NYSE)  purchase  $1,001 - $15,000   \n",
       "10074       Microsoft Corporation (NASDAQ)  purchase  $1,001 - $15,000   \n",
       "10078              Facebook, Inc. (NASDAQ)  purchase  $1,001 - $15,000   \n",
       "10079           Salesforce.com, Inc (NYSE)  purchase  $1,001 - $15,000   \n",
       "\n",
       "          representative   timestamp           merge_key  ...     sp_start  \\\n",
       "1              Susie Lee  1585022400           Susie Lee  ...  2447.330078   \n",
       "2              Susie Lee  1585627200           Susie Lee  ...  2584.590088   \n",
       "16     Robert J. Wittman  1593662400  Robert Wittman, J.  ...  3130.010010   \n",
       "17     Robert J. Wittman  1593662400  Robert Wittman, J.  ...  3130.010010   \n",
       "18     Robert J. Wittman  1593662400  Robert Wittman, J.  ...  3130.010010   \n",
       "...                  ...         ...                 ...  ...          ...   \n",
       "10072    Susan M Collins  1391058000   Susan Collins, M.  ...  1794.189941   \n",
       "10073    Susan M Collins  1391058000   Susan Collins, M.  ...  1794.189941   \n",
       "10074    Susan M Collins  1390971600   Susan Collins, M.  ...  1774.199951   \n",
       "10078    Susan M Collins  1390539600   Susan Collins, M.  ...  1790.290039   \n",
       "10079    Susan M Collins  1390539600   Susan Collins, M.  ...  1790.290039   \n",
       "\n",
       "             sp_30 sp_30_sp_perc_diff        sp_60  sp_60_sp_perc_diff  \\\n",
       "1      2797.800049              0.143  2955.449951               0.208   \n",
       "2      2912.429932              0.127  3055.729980               0.182   \n",
       "16     3294.610107              0.053  3526.649902               0.127   \n",
       "17     3294.610107              0.053  3526.649902               0.127   \n",
       "18     3294.610107              0.053  3526.649902               0.127   \n",
       "...            ...                ...          ...                 ...   \n",
       "10072  1845.729980              0.029  1885.520020               0.051   \n",
       "10073  1845.729980              0.029  1885.520020               0.051   \n",
       "10074  1859.449951              0.048  1872.339966               0.055   \n",
       "10078  1845.119995              0.031  1852.560059               0.035   \n",
       "10079  1845.119995              0.031  1852.560059               0.035   \n",
       "\n",
       "             sp_90 sp_90_sp_perc_diff       sp_180  sp_180_sp_perc_diff  \\\n",
       "1      3083.760010              0.260  3319.469971                0.356   \n",
       "2      3130.010010              0.211  3298.459961                0.276   \n",
       "16     3408.600098              0.089  3735.360107                0.193   \n",
       "17     3408.600098              0.089  3735.360107                0.193   \n",
       "18     3408.600098              0.089  3735.360107                0.193   \n",
       "...            ...                ...          ...                  ...   \n",
       "10072  1884.660034              0.050  1978.910034                0.103   \n",
       "10073  1884.660034              0.050  1978.910034                0.103   \n",
       "10074  1881.140015              0.060  1978.339966                0.115   \n",
       "10078  1878.329956              0.049  1983.530029                0.108   \n",
       "10079  1878.329956              0.049  1983.530029                0.108   \n",
       "\n",
       "      beats_sp  \n",
       "1            0  \n",
       "2            1  \n",
       "16           0  \n",
       "17           0  \n",
       "18           0  \n",
       "...        ...  \n",
       "10072        0  \n",
       "10073        1  \n",
       "10074        1  \n",
       "10078        1  \n",
       "10079        0  \n",
       "\n",
       "[5101 rows x 42 columns]"
      ]
     },
     "execution_count": 116,
     "metadata": {},
     "output_type": "execute_result"
    }
   ],
   "source": [
    "df"
   ]
  },
  {
   "cell_type": "code",
   "execution_count": 117,
   "metadata": {
    "ExecuteTime": {
     "end_time": "2021-06-10T13:36:26.340496Z",
     "start_time": "2021-06-10T13:36:26.324747Z"
    }
   },
   "outputs": [],
   "source": [
    "Features = ['party_x', 'total_senate_years', 'total_house_years', 'total_raised', 'percent_from_small_donors*']\n",
    "X = df[Features]\n",
    "y = df['beats_sp']\n",
    "\n",
    "X = pd.get_dummies(X, columns = ['party_x'], drop_first = True)"
   ]
  },
  {
   "cell_type": "code",
   "execution_count": 138,
   "metadata": {
    "ExecuteTime": {
     "end_time": "2021-06-10T14:05:48.925386Z",
     "start_time": "2021-06-10T14:05:48.859115Z"
    }
   },
   "outputs": [],
   "source": [
    "# train test splitting \n",
    "X_train, X_test, y_train, y_test = train_test_split(X, y, stratify = y)\n",
    "ss = StandardScaler()\n",
    "X_train_sc = ss.fit_transform(X_train)\n",
    "X_test_sc = ss.transform(X_test)"
   ]
  },
  {
   "cell_type": "code",
   "execution_count": 141,
   "metadata": {
    "ExecuteTime": {
     "end_time": "2021-06-10T14:06:11.776722Z",
     "start_time": "2021-06-10T14:06:11.722401Z"
    }
   },
   "outputs": [],
   "source": [
    "# Voting Regressor\n",
    "\n",
    "# pick and choose here which combinations to try for best model \n",
    "vote = VotingClassifier([\n",
    "    ('logreg', LogisticRegression()),\n",
    "    \n",
    "    ('rfc', RandomForestClassifier()),\n",
    "    ('extatrees', ExtraTreesClassifier()),\n",
    "    ('bag', BaggingClassifier()),\n",
    "    \n",
    "    ('gb', GradientBoostingClassifier()),\n",
    "    ('ada', AdaBoostClassifier()),\n",
    "], voting='soft')\n",
    "\n",
    "\n",
    "grid_params = {\n",
    "    'logreg__penalty': ['l1', 'l2'],\n",
    "    'logreg__C': [0.1, 1], \n",
    "    'logreg__solver': ['saga'],\n",
    "#    'logreg__warm_start': [False, True],\n",
    "    \n",
    "    'rfc__n_estimators': [150, 100],\n",
    "    'rfc__max_depth': [20, 10],\n",
    "\n",
    "    'bag__n_estimators': [20, 10],\n",
    "    'bag__max_samples': [1.0],\n",
    "\n",
    "    'extatrees__n_estimators': [150, 100],\n",
    "    'extatrees__min_samples_split': [2, 1],\n",
    "    \n",
    "    'gb__learning_rate': [1, .1],\n",
    "    'gb__n_estimators': [100, 50],\n",
    "#    'gb__base_estimator': ['DecisionTreeClassifier', 'RandomForestClassifier'],\n",
    "    \n",
    "    'ada__n_estimators': [10, 20],\n",
    "    'ada__learning_rate': [.1, 1],\n",
    "#    'ada__base_estimator': ['DecisionTreeClassifier', 'RandomForestClassifier']\n",
    "\n",
    "}"
   ]
  },
  {
   "cell_type": "code",
   "execution_count": 151,
   "metadata": {
    "ExecuteTime": {
     "end_time": "2021-06-10T14:28:36.465222Z",
     "start_time": "2021-06-10T14:28:33.878075Z"
    }
   },
   "outputs": [
    {
     "ename": "ValueError",
     "evalue": "Invalid parameter ada for estimator GridSearchCV(cv=5,\n             estimator=GridSearchCV(cv=5,\n                                    estimator=VotingClassifier(estimators=[('logreg',\n                                                                            LogisticRegression()),\n                                                                           ('rfc',\n                                                                            RandomForestClassifier()),\n                                                                           ('extatrees',\n                                                                            ExtraTreesClassifier()),\n                                                                           ('bag',\n                                                                            BaggingClassifier()),\n                                                                           ('gb',\n                                                                            GradientBoostingClassifier()),\n                                                                           ('ada',\n                                                                            AdaBoostClassifier())],\n                                                               voting='soft'),\n                                    n_jobs=-1,\n                                    param_grid={'ada__learning_rate': [0.1, 1],\n                                                'ad...\n                         'ada__n_estimators': [10, 20],\n                         'bag__max_samples': [1.0],\n                         'bag__n_estimators': [20, 10],\n                         'extatrees__min_samples_split': [2, 1],\n                         'extatrees__n_estimators': [150, 100],\n                         'gb__learning_rate': [1, 0.1],\n                         'gb__n_estimators': [100, 50], 'logreg__C': [0.1, 1],\n                         'logreg__penalty': ['l1', 'l2'],\n                         'logreg__solver': ['saga'], 'rfc__max_depth': [20, 10],\n                         'rfc__n_estimators': [150, 100]},\n             scoring=['accuracy', 'precision']). Check the list of available parameters with `estimator.get_params().keys()`.",
     "output_type": "error",
     "traceback": [
      "\u001b[0;31m---------------------------------------------------------------------------\u001b[0m",
      "\u001b[0;31m_RemoteTraceback\u001b[0m                          Traceback (most recent call last)",
      "\u001b[0;31m_RemoteTraceback\u001b[0m: \n\"\"\"\nTraceback (most recent call last):\n  File \"/Users/nperry725/opt/anaconda3/lib/python3.8/site-packages/joblib/externals/loky/process_executor.py\", line 431, in _process_worker\n    r = call_item()\n  File \"/Users/nperry725/opt/anaconda3/lib/python3.8/site-packages/joblib/externals/loky/process_executor.py\", line 285, in __call__\n    return self.fn(*self.args, **self.kwargs)\n  File \"/Users/nperry725/opt/anaconda3/lib/python3.8/site-packages/joblib/_parallel_backends.py\", line 595, in __call__\n    return self.func(*args, **kwargs)\n  File \"/Users/nperry725/opt/anaconda3/lib/python3.8/site-packages/joblib/parallel.py\", line 262, in __call__\n    return [func(*args, **kwargs)\n  File \"/Users/nperry725/opt/anaconda3/lib/python3.8/site-packages/joblib/parallel.py\", line 262, in <listcomp>\n    return [func(*args, **kwargs)\n  File \"/Users/nperry725/opt/anaconda3/lib/python3.8/site-packages/sklearn/model_selection/_validation.py\", line 520, in _fit_and_score\n    estimator = estimator.set_params(**cloned_parameters)\n  File \"/Users/nperry725/opt/anaconda3/lib/python3.8/site-packages/sklearn/base.py\", line 249, in set_params\n    raise ValueError('Invalid parameter %s for estimator %s. '\nValueError: Invalid parameter ada for estimator GridSearchCV(cv=5,\n             estimator=GridSearchCV(cv=5,\n                                    estimator=VotingClassifier(estimators=[('logreg',\n                                                                            LogisticRegression()),\n                                                                           ('rfc',\n                                                                            RandomForestClassifier()),\n                                                                           ('extatrees',\n                                                                            ExtraTreesClassifier()),\n                                                                           ('bag',\n                                                                            BaggingClassifier()),\n                                                                           ('gb',\n                                                                            GradientBoostingClassifier()),\n                                                                           ('ada',\n                                                                            AdaBoostClassifier())],\n                                                               voting='soft'),\n                                    n_jobs=-1,\n                                    param_grid={'ada__learning_rate': [0.1, 1],\n                                                'ad...\n                         'ada__n_estimators': [10, 20],\n                         'bag__max_samples': [1.0],\n                         'bag__n_estimators': [20, 10],\n                         'extatrees__min_samples_split': [2, 1],\n                         'extatrees__n_estimators': [150, 100],\n                         'gb__learning_rate': [1, 0.1],\n                         'gb__n_estimators': [100, 50], 'logreg__C': [0.1, 1],\n                         'logreg__penalty': ['l1', 'l2'],\n                         'logreg__solver': ['saga'], 'rfc__max_depth': [20, 10],\n                         'rfc__n_estimators': [150, 100]},\n             scoring=['accuracy', 'precision']). Check the list of available parameters with `estimator.get_params().keys()`.\n\"\"\"",
      "\nThe above exception was the direct cause of the following exception:\n",
      "\u001b[0;31mValueError\u001b[0m                                Traceback (most recent call last)",
      "\u001b[0;32m<ipython-input-151-acd7d3a65757>\u001b[0m in \u001b[0;36m<module>\u001b[0;34m\u001b[0m\n\u001b[1;32m      1\u001b[0m \u001b[0mvote\u001b[0m \u001b[0;34m=\u001b[0m \u001b[0mGridSearchCV\u001b[0m\u001b[0;34m(\u001b[0m\u001b[0mvote\u001b[0m\u001b[0;34m,\u001b[0m \u001b[0mgrid_params\u001b[0m\u001b[0;34m,\u001b[0m \u001b[0mcv\u001b[0m\u001b[0;34m=\u001b[0m\u001b[0;36m5\u001b[0m\u001b[0;34m,\u001b[0m \u001b[0mn_jobs\u001b[0m \u001b[0;34m=\u001b[0m \u001b[0;34m-\u001b[0m\u001b[0;36m1\u001b[0m\u001b[0;34m,\u001b[0m \u001b[0mscoring\u001b[0m \u001b[0;34m=\u001b[0m \u001b[0;34m'precision'\u001b[0m\u001b[0;34m)\u001b[0m\u001b[0;34m\u001b[0m\u001b[0;34m\u001b[0m\u001b[0m\n\u001b[0;32m----> 2\u001b[0;31m \u001b[0mvote\u001b[0m\u001b[0;34m.\u001b[0m\u001b[0mfit\u001b[0m\u001b[0;34m(\u001b[0m\u001b[0mX_train_sc\u001b[0m\u001b[0;34m,\u001b[0m \u001b[0my_train\u001b[0m\u001b[0;34m)\u001b[0m\u001b[0;34m\u001b[0m\u001b[0;34m\u001b[0m\u001b[0m\n\u001b[0m",
      "\u001b[0;32m~/opt/anaconda3/lib/python3.8/site-packages/sklearn/utils/validation.py\u001b[0m in \u001b[0;36minner_f\u001b[0;34m(*args, **kwargs)\u001b[0m\n\u001b[1;32m     70\u001b[0m                           FutureWarning)\n\u001b[1;32m     71\u001b[0m         \u001b[0mkwargs\u001b[0m\u001b[0;34m.\u001b[0m\u001b[0mupdate\u001b[0m\u001b[0;34m(\u001b[0m\u001b[0;34m{\u001b[0m\u001b[0mk\u001b[0m\u001b[0;34m:\u001b[0m \u001b[0marg\u001b[0m \u001b[0;32mfor\u001b[0m \u001b[0mk\u001b[0m\u001b[0;34m,\u001b[0m \u001b[0marg\u001b[0m \u001b[0;32min\u001b[0m \u001b[0mzip\u001b[0m\u001b[0;34m(\u001b[0m\u001b[0msig\u001b[0m\u001b[0;34m.\u001b[0m\u001b[0mparameters\u001b[0m\u001b[0;34m,\u001b[0m \u001b[0margs\u001b[0m\u001b[0;34m)\u001b[0m\u001b[0;34m}\u001b[0m\u001b[0;34m)\u001b[0m\u001b[0;34m\u001b[0m\u001b[0;34m\u001b[0m\u001b[0m\n\u001b[0;32m---> 72\u001b[0;31m         \u001b[0;32mreturn\u001b[0m \u001b[0mf\u001b[0m\u001b[0;34m(\u001b[0m\u001b[0;34m**\u001b[0m\u001b[0mkwargs\u001b[0m\u001b[0;34m)\u001b[0m\u001b[0;34m\u001b[0m\u001b[0;34m\u001b[0m\u001b[0m\n\u001b[0m\u001b[1;32m     73\u001b[0m     \u001b[0;32mreturn\u001b[0m \u001b[0minner_f\u001b[0m\u001b[0;34m\u001b[0m\u001b[0;34m\u001b[0m\u001b[0m\n\u001b[1;32m     74\u001b[0m \u001b[0;34m\u001b[0m\u001b[0m\n",
      "\u001b[0;32m~/opt/anaconda3/lib/python3.8/site-packages/sklearn/model_selection/_search.py\u001b[0m in \u001b[0;36mfit\u001b[0;34m(self, X, y, groups, **fit_params)\u001b[0m\n\u001b[1;32m    734\u001b[0m                 \u001b[0;32mreturn\u001b[0m \u001b[0mresults\u001b[0m\u001b[0;34m\u001b[0m\u001b[0;34m\u001b[0m\u001b[0m\n\u001b[1;32m    735\u001b[0m \u001b[0;34m\u001b[0m\u001b[0m\n\u001b[0;32m--> 736\u001b[0;31m             \u001b[0mself\u001b[0m\u001b[0;34m.\u001b[0m\u001b[0m_run_search\u001b[0m\u001b[0;34m(\u001b[0m\u001b[0mevaluate_candidates\u001b[0m\u001b[0;34m)\u001b[0m\u001b[0;34m\u001b[0m\u001b[0;34m\u001b[0m\u001b[0m\n\u001b[0m\u001b[1;32m    737\u001b[0m \u001b[0;34m\u001b[0m\u001b[0m\n\u001b[1;32m    738\u001b[0m         \u001b[0;31m# For multi-metric evaluation, store the best_index_, best_params_ and\u001b[0m\u001b[0;34m\u001b[0m\u001b[0;34m\u001b[0m\u001b[0;34m\u001b[0m\u001b[0m\n",
      "\u001b[0;32m~/opt/anaconda3/lib/python3.8/site-packages/sklearn/model_selection/_search.py\u001b[0m in \u001b[0;36m_run_search\u001b[0;34m(self, evaluate_candidates)\u001b[0m\n\u001b[1;32m   1186\u001b[0m     \u001b[0;32mdef\u001b[0m \u001b[0m_run_search\u001b[0m\u001b[0;34m(\u001b[0m\u001b[0mself\u001b[0m\u001b[0;34m,\u001b[0m \u001b[0mevaluate_candidates\u001b[0m\u001b[0;34m)\u001b[0m\u001b[0;34m:\u001b[0m\u001b[0;34m\u001b[0m\u001b[0;34m\u001b[0m\u001b[0m\n\u001b[1;32m   1187\u001b[0m         \u001b[0;34m\"\"\"Search all candidates in param_grid\"\"\"\u001b[0m\u001b[0;34m\u001b[0m\u001b[0;34m\u001b[0m\u001b[0m\n\u001b[0;32m-> 1188\u001b[0;31m         \u001b[0mevaluate_candidates\u001b[0m\u001b[0;34m(\u001b[0m\u001b[0mParameterGrid\u001b[0m\u001b[0;34m(\u001b[0m\u001b[0mself\u001b[0m\u001b[0;34m.\u001b[0m\u001b[0mparam_grid\u001b[0m\u001b[0;34m)\u001b[0m\u001b[0;34m)\u001b[0m\u001b[0;34m\u001b[0m\u001b[0;34m\u001b[0m\u001b[0m\n\u001b[0m\u001b[1;32m   1189\u001b[0m \u001b[0;34m\u001b[0m\u001b[0m\n\u001b[1;32m   1190\u001b[0m \u001b[0;34m\u001b[0m\u001b[0m\n",
      "\u001b[0;32m~/opt/anaconda3/lib/python3.8/site-packages/sklearn/model_selection/_search.py\u001b[0m in \u001b[0;36mevaluate_candidates\u001b[0;34m(candidate_params)\u001b[0m\n\u001b[1;32m    706\u001b[0m                               n_splits, n_candidates, n_candidates * n_splits))\n\u001b[1;32m    707\u001b[0m \u001b[0;34m\u001b[0m\u001b[0m\n\u001b[0;32m--> 708\u001b[0;31m                 out = parallel(delayed(_fit_and_score)(clone(base_estimator),\n\u001b[0m\u001b[1;32m    709\u001b[0m                                                        \u001b[0mX\u001b[0m\u001b[0;34m,\u001b[0m \u001b[0my\u001b[0m\u001b[0;34m,\u001b[0m\u001b[0;34m\u001b[0m\u001b[0;34m\u001b[0m\u001b[0m\n\u001b[1;32m    710\u001b[0m                                                        \u001b[0mtrain\u001b[0m\u001b[0;34m=\u001b[0m\u001b[0mtrain\u001b[0m\u001b[0;34m,\u001b[0m \u001b[0mtest\u001b[0m\u001b[0;34m=\u001b[0m\u001b[0mtest\u001b[0m\u001b[0;34m,\u001b[0m\u001b[0;34m\u001b[0m\u001b[0;34m\u001b[0m\u001b[0m\n",
      "\u001b[0;32m~/opt/anaconda3/lib/python3.8/site-packages/joblib/parallel.py\u001b[0m in \u001b[0;36m__call__\u001b[0;34m(self, iterable)\u001b[0m\n\u001b[1;32m   1059\u001b[0m \u001b[0;34m\u001b[0m\u001b[0m\n\u001b[1;32m   1060\u001b[0m             \u001b[0;32mwith\u001b[0m \u001b[0mself\u001b[0m\u001b[0;34m.\u001b[0m\u001b[0m_backend\u001b[0m\u001b[0;34m.\u001b[0m\u001b[0mretrieval_context\u001b[0m\u001b[0;34m(\u001b[0m\u001b[0;34m)\u001b[0m\u001b[0;34m:\u001b[0m\u001b[0;34m\u001b[0m\u001b[0;34m\u001b[0m\u001b[0m\n\u001b[0;32m-> 1061\u001b[0;31m                 \u001b[0mself\u001b[0m\u001b[0;34m.\u001b[0m\u001b[0mretrieve\u001b[0m\u001b[0;34m(\u001b[0m\u001b[0;34m)\u001b[0m\u001b[0;34m\u001b[0m\u001b[0;34m\u001b[0m\u001b[0m\n\u001b[0m\u001b[1;32m   1062\u001b[0m             \u001b[0;31m# Make sure that we get a last message telling us we are done\u001b[0m\u001b[0;34m\u001b[0m\u001b[0;34m\u001b[0m\u001b[0;34m\u001b[0m\u001b[0m\n\u001b[1;32m   1063\u001b[0m             \u001b[0melapsed_time\u001b[0m \u001b[0;34m=\u001b[0m \u001b[0mtime\u001b[0m\u001b[0;34m.\u001b[0m\u001b[0mtime\u001b[0m\u001b[0;34m(\u001b[0m\u001b[0;34m)\u001b[0m \u001b[0;34m-\u001b[0m \u001b[0mself\u001b[0m\u001b[0;34m.\u001b[0m\u001b[0m_start_time\u001b[0m\u001b[0;34m\u001b[0m\u001b[0;34m\u001b[0m\u001b[0m\n",
      "\u001b[0;32m~/opt/anaconda3/lib/python3.8/site-packages/joblib/parallel.py\u001b[0m in \u001b[0;36mretrieve\u001b[0;34m(self)\u001b[0m\n\u001b[1;32m    938\u001b[0m             \u001b[0;32mtry\u001b[0m\u001b[0;34m:\u001b[0m\u001b[0;34m\u001b[0m\u001b[0;34m\u001b[0m\u001b[0m\n\u001b[1;32m    939\u001b[0m                 \u001b[0;32mif\u001b[0m \u001b[0mgetattr\u001b[0m\u001b[0;34m(\u001b[0m\u001b[0mself\u001b[0m\u001b[0;34m.\u001b[0m\u001b[0m_backend\u001b[0m\u001b[0;34m,\u001b[0m \u001b[0;34m'supports_timeout'\u001b[0m\u001b[0;34m,\u001b[0m \u001b[0;32mFalse\u001b[0m\u001b[0;34m)\u001b[0m\u001b[0;34m:\u001b[0m\u001b[0;34m\u001b[0m\u001b[0;34m\u001b[0m\u001b[0m\n\u001b[0;32m--> 940\u001b[0;31m                     \u001b[0mself\u001b[0m\u001b[0;34m.\u001b[0m\u001b[0m_output\u001b[0m\u001b[0;34m.\u001b[0m\u001b[0mextend\u001b[0m\u001b[0;34m(\u001b[0m\u001b[0mjob\u001b[0m\u001b[0;34m.\u001b[0m\u001b[0mget\u001b[0m\u001b[0;34m(\u001b[0m\u001b[0mtimeout\u001b[0m\u001b[0;34m=\u001b[0m\u001b[0mself\u001b[0m\u001b[0;34m.\u001b[0m\u001b[0mtimeout\u001b[0m\u001b[0;34m)\u001b[0m\u001b[0;34m)\u001b[0m\u001b[0;34m\u001b[0m\u001b[0;34m\u001b[0m\u001b[0m\n\u001b[0m\u001b[1;32m    941\u001b[0m                 \u001b[0;32melse\u001b[0m\u001b[0;34m:\u001b[0m\u001b[0;34m\u001b[0m\u001b[0;34m\u001b[0m\u001b[0m\n\u001b[1;32m    942\u001b[0m                     \u001b[0mself\u001b[0m\u001b[0;34m.\u001b[0m\u001b[0m_output\u001b[0m\u001b[0;34m.\u001b[0m\u001b[0mextend\u001b[0m\u001b[0;34m(\u001b[0m\u001b[0mjob\u001b[0m\u001b[0;34m.\u001b[0m\u001b[0mget\u001b[0m\u001b[0;34m(\u001b[0m\u001b[0;34m)\u001b[0m\u001b[0;34m)\u001b[0m\u001b[0;34m\u001b[0m\u001b[0;34m\u001b[0m\u001b[0m\n",
      "\u001b[0;32m~/opt/anaconda3/lib/python3.8/site-packages/joblib/_parallel_backends.py\u001b[0m in \u001b[0;36mwrap_future_result\u001b[0;34m(future, timeout)\u001b[0m\n\u001b[1;32m    540\u001b[0m         AsyncResults.get from multiprocessing.\"\"\"\n\u001b[1;32m    541\u001b[0m         \u001b[0;32mtry\u001b[0m\u001b[0;34m:\u001b[0m\u001b[0;34m\u001b[0m\u001b[0;34m\u001b[0m\u001b[0m\n\u001b[0;32m--> 542\u001b[0;31m             \u001b[0;32mreturn\u001b[0m \u001b[0mfuture\u001b[0m\u001b[0;34m.\u001b[0m\u001b[0mresult\u001b[0m\u001b[0;34m(\u001b[0m\u001b[0mtimeout\u001b[0m\u001b[0;34m=\u001b[0m\u001b[0mtimeout\u001b[0m\u001b[0;34m)\u001b[0m\u001b[0;34m\u001b[0m\u001b[0;34m\u001b[0m\u001b[0m\n\u001b[0m\u001b[1;32m    543\u001b[0m         \u001b[0;32mexcept\u001b[0m \u001b[0mCfTimeoutError\u001b[0m \u001b[0;32mas\u001b[0m \u001b[0me\u001b[0m\u001b[0;34m:\u001b[0m\u001b[0;34m\u001b[0m\u001b[0;34m\u001b[0m\u001b[0m\n\u001b[1;32m    544\u001b[0m             \u001b[0;32mraise\u001b[0m \u001b[0mTimeoutError\u001b[0m \u001b[0;32mfrom\u001b[0m \u001b[0me\u001b[0m\u001b[0;34m\u001b[0m\u001b[0;34m\u001b[0m\u001b[0m\n",
      "\u001b[0;32m~/opt/anaconda3/lib/python3.8/concurrent/futures/_base.py\u001b[0m in \u001b[0;36mresult\u001b[0;34m(self, timeout)\u001b[0m\n\u001b[1;32m    437\u001b[0m                 \u001b[0;32mraise\u001b[0m \u001b[0mCancelledError\u001b[0m\u001b[0;34m(\u001b[0m\u001b[0;34m)\u001b[0m\u001b[0;34m\u001b[0m\u001b[0;34m\u001b[0m\u001b[0m\n\u001b[1;32m    438\u001b[0m             \u001b[0;32melif\u001b[0m \u001b[0mself\u001b[0m\u001b[0;34m.\u001b[0m\u001b[0m_state\u001b[0m \u001b[0;34m==\u001b[0m \u001b[0mFINISHED\u001b[0m\u001b[0;34m:\u001b[0m\u001b[0;34m\u001b[0m\u001b[0;34m\u001b[0m\u001b[0m\n\u001b[0;32m--> 439\u001b[0;31m                 \u001b[0;32mreturn\u001b[0m \u001b[0mself\u001b[0m\u001b[0;34m.\u001b[0m\u001b[0m__get_result\u001b[0m\u001b[0;34m(\u001b[0m\u001b[0;34m)\u001b[0m\u001b[0;34m\u001b[0m\u001b[0;34m\u001b[0m\u001b[0m\n\u001b[0m\u001b[1;32m    440\u001b[0m             \u001b[0;32melse\u001b[0m\u001b[0;34m:\u001b[0m\u001b[0;34m\u001b[0m\u001b[0;34m\u001b[0m\u001b[0m\n\u001b[1;32m    441\u001b[0m                 \u001b[0;32mraise\u001b[0m \u001b[0mTimeoutError\u001b[0m\u001b[0;34m(\u001b[0m\u001b[0;34m)\u001b[0m\u001b[0;34m\u001b[0m\u001b[0;34m\u001b[0m\u001b[0m\n",
      "\u001b[0;32m~/opt/anaconda3/lib/python3.8/concurrent/futures/_base.py\u001b[0m in \u001b[0;36m__get_result\u001b[0;34m(self)\u001b[0m\n\u001b[1;32m    386\u001b[0m     \u001b[0;32mdef\u001b[0m \u001b[0m__get_result\u001b[0m\u001b[0;34m(\u001b[0m\u001b[0mself\u001b[0m\u001b[0;34m)\u001b[0m\u001b[0;34m:\u001b[0m\u001b[0;34m\u001b[0m\u001b[0;34m\u001b[0m\u001b[0m\n\u001b[1;32m    387\u001b[0m         \u001b[0;32mif\u001b[0m \u001b[0mself\u001b[0m\u001b[0;34m.\u001b[0m\u001b[0m_exception\u001b[0m\u001b[0;34m:\u001b[0m\u001b[0;34m\u001b[0m\u001b[0;34m\u001b[0m\u001b[0m\n\u001b[0;32m--> 388\u001b[0;31m             \u001b[0;32mraise\u001b[0m \u001b[0mself\u001b[0m\u001b[0;34m.\u001b[0m\u001b[0m_exception\u001b[0m\u001b[0;34m\u001b[0m\u001b[0;34m\u001b[0m\u001b[0m\n\u001b[0m\u001b[1;32m    389\u001b[0m         \u001b[0;32melse\u001b[0m\u001b[0;34m:\u001b[0m\u001b[0;34m\u001b[0m\u001b[0;34m\u001b[0m\u001b[0m\n\u001b[1;32m    390\u001b[0m             \u001b[0;32mreturn\u001b[0m \u001b[0mself\u001b[0m\u001b[0;34m.\u001b[0m\u001b[0m_result\u001b[0m\u001b[0;34m\u001b[0m\u001b[0;34m\u001b[0m\u001b[0m\n",
      "\u001b[0;31mValueError\u001b[0m: Invalid parameter ada for estimator GridSearchCV(cv=5,\n             estimator=GridSearchCV(cv=5,\n                                    estimator=VotingClassifier(estimators=[('logreg',\n                                                                            LogisticRegression()),\n                                                                           ('rfc',\n                                                                            RandomForestClassifier()),\n                                                                           ('extatrees',\n                                                                            ExtraTreesClassifier()),\n                                                                           ('bag',\n                                                                            BaggingClassifier()),\n                                                                           ('gb',\n                                                                            GradientBoostingClassifier()),\n                                                                           ('ada',\n                                                                            AdaBoostClassifier())],\n                                                               voting='soft'),\n                                    n_jobs=-1,\n                                    param_grid={'ada__learning_rate': [0.1, 1],\n                                                'ad...\n                         'ada__n_estimators': [10, 20],\n                         'bag__max_samples': [1.0],\n                         'bag__n_estimators': [20, 10],\n                         'extatrees__min_samples_split': [2, 1],\n                         'extatrees__n_estimators': [150, 100],\n                         'gb__learning_rate': [1, 0.1],\n                         'gb__n_estimators': [100, 50], 'logreg__C': [0.1, 1],\n                         'logreg__penalty': ['l1', 'l2'],\n                         'logreg__solver': ['saga'], 'rfc__max_depth': [20, 10],\n                         'rfc__n_estimators': [150, 100]},\n             scoring=['accuracy', 'precision']). Check the list of available parameters with `estimator.get_params().keys()`."
     ]
    }
   ],
   "source": [
    "vote = GridSearchCV(vote, grid_params, cv=5, n_jobs = -1)\n",
    "vote.fit(X_train_sc, y_train)"
   ]
  },
  {
   "cell_type": "code",
   "execution_count": 143,
   "metadata": {
    "ExecuteTime": {
     "end_time": "2021-06-10T14:22:56.700904Z",
     "start_time": "2021-06-10T14:22:56.666277Z"
    }
   },
   "outputs": [
    {
     "data": {
      "text/plain": [
       "0.5597385620915032"
      ]
     },
     "execution_count": 143,
     "metadata": {},
     "output_type": "execute_result"
    }
   ],
   "source": [
    "vote.best_score_"
   ]
  },
  {
   "cell_type": "code",
   "execution_count": 144,
   "metadata": {
    "ExecuteTime": {
     "end_time": "2021-06-10T14:22:58.376358Z",
     "start_time": "2021-06-10T14:22:58.357911Z"
    }
   },
   "outputs": [
    {
     "data": {
      "text/plain": [
       "{'ada__learning_rate': 1,\n",
       " 'ada__n_estimators': 10,\n",
       " 'bag__max_samples': 1.0,\n",
       " 'bag__n_estimators': 20,\n",
       " 'extatrees__min_samples_split': 2,\n",
       " 'extatrees__n_estimators': 100,\n",
       " 'gb__learning_rate': 1,\n",
       " 'gb__n_estimators': 100,\n",
       " 'logreg__C': 1,\n",
       " 'logreg__penalty': 'l2',\n",
       " 'logreg__solver': 'saga',\n",
       " 'rfc__max_depth': 10,\n",
       " 'rfc__n_estimators': 150}"
      ]
     },
     "execution_count": 144,
     "metadata": {},
     "output_type": "execute_result"
    }
   ],
   "source": [
    "vote.best_params_"
   ]
  },
  {
   "cell_type": "code",
   "execution_count": 145,
   "metadata": {
    "ExecuteTime": {
     "end_time": "2021-06-10T14:23:01.543856Z",
     "start_time": "2021-06-10T14:23:01.332965Z"
    }
   },
   "outputs": [
    {
     "name": "stdout",
     "output_type": "stream",
     "text": [
      "Training Score: 0.5822222222222222\n",
      "Testing Score: 0.5462382445141066\n"
     ]
    }
   ],
   "source": [
    "#checking variance and bias\n",
    "\n",
    "print('Training Score:', vote.score(X_train_sc, y_train))\n",
    "print('Testing Score:', vote.score(X_test_sc, y_test))"
   ]
  },
  {
   "cell_type": "code",
   "execution_count": 146,
   "metadata": {
    "ExecuteTime": {
     "end_time": "2021-06-10T14:23:02.301258Z",
     "start_time": "2021-06-10T14:23:01.959684Z"
    }
   },
   "outputs": [
    {
     "data": {
      "image/png": "[encoded data removed]",
      "text/plain": [
       "<Figure size 432x288 with 2 Axes>"
      ]
     },
     "metadata": {
      "needs_background": "light"
     },
     "output_type": "display_data"
    }
   ],
   "source": [
    "plot_confusion_matrix(vote, X_test_sc, y_test, cmap='Blues', \n",
    "                      values_format='d');"
   ]
  },
  {
   "cell_type": "code",
   "execution_count": 147,
   "metadata": {
    "ExecuteTime": {
     "end_time": "2021-06-10T14:23:21.668105Z",
     "start_time": "2021-06-10T14:23:17.833416Z"
    }
   },
   "outputs": [
    {
     "data": {
      "text/plain": [
       "GridSearchCV(estimator=RandomForestClassifier(), n_jobs=-1,\n",
       "             param_grid={'max_depth': [5, 10, 20],\n",
       "                         'n_estimators': [50, 100, 150]})"
      ]
     },
     "execution_count": 147,
     "metadata": {},
     "output_type": "execute_result"
    }
   ],
   "source": [
    "rf = RandomForestClassifier()\n",
    "params = {\n",
    "    'n_estimators': [50, 100, 150],\n",
    "    'max_depth': [5, 10, 20],\n",
    "    \n",
    "}\n",
    "grid = GridSearchCV(rf, params, n_jobs = -1)\n",
    "grid.fit(X_train_sc, y_train)"
   ]
  },
  {
   "cell_type": "code",
   "execution_count": 148,
   "metadata": {
    "ExecuteTime": {
     "end_time": "2021-06-10T14:23:38.863703Z",
     "start_time": "2021-06-10T14:23:38.855165Z"
    }
   },
   "outputs": [
    {
     "data": {
      "text/plain": [
       "0.5584313725490195"
      ]
     },
     "execution_count": 148,
     "metadata": {},
     "output_type": "execute_result"
    }
   ],
   "source": [
    "grid.best_score_"
   ]
  },
  {
   "cell_type": "code",
   "execution_count": 149,
   "metadata": {
    "ExecuteTime": {
     "end_time": "2021-06-10T14:23:39.416471Z",
     "start_time": "2021-06-10T14:23:39.273019Z"
    }
   },
   "outputs": [
    {
     "data": {
      "image/png": "[encoded data removed]",
      "text/plain": [
       "<Figure size 432x288 with 2 Axes>"
      ]
     },
     "metadata": {
      "needs_background": "light"
     },
     "output_type": "display_data"
    }
   ],
   "source": [
    "plot_confusion_matrix(grid, X_test_sc, y_test, cmap='Blues', \n",
    "                      values_format='d');"
   ]
  },
  {
   "cell_type": "code",
   "execution_count": 125,
   "metadata": {
    "ExecuteTime": {
     "end_time": "2021-06-10T13:36:29.077951Z",
     "start_time": "2021-06-10T13:36:29.062351Z"
    }
   },
   "outputs": [
    {
     "ename": "NameError",
     "evalue": "name 'preds' is not defined",
     "output_type": "error",
     "traceback": [
      "\u001b[0;31m---------------------------------------------------------------------------\u001b[0m",
      "\u001b[0;31mNameError\u001b[0m                                 Traceback (most recent call last)",
      "\u001b[0;32m<ipython-input-125-5c2af3a3c0d8>\u001b[0m in \u001b[0;36m<module>\u001b[0;34m\u001b[0m\n\u001b[0;32m----> 1\u001b[0;31m \u001b[0mtn\u001b[0m\u001b[0;34m,\u001b[0m \u001b[0mfp\u001b[0m\u001b[0;34m,\u001b[0m \u001b[0mfn\u001b[0m\u001b[0;34m,\u001b[0m \u001b[0mtp\u001b[0m \u001b[0;34m=\u001b[0m \u001b[0mconfusion_matrix\u001b[0m\u001b[0;34m(\u001b[0m\u001b[0my_test\u001b[0m\u001b[0;34m,\u001b[0m \u001b[0mpreds\u001b[0m\u001b[0;34m)\u001b[0m\u001b[0;34m.\u001b[0m\u001b[0mravel\u001b[0m\u001b[0;34m(\u001b[0m\u001b[0;34m)\u001b[0m\u001b[0;34m\u001b[0m\u001b[0;34m\u001b[0m\u001b[0m\n\u001b[0m",
      "\u001b[0;31mNameError\u001b[0m: name 'preds' is not defined"
     ]
    }
   ],
   "source": [
    "tn, fp, fn, tp = confusion_matrix(y_test, preds).ravel()"
   ]
  },
  {
   "cell_type": "code",
   "execution_count": null,
   "metadata": {},
   "outputs": [],
   "source": []
  }
 ],
 "metadata": {
  "kernelspec": {
   "display_name": "Python 3",
   "language": "python",
   "name": "python3"
  },
  "language_info": {
   "codemirror_mode": {
    "name": "ipython",
    "version": 3
   },
   "file_extension": ".py",
   "mimetype": "text/x-python",
   "name": "python",
   "nbconvert_exporter": "python",
   "pygments_lexer": "ipython3",
   "version": "3.8.5"
  }
 },
 "nbformat": 4,
 "nbformat_minor": 4
}
