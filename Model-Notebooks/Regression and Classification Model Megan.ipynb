{
 "cells": [
  {
   "cell_type": "code",
   "execution_count": 2,
   "metadata": {
    "ExecuteTime": {
     "end_time": "2021-06-10T13:36:24.948810Z",
     "start_time": "2021-06-10T13:36:24.934654Z"
    }
   },
   "outputs": [],
   "source": [
    "import pandas as pd\n",
    "import numpy as np\n",
    "\n",
    "# import models here \n",
    "import pandas as pd\n",
    "import numpy as np\n",
    "from sklearn.model_selection import GridSearchCV, train_test_split\n",
    "from sklearn.tree import DecisionTreeClassifier\n",
    "from sklearn.linear_model import LogisticRegression\n",
    "from sklearn.svm import SVC\n",
    "from sklearn.ensemble import AdaBoostClassifier, BaggingClassifier, ExtraTreesClassifier\n",
    "from sklearn.ensemble import VotingClassifier, GradientBoostingClassifier, RandomForestClassifier\n",
    "from sklearn.metrics import plot_confusion_matrix\n",
    "from sklearn.preprocessing import StandardScaler, PolynomialFeatures\n",
    "from sklearn.pipeline import Pipeline\n",
    "import sklearn.metrics as metrics\n",
    "from sklearn.metrics import accuracy_score\n",
    "from sklearn.linear_model import Ridge, Lasso, LinearRegression\n",
    "#setting up random seed for project requirements \n",
    "np.random.seed(73)\n"
   ]
  },
  {
   "cell_type": "code",
   "execution_count": 3,
   "metadata": {
    "ExecuteTime": {
     "end_time": "2021-06-10T13:36:25.458624Z",
     "start_time": "2021-06-10T13:36:24.952466Z"
    }
   },
   "outputs": [],
   "source": [
    "#reading in final dataset from EDA \n",
    "df = pd.read_csv('../data/stock_percentage_difference.csv')"
   ]
  },
  {
   "cell_type": "code",
   "execution_count": 4,
   "metadata": {
    "ExecuteTime": {
     "end_time": "2021-06-10T13:36:25.467682Z",
     "start_time": "2021-06-10T13:36:25.460020Z"
    }
   },
   "outputs": [
    {
     "data": {
      "text/plain": [
       "Index(['Unnamed: 0', 'level_0', 'transaction_date', 'ticker',\n",
       "       'asset_description', 'type', 'amount', 'representative', 'timestamp',\n",
       "       'merge_key', 'people', 'state', 'party_x', 'total_senate_years',\n",
       "       'total_house_years', 'total_years', 'donation_merge_key', 'name',\n",
       "       'total_raised', 'total_from_small_donors', 'percent_from_small_donors*',\n",
       "       'total_money_raised', 'party_y', 'start', 'day_30',\n",
       "       'day_30_stock_perc_diff', 'day_60', 'day_60_stock_perc_diff', 'day_90',\n",
       "       'day_90_stock_perc_diff', 'day_180', 'day_180_stock_perc_diff',\n",
       "       'sp_start', 'sp_30', 'sp_30_sp_perc_diff', 'sp_60',\n",
       "       'sp_60_sp_perc_diff', 'sp_90', 'sp_90_sp_perc_diff', 'sp_180',\n",
       "       'sp_180_sp_perc_diff'],\n",
       "      dtype='object')"
      ]
     },
     "execution_count": 4,
     "metadata": {},
     "output_type": "execute_result"
    }
   ],
   "source": [
    "df.columns"
   ]
  },
  {
   "cell_type": "code",
   "execution_count": 14,
   "metadata": {},
   "outputs": [
    {
     "name": "stderr",
     "output_type": "stream",
     "text": [
      "<ipython-input-14-d8b0c20ca58f>:1: FutureWarning: Indexing with multiple keys (implicitly converted to a tuple of keys) will be deprecated, use a list instead.\n",
      "  values = df.groupby('representative')['day_180', 'sp_180'].mean().sort_values('day_180')\n"
     ]
    }
   ],
   "source": [
    "values = df.groupby('representative')['day_180', 'sp_180'].mean().sort_values('day_180')"
   ]
  },
  {
   "cell_type": "code",
   "execution_count": 21,
   "metadata": {},
   "outputs": [
    {
     "data": {
      "text/plain": [
       "array([ 0.05      ,  6.51800003,  9.75      , 10.22999954, 12.26000023])"
      ]
     },
     "execution_count": 21,
     "metadata": {},
     "output_type": "execute_result"
    }
   ],
   "source": [
    "values.day_180[:5].values"
   ]
  },
  {
   "cell_type": "code",
   "execution_count": 36,
   "metadata": {
    "ExecuteTime": {
     "end_time": "2021-06-10T13:36:25.513157Z",
     "start_time": "2021-06-10T13:36:25.468839Z"
    }
   },
   "outputs": [],
   "source": [
    "df['total_raised'] =[int(raised.replace('$','')) for raised in df['total_raised']]"
   ]
  },
  {
   "cell_type": "code",
   "execution_count": 37,
   "metadata": {
    "ExecuteTime": {
     "end_time": "2021-06-10T13:36:25.520901Z",
     "start_time": "2021-06-10T13:36:25.514041Z"
    }
   },
   "outputs": [],
   "source": [
    "df['percent_from_small_donors*'] = [float(pct.replace('%','')) for pct in df['percent_from_small_donors*']]"
   ]
  },
  {
   "cell_type": "code",
   "execution_count": 38,
   "metadata": {
    "ExecuteTime": {
     "end_time": "2021-06-10T13:36:25.528824Z",
     "start_time": "2021-06-10T13:36:25.522252Z"
    }
   },
   "outputs": [
    {
     "data": {
      "text/plain": [
       "0         6.00\n",
       "1         6.00\n",
       "2         6.00\n",
       "3         6.00\n",
       "4         6.00\n",
       "         ...  \n",
       "10076    19.55\n",
       "10077    19.55\n",
       "10078    19.55\n",
       "10079    19.55\n",
       "10080    19.55\n",
       "Name: percent_from_small_donors*, Length: 10081, dtype: float64"
      ]
     },
     "execution_count": 38,
     "metadata": {},
     "output_type": "execute_result"
    }
   ],
   "source": [
    "df['percent_from_small_donors*']"
   ]
  },
  {
   "cell_type": "code",
   "execution_count": 39,
   "metadata": {
    "ExecuteTime": {
     "end_time": "2021-06-10T13:36:25.548488Z",
     "start_time": "2021-06-10T13:36:25.529714Z"
    }
   },
   "outputs": [
    {
     "data": {
      "text/plain": [
       "purchase        5101\n",
       "sale_full       2804\n",
       "sale_partial    2088\n",
       "exchange          88\n",
       "Name: type, dtype: int64"
      ]
     },
     "execution_count": 39,
     "metadata": {},
     "output_type": "execute_result"
    }
   ],
   "source": [
    "df['type'].value_counts()"
   ]
  },
  {
   "cell_type": "code",
   "execution_count": 40,
   "metadata": {
    "ExecuteTime": {
     "end_time": "2021-06-10T13:36:26.255210Z",
     "start_time": "2021-06-10T13:36:25.551116Z"
    }
   },
   "outputs": [],
   "source": [
    "beats_sp = []\n",
    "for i, row in df.iterrows():\n",
    "    if row['day_180_stock_perc_diff'] > row['sp_180_sp_perc_diff']:\n",
    "        beats_sp.append(1)\n",
    "    else:\n",
    "        beats_sp.append(0)\n",
    "df['beats_sp'] = beats_sp"
   ]
  },
  {
   "cell_type": "code",
   "execution_count": 41,
   "metadata": {
    "ExecuteTime": {
     "end_time": "2021-06-10T13:36:26.279119Z",
     "start_time": "2021-06-10T13:36:26.256641Z"
    }
   },
   "outputs": [],
   "source": [
    "df = df.loc[df['type'] == 'purchase']"
   ]
  },
  {
   "cell_type": "code",
   "execution_count": 42,
   "metadata": {
    "ExecuteTime": {
     "end_time": "2021-06-10T13:36:26.283364Z",
     "start_time": "2021-06-10T13:36:26.280063Z"
    }
   },
   "outputs": [
    {
     "data": {
      "text/plain": [
       "0.46324250147029994"
      ]
     },
     "execution_count": 42,
     "metadata": {},
     "output_type": "execute_result"
    }
   ],
   "source": [
    "df['beats_sp'].mean()"
   ]
  },
  {
   "cell_type": "code",
   "execution_count": 43,
   "metadata": {
    "ExecuteTime": {
     "end_time": "2021-06-10T13:36:26.323849Z",
     "start_time": "2021-06-10T13:36:26.284263Z"
    }
   },
   "outputs": [
    {
     "data": {
      "text/plain": [
       "Index(['Unnamed: 0', 'level_0', 'transaction_date', 'ticker',\n",
       "       'asset_description', 'type', 'amount', 'representative', 'timestamp',\n",
       "       'merge_key', 'people', 'state', 'party_x', 'total_senate_years',\n",
       "       'total_house_years', 'total_years', 'donation_merge_key', 'name',\n",
       "       'total_raised', 'total_from_small_donors', 'percent_from_small_donors*',\n",
       "       'total_money_raised', 'party_y', 'start', 'day_30',\n",
       "       'day_30_stock_perc_diff', 'day_60', 'day_60_stock_perc_diff', 'day_90',\n",
       "       'day_90_stock_perc_diff', 'day_180', 'day_180_stock_perc_diff',\n",
       "       'sp_start', 'sp_30', 'sp_30_sp_perc_diff', 'sp_60',\n",
       "       'sp_60_sp_perc_diff', 'sp_90', 'sp_90_sp_perc_diff', 'sp_180',\n",
       "       'sp_180_sp_perc_diff', 'beats_sp'],\n",
       "      dtype='object')"
      ]
     },
     "execution_count": 43,
     "metadata": {},
     "output_type": "execute_result"
    }
   ],
   "source": [
    "df.columns"
   ]
  },
  {
   "cell_type": "code",
   "execution_count": 95,
   "metadata": {
    "ExecuteTime": {
     "end_time": "2021-06-10T13:36:26.340496Z",
     "start_time": "2021-06-10T13:36:26.324747Z"
    }
   },
   "outputs": [],
   "source": [
    "Features = ['party_x', 'ticker', 'total_years', 'total_raised', 'percent_from_small_donors*']\n",
    "X = df[Features]\n",
    "y = df['beats_sp']\n",
    "\n",
    "X = pd.get_dummies(X, columns = ['party_x', 'ticker'], drop_first = True)"
   ]
  },
  {
   "cell_type": "code",
   "execution_count": 96,
   "metadata": {},
   "outputs": [
    {
     "data": {
      "text/plain": [
       "array([  4748019,   5695157,   2182985,    352725,   1813365,   1534882,\n",
       "         1092609,   1336576,    874311,    678648,    736116,    540712,\n",
       "         -561303,   2328616,    847320,   3384490,   4370133,    410261,\n",
       "         1755555,   6128177,    658295,   1008847,   2018692,   4794213,\n",
       "         1194960,   1024912,   1729482,   2338195,   1166754,   7694027,\n",
       "         1405738,    791888,    103492,   1094104,   9962507,   1858388,\n",
       "         1161738,   1228970,   1202509,  27359508,    964731,    942386,\n",
       "         1632262,    655365,   3321170,    759908,   6419707,  10430712,\n",
       "        19427865,   1788706,    884651,   2549667,   1580952,    129584,\n",
       "         1630498,   2105736,    977784,    454043,   2944893,    821745,\n",
       "         6609476,    192137,   3842907,   3616380,    869210,   5968858,\n",
       "         4975192,   1001120,    934102,   4437791,  12071622,  71351350,\n",
       "        28093267,   6452506,  11304150,   5749615,  92135745, 102253913,\n",
       "         7024927,  10472845,   6598997,   4020075,  13360198,  29967118,\n",
       "         5380897,   7145796,   5903909,  51566900,  22693164,   9642785,\n",
       "        13921309,  34158785,  54749210])"
      ]
     },
     "execution_count": 96,
     "metadata": {},
     "output_type": "execute_result"
    }
   ],
   "source": [
    "X['total_raised'].unique()"
   ]
  },
  {
   "cell_type": "code",
   "execution_count": 97,
   "metadata": {},
   "outputs": [
    {
     "data": {
      "text/plain": [
       "total_years                   0\n",
       "total_raised                  0\n",
       "percent_from_small_donors*    0\n",
       "party_x_Independent           0\n",
       "party_x_Libertarian           0\n",
       "                             ..\n",
       "ticker_ZION                   0\n",
       "ticker_ZM                     0\n",
       "ticker_ZNGA                   0\n",
       "ticker_ZTS                    0\n",
       "ticker_ZUO                    0\n",
       "Length: 1186, dtype: int64"
      ]
     },
     "execution_count": 97,
     "metadata": {},
     "output_type": "execute_result"
    }
   ],
   "source": [
    "X.isna().sum()"
   ]
  },
  {
   "cell_type": "code",
   "execution_count": 98,
   "metadata": {
    "ExecuteTime": {
     "end_time": "2021-06-10T14:05:48.925386Z",
     "start_time": "2021-06-10T14:05:48.859115Z"
    }
   },
   "outputs": [],
   "source": [
    "# train test splitting \n",
    "X_train, X_test, y_train, y_test = train_test_split(X, y, stratify = y)\n",
    "ss = StandardScaler()\n",
    "X_train_sc = ss.fit_transform(X_train)\n",
    "X_test_sc = ss.transform(X_test)"
   ]
  },
  {
   "cell_type": "code",
   "execution_count": 100,
   "metadata": {},
   "outputs": [
    {
     "name": "stdout",
     "output_type": "stream",
     "text": [
      "Fitting 5 folds for each of 1 candidates, totalling 5 fits\n"
     ]
    },
    {
     "name": "stderr",
     "output_type": "stream",
     "text": [
      "[Parallel(n_jobs=1)]: Using backend SequentialBackend with 1 concurrent workers.\n",
      "[Parallel(n_jobs=1)]: Done   5 out of   5 | elapsed:    0.6s finished\n"
     ]
    },
    {
     "data": {
      "text/plain": [
       "GridSearchCV(cv=5, estimator=Pipeline(steps=[('logreg', LogisticRegression())]),\n",
       "             param_grid={'logreg__C': [0.1]}, verbose=1)"
      ]
     },
     "execution_count": 100,
     "metadata": {},
     "output_type": "execute_result"
    }
   ],
   "source": [
    "pipe = Pipeline([\n",
    "    ('logreg', LogisticRegression())\n",
    "])\n",
    "\n",
    "params = {'logreg__C':[ .1], \n",
    "#          'logreg__solver': ['saga'],\n",
    "#          'logreg__penalty': ['l1', 'l2']\n",
    "         }\n",
    "\n",
    "\n",
    "gs = GridSearchCV(pipe, params, cv = 5, verbose = 1)\n",
    "\n",
    "gs.fit(X_train_sc, y_train)"
   ]
  },
  {
   "cell_type": "code",
   "execution_count": 101,
   "metadata": {},
   "outputs": [
    {
     "data": {
      "text/plain": [
       "0.6436601307189542"
      ]
     },
     "execution_count": 101,
     "metadata": {},
     "output_type": "execute_result"
    }
   ],
   "source": [
    "gs.best_score_"
   ]
  },
  {
   "cell_type": "code",
   "execution_count": 102,
   "metadata": {
    "ExecuteTime": {
     "end_time": "2021-06-10T14:22:56.700904Z",
     "start_time": "2021-06-10T14:22:56.666277Z"
    }
   },
   "outputs": [
    {
     "data": {
      "text/plain": [
       "{'logreg__C': 0.1}"
      ]
     },
     "execution_count": 102,
     "metadata": {},
     "output_type": "execute_result"
    }
   ],
   "source": [
    "gs.best_params_"
   ]
  },
  {
   "cell_type": "code",
   "execution_count": 103,
   "metadata": {
    "ExecuteTime": {
     "end_time": "2021-06-10T14:23:01.543856Z",
     "start_time": "2021-06-10T14:23:01.332965Z"
    }
   },
   "outputs": [
    {
     "name": "stdout",
     "output_type": "stream",
     "text": [
      "Training Score: 0.7749019607843137\n",
      "Testing Score: 0.6371473354231975\n"
     ]
    }
   ],
   "source": [
    "#checking variance and bias\n",
    "\n",
    "print('Training Score:', gs.score(X_train_sc, y_train))\n",
    "print('Testing Score:', gs.score(X_test_sc, y_test))"
   ]
  },
  {
   "cell_type": "code",
   "execution_count": 104,
   "metadata": {
    "ExecuteTime": {
     "end_time": "2021-06-10T14:23:02.301258Z",
     "start_time": "2021-06-10T14:23:01.959684Z"
    }
   },
   "outputs": [
    {
     "data": {
      "image/png": "[encoded data removed]",
      "text/plain": [
       "<Figure size 432x288 with 2 Axes>"
      ]
     },
     "metadata": {
      "needs_background": "light"
     },
     "output_type": "display_data"
    }
   ],
   "source": [
    "plot_confusion_matrix(gs, X_test_sc, y_test, cmap='Blues', \n",
    "                      values_format='d');"
   ]
  },
  {
   "cell_type": "code",
   "execution_count": 132,
   "metadata": {},
   "outputs": [],
   "source": [
    "Features = ['party_x', 'ticker', 'total_house_years','total_senate_years', 'total_raised', 'percent_from_small_donors*']\n",
    "X = df[Features]\n",
    "y = df['day_180_stock_perc_diff']\n",
    "\n",
    "X = pd.get_dummies(X, columns = ['party_x', 'ticker'], drop_first = True)"
   ]
  },
  {
   "cell_type": "code",
   "execution_count": 133,
   "metadata": {},
   "outputs": [
    {
     "data": {
      "text/plain": [
       "1        0.254\n",
       "2        0.380\n",
       "16       0.084\n",
       "17      -0.065\n",
       "18      -0.118\n",
       "         ...  \n",
       "10072    0.038\n",
       "10073    0.159\n",
       "10074    0.214\n",
       "10078    0.272\n",
       "10079   -0.082\n",
       "Name: day_180_stock_perc_diff, Length: 5101, dtype: float64"
      ]
     },
     "execution_count": 133,
     "metadata": {},
     "output_type": "execute_result"
    }
   ],
   "source": [
    "y"
   ]
  },
  {
   "cell_type": "code",
   "execution_count": 134,
   "metadata": {},
   "outputs": [],
   "source": [
    "X_train, X_test, y_train, y_test = train_test_split(X, y)\n",
    "ss = StandardScaler()\n",
    "X_train_sc = ss.fit_transform(X_train)\n",
    "X_test_sc = ss.transform(X_test)"
   ]
  },
  {
   "cell_type": "code",
   "execution_count": 135,
   "metadata": {},
   "outputs": [
    {
     "data": {
      "text/plain": [
       "Ridge()"
      ]
     },
     "execution_count": 135,
     "metadata": {},
     "output_type": "execute_result"
    }
   ],
   "source": [
    "ridge = Ridge()\n",
    "\n",
    "ridge.fit(X_train_sc, y_train)"
   ]
  },
  {
   "cell_type": "code",
   "execution_count": 136,
   "metadata": {},
   "outputs": [
    {
     "name": "stdout",
     "output_type": "stream",
     "text": [
      "Training Score: 0.6232794463380655\n",
      "Testing Score: 0.3571042973687232\n"
     ]
    }
   ],
   "source": [
    "print('Training Score:', ridge.score(X_train_sc, y_train))\n",
    "print('Testing Score:', ridge.score(X_test_sc, y_test))"
   ]
  },
  {
   "cell_type": "code",
   "execution_count": 138,
   "metadata": {},
   "outputs": [],
   "source": [
    "coef_df = pd.DataFrame({'Features':X.columns, 'coefs': ridge.coef_})"
   ]
  },
  {
   "cell_type": "code",
   "execution_count": 144,
   "metadata": {},
   "outputs": [
    {
     "data": {
      "text/html": [
       "<div>\n",
       "<style scoped>\n",
       "    .dataframe tbody tr th:only-of-type {\n",
       "        vertical-align: middle;\n",
       "    }\n",
       "\n",
       "    .dataframe tbody tr th {\n",
       "        vertical-align: top;\n",
       "    }\n",
       "\n",
       "    .dataframe thead th {\n",
       "        text-align: right;\n",
       "    }\n",
       "</style>\n",
       "<table border=\"1\" class=\"dataframe\">\n",
       "  <thead>\n",
       "    <tr style=\"text-align: right;\">\n",
       "      <th></th>\n",
       "      <th>Features</th>\n",
       "      <th>coefs</th>\n",
       "    </tr>\n",
       "  </thead>\n",
       "  <tbody>\n",
       "    <tr>\n",
       "      <th>2</th>\n",
       "      <td>total_raised</td>\n",
       "      <td>-0.040132</td>\n",
       "    </tr>\n",
       "    <tr>\n",
       "      <th>724</th>\n",
       "      <td>ticker_NGL</td>\n",
       "      <td>-0.033452</td>\n",
       "    </tr>\n",
       "    <tr>\n",
       "      <th>793</th>\n",
       "      <td>ticker_PASO</td>\n",
       "      <td>-0.030406</td>\n",
       "    </tr>\n",
       "    <tr>\n",
       "      <th>1</th>\n",
       "      <td>total_senate_years</td>\n",
       "      <td>-0.027544</td>\n",
       "    </tr>\n",
       "    <tr>\n",
       "      <th>458</th>\n",
       "      <td>ticker_GLOP</td>\n",
       "      <td>-0.019206</td>\n",
       "    </tr>\n",
       "    <tr>\n",
       "      <th>...</th>\n",
       "      <td>...</td>\n",
       "      <td>...</td>\n",
       "    </tr>\n",
       "    <tr>\n",
       "      <th>935</th>\n",
       "      <td>ticker_SI</td>\n",
       "      <td>0.033819</td>\n",
       "    </tr>\n",
       "    <tr>\n",
       "      <th>130</th>\n",
       "      <td>ticker_BE</td>\n",
       "      <td>0.035959</td>\n",
       "    </tr>\n",
       "    <tr>\n",
       "      <th>131</th>\n",
       "      <td>ticker_BEEM</td>\n",
       "      <td>0.036448</td>\n",
       "    </tr>\n",
       "    <tr>\n",
       "      <th>392</th>\n",
       "      <td>ticker_FCEL</td>\n",
       "      <td>0.098981</td>\n",
       "    </tr>\n",
       "    <tr>\n",
       "      <th>903</th>\n",
       "      <td>ticker_RUN</td>\n",
       "      <td>0.122051</td>\n",
       "    </tr>\n",
       "  </tbody>\n",
       "</table>\n",
       "<p>1187 rows × 2 columns</p>\n",
       "</div>"
      ],
      "text/plain": [
       "               Features     coefs\n",
       "2          total_raised -0.040132\n",
       "724          ticker_NGL -0.033452\n",
       "793         ticker_PASO -0.030406\n",
       "1    total_senate_years -0.027544\n",
       "458         ticker_GLOP -0.019206\n",
       "..                  ...       ...\n",
       "935           ticker_SI  0.033819\n",
       "130           ticker_BE  0.035959\n",
       "131         ticker_BEEM  0.036448\n",
       "392         ticker_FCEL  0.098981\n",
       "903          ticker_RUN  0.122051\n",
       "\n",
       "[1187 rows x 2 columns]"
      ]
     },
     "execution_count": 144,
     "metadata": {},
     "output_type": "execute_result"
    }
   ],
   "source": [
    "coef_df.sort_values('coefs')"
   ]
  },
  {
   "cell_type": "code",
   "execution_count": null,
   "metadata": {},
   "outputs": [],
   "source": []
  }
 ],
 "metadata": {
  "kernelspec": {
   "display_name": "Python 3",
   "language": "python",
   "name": "python3"
  },
  "language_info": {
   "codemirror_mode": {
    "name": "ipython",
    "version": 3
   },
   "file_extension": ".py",
   "mimetype": "text/x-python",
   "name": "python",
   "nbconvert_exporter": "python",
   "pygments_lexer": "ipython3",
   "version": "3.8.5"
  }
 },
 "nbformat": 4,
 "nbformat_minor": 4
}
