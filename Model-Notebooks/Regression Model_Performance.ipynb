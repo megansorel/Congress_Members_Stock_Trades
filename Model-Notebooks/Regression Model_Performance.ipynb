{
 "cells": [
  {
   "cell_type": "code",
   "execution_count": 1,
   "metadata": {},
   "outputs": [],
   "source": [
    "import pandas as pd\n",
    "import numpy as np\n",
    "from sklearn.model_selection import GridSearchCV, train_test_split\n",
    "from sklearn.tree import DecisionTreeRegressor\n",
    "from sklearn.linear_model import LinearRegression\n",
    "from sklearn.svm import SVC\n",
    "from sklearn.ensemble import AdaBoostRegressor, BaggingRegressor, ExtraTreesRegressor\n",
    "from sklearn.ensemble import VotingRegressor, GradientBoostingRegressor, RandomForestRegressor\n",
    "from sklearn.pipeline import Pipeline\n",
    "from sklearn.svm import SVR\n",
    "\n",
    "#setting up random seed for project requirements \n",
    "np.random.seed(73)"
   ]
  },
  {
   "cell_type": "code",
   "execution_count": null,
   "metadata": {},
   "outputs": [],
   "source": [
    "#reading in final dataset from EDA \n",
    "df = pd.read_csv('./data/')"
   ]
  },
  {
   "cell_type": "code",
   "execution_count": null,
   "metadata": {},
   "outputs": [],
   "source": [
    "X = \n",
    "y = "
   ]
  },
  {
   "cell_type": "code",
   "execution_count": null,
   "metadata": {},
   "outputs": [],
   "source": [
    "# train test splitting \n",
    "X_train, X_test, y_train, y_test = train_test_split(X, y, stratify = y)"
   ]
  },
  {
   "cell_type": "code",
   "execution_count": null,
   "metadata": {},
   "outputs": [],
   "source": [
    "# Voting Regressor\n",
    "\n",
    "# pick and choose here which combinations to try for best model \n",
    "lr = LinearRegression()\n",
    "    \n",
    "rfc = RandomForestRegressor()\n",
    "bag = BaggingRegressor()\n",
    "    \n",
    "ada = AdaBoostRegressor()\n",
    "\n",
    "svr = SVR()\n",
    "\n",
    "#NOTE: comment out the model you are not using currently\n",
    "grid_params = {\n",
    "    #randomforest\n",
    "    'n_estimators': [50 100, 150],\n",
    "    'max_depth': [5, 15, 20],\n",
    "    \n",
    "    #bagging\n",
    "    'n_estimators': [],\n",
    "    'max_samples': []\n",
    "    \n",
    "    #ada\n",
    "    'n_estimators': [10, 50, 10],\n",
    "    'learning_rate': [.1, .01],\n",
    "    'base_estimator': ['DecisionTreeRegressor', 'RandomForestRegressor']\n",
    "\n",
    "    #svr #these may take a while, so pick and choose\n",
    "    'C':[.01, .1, 1],\n",
    "    'kernel' : ['linear', 'poly', 'rbf', 'sigmoid'],\n",
    "    'gamma': ['auto', 'scale']\n",
    "    \n",
    "}"
   ]
  },
  {
   "cell_type": "code",
   "execution_count": null,
   "metadata": {},
   "outputs": [],
   "source": [
    "vote = GridSearchCV(vote, grid_params, cv=5, n_jobs = -1)\n",
    "vote.fit(X_train, y_train)"
   ]
  },
  {
   "cell_type": "code",
   "execution_count": null,
   "metadata": {},
   "outputs": [],
   "source": [
    "gs.best_params_"
   ]
  },
  {
   "cell_type": "code",
   "execution_count": null,
   "metadata": {},
   "outputs": [],
   "source": [
    "#checking variance and bias\n",
    "\n",
    "print('Training Score:', vote.score(X_train, y_train))\n",
    "print('Testing Score:', vote.score(X_test, y_test))"
   ]
  }
 ],
 "metadata": {
  "kernelspec": {
   "display_name": "Python 3",
   "language": "python",
   "name": "python3"
  },
  "language_info": {
   "codemirror_mode": {
    "name": "ipython",
    "version": 3
   },
   "file_extension": ".py",
   "mimetype": "text/x-python",
   "name": "python",
   "nbconvert_exporter": "python",
   "pygments_lexer": "ipython3",
   "version": "3.8.5"
  }
 },
 "nbformat": 4,
 "nbformat_minor": 4
}
