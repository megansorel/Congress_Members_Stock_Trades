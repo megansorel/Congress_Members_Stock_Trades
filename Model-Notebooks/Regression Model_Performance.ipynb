{
 "cells": [
  {
   "cell_type": "code",
   "execution_count": 1,
   "metadata": {},
   "outputs": [],
   "source": [
    "import pandas as pd\n",
    "import numpy as np\n",
    "from sklearn.model_selection import GridSearchCV, train_test_split\n",
    "from sklearn.tree import DecisionTreeRegressor\n",
    "from sklearn.linear_model import LogisticRegression\n",
    "from sklearn.svm import SVC\n",
    "from sklearn.ensemble import AdaBoostRegressor, BaggingRegressor, ExtraTreesRegressor\n",
    "from sklearn.ensemble import VotingRegressor, GradientBoostingRegressor, RandomForestRegressor\n",
    "from sklearn.metrics import plot_confusion_matrix\n",
    "from sklearn.preprocessing import StandardScaler, PolynomialFeatures\n",
    "from sklearn.pipeline import Pipeline\n",
    "import sklearn.metrics as metrics\n",
    "from sklearn.metrics import accuracy_score\n",
    "from sklearn.metrics import confusion_matrix\n",
    "\n",
    "#setting up random seed for project requirements \n",
    "np.random.seed(73)"
   ]
  },
  {
   "cell_type": "code",
   "execution_count": null,
   "metadata": {},
   "outputs": [],
   "source": [
    "#reading in final dataset from EDA \n",
    "df = pd.read_csv('./data/')"
   ]
  },
  {
   "cell_type": "code",
   "execution_count": null,
   "metadata": {},
   "outputs": [],
   "source": [
    "X = \n",
    "y = "
   ]
  },
  {
   "cell_type": "code",
   "execution_count": null,
   "metadata": {},
   "outputs": [],
   "source": [
    "# train test splitting \n",
    "X_train, X_test, y_train, y_test = train_test_split(X, y, stratify = y)"
   ]
  },
  {
   "cell_type": "code",
   "execution_count": null,
   "metadata": {},
   "outputs": [],
   "source": [
    "# Voting Regressor\n",
    "\n",
    "# pick and choose here which combinations to try for best model \n",
    "vote = VotingRegressor([\n",
    "    ('logreg', LogisticRegression()),\n",
    "    \n",
    "    ('rfc', RandomForestRegressor()),\n",
    "    ('extatrees', ExtraTreesRegressor()),\n",
    "    ('bag', BaggingRegressor()),\n",
    "    \n",
    "    ('gb', GradientBoostingRegressor()),\n",
    "    ('ada', AdaBoostRegressor()),\n",
    "], voting='soft')\n",
    "\n",
    "\n",
    "grid_params = {\n",
    "    'logreg__penalty': ['l1', 'l2'],\n",
    "    'logreg__C': [1.0, 0.1, .001], \n",
    "    'logreg__solver': ['saga'],\n",
    "    'logreg__warm_start': [False, True],\n",
    "    \n",
    "    'rfc__n_estimators': [50 100, 150],\n",
    "    'rfc__max_depth': [5, 15, 20],\n",
    "\n",
    "    'bag__n_estimators': [],\n",
    "    'bag__max_samples': [],\n",
    "\n",
    "    'extatrees__n_estimators': [50, 100, 150],\n",
    "    'extatrees__min_samples_split': [2, 3, 5],\n",
    "    \n",
    "    'gb__learning_rate': [.1, .01],\n",
    "    'gb__n_estimators': [100, 50, 10],\n",
    "    'gb__base_estimator': ['DecisionTreeRegressor', 'RandomForestRegressor'],\n",
    "    \n",
    "    'ada__n_estimators': [10, 50, 10],\n",
    "    'ada__learning_rate': [.1, .01],\n",
    "    'ada__base_estimator': ['DecisionTreeRegressor', 'RandomForestRegressor']\n",
    "\n",
    "}"
   ]
  },
  {
   "cell_type": "code",
   "execution_count": null,
   "metadata": {},
   "outputs": [],
   "source": [
    "vote = GridSearchCV(vote, grid_params, cv=5, n_jobs = -1)\n",
    "vote.fit(X_train, y_train)"
   ]
  },
  {
   "cell_type": "code",
   "execution_count": null,
   "metadata": {},
   "outputs": [],
   "source": [
    "gs.best_params_"
   ]
  },
  {
   "cell_type": "code",
   "execution_count": null,
   "metadata": {},
   "outputs": [],
   "source": [
    "#checking variance and bias\n",
    "\n",
    "print('Training Score:', vote.score(X_train, y_train))\n",
    "print('Testing Score:', vote.score(X_test, y_test))"
   ]
  }
 ],
 "metadata": {
  "kernelspec": {
   "display_name": "Python 3",
   "language": "python",
   "name": "python3"
  },
  "language_info": {
   "codemirror_mode": {
    "name": "ipython",
    "version": 3
   },
   "file_extension": ".py",
   "mimetype": "text/x-python",
   "name": "python",
   "nbconvert_exporter": "python",
   "pygments_lexer": "ipython3",
   "version": "3.8.5"
  }
 },
 "nbformat": 4,
 "nbformat_minor": 4
}
