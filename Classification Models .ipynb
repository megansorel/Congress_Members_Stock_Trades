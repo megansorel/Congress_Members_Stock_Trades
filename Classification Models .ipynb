{
 "cells": [
  {
   "cell_type": "code",
   "execution_count": 3,
   "metadata": {},
   "outputs": [
    {
     "name": "stderr",
     "output_type": "stream",
     "text": [
      "<frozen importlib._bootstrap>:219: RuntimeWarning: numpy.ufunc size changed, may indicate binary incompatibility. Expected 192 from C header, got 216 from PyObject\n",
      "<frozen importlib._bootstrap>:219: RuntimeWarning: numpy.ufunc size changed, may indicate binary incompatibility. Expected 192 from C header, got 216 from PyObject\n"
     ]
    }
   ],
   "source": [
    "import pandas as pd\n",
    "import numpy as np\n",
    "\n",
    "# import models here \n",
    "import pandas as pd\n",
    "import numpy as np\n",
    "from sklearn.model_selection import GridSearchCV, train_test_split\n",
    "from sklearn.tree import DecisionTreeClassifier\n",
    "from sklearn.linear_model import LogisticRegression\n",
    "from sklearn.svm import SVC\n",
    "from sklearn.ensemble import AdaBoostClassifier, BaggingClassifier, ExtraTreesClassifier\n",
    "from sklearn.ensemble import VotingClassifier, GradientBoostingClassifier, RandomForestClassifier\n",
    "from sklearn.metrics import plot_confusion_matrix\n",
    "from sklearn.preprocessing import StandardScaler, PolynomialFeatures\n",
    "from sklearn.pipeline import Pipeline\n",
    "import sklearn.metrics as metrics\n",
    "from sklearn.metrics import accuracy_score\n",
    "from sklearn.metrics import confusion_matrix, plot_confusion_matrix\n",
    "\n",
    "#setting up random seed for project requirements \n",
    "np.random.seed(73)\n"
   ]
  },
  {
   "cell_type": "code",
   "execution_count": null,
   "metadata": {},
   "outputs": [],
   "source": [
    "#reading in final dataset from EDA \n",
    "df = pd.read_csv('./#####')"
   ]
  },
  {
   "cell_type": "code",
   "execution_count": null,
   "metadata": {},
   "outputs": [],
   "source": [
    "X = \n",
    "y = "
   ]
  },
  {
   "cell_type": "code",
   "execution_count": null,
   "metadata": {},
   "outputs": [],
   "source": [
    "# train test splitting \n",
    "X_train, X_test, y_train, y_test = train_test_split(X, y, stratify = y)"
   ]
  },
  {
   "cell_type": "code",
   "execution_count": null,
   "metadata": {},
   "outputs": [],
   "source": [
    "# Voting Regressor\n",
    "\n",
    "# pick and choose here which combinations to try for best model \n",
    "vote = VotingClassifer([\n",
    "    ('logreg', LogisticRegression()),\n",
    "    \n",
    "    ('rfc', RandomForestClassifer()),\n",
    "    ('extatrees', ExtraTreesClassifer()),\n",
    "    ('bag', BaggingClassifer()),\n",
    "    \n",
    "    ('gb', GradientBoostingClassifer()),\n",
    "    ('ada', AdaBoostClassifer()),\n",
    "], voting='soft')\n",
    "\n",
    "\n",
    "grid_params = {\n",
    "    'logreg__penalty': ['l1', 'l2'],\n",
    "    'logreg__C': [1.0, 0.1, .001], \n",
    "    'logreg__solver': ['saga'],\n",
    "    'logreg__warm_start': [False, True],\n",
    "    \n",
    "    'rfc__n_estimators': [50 100, 150],\n",
    "    'rfc__max_depth': [5, 15, 20],\n",
    "\n",
    "    'bag__n_estimators': [],\n",
    "    'bag__max_samples': [],\n",
    "\n",
    "    'extatrees__n_estimators': [50, 100, 150],\n",
    "    'extatrees__min_samples_split': [2, 3, 5],\n",
    "    \n",
    "    'gb__learning_rate': [.1, .01],\n",
    "    'gb__n_estimators': [100, 50, 10],\n",
    "    'gb__base_estimator': ['DecisionTreeRegressor', 'RandomForestRegressor'],\n",
    "    \n",
    "    'ada__n_estimators': [10, 50, 10],\n",
    "    'ada__learning_rate': [.1, .01],\n",
    "    'ada__base_estimator': ['DecisionTreeRegressor', 'RandomForestRegressor']\n",
    "\n",
    "}"
   ]
  },
  {
   "cell_type": "code",
   "execution_count": null,
   "metadata": {},
   "outputs": [],
   "source": [
    "vote = GridSearchCV(vote, grid_params, cv=5, n_jobs = -1)\n",
    "vote.fit(X_train, y_train)"
   ]
  },
  {
   "cell_type": "code",
   "execution_count": null,
   "metadata": {},
   "outputs": [],
   "source": [
    "gs.best_params_"
   ]
  },
  {
   "cell_type": "code",
   "execution_count": null,
   "metadata": {},
   "outputs": [],
   "source": [
    "#checking variance and bias\n",
    "\n",
    "print('Training Score:', vote.score(X_train, y_train))\n",
    "print('Testing Score:', vote.score(X_test, y_test))"
   ]
  },
  {
   "cell_type": "code",
   "execution_count": null,
   "metadata": {},
   "outputs": [],
   "source": [
    "plot_confusion_matrix(vote, X_test, y_test, cmap='Blues', \n",
    "                      values_format='d', display_labels=['TODO', 'TODO']);"
   ]
  },
  {
   "cell_type": "code",
   "execution_count": null,
   "metadata": {},
   "outputs": [],
   "source": [
    "tn, fp, fn, tp = confusion_matrix(y_test, preds).ravel()"
   ]
  }
 ],
 "metadata": {
  "kernelspec": {
   "display_name": "Python 3",
   "language": "python",
   "name": "python3"
  },
  "language_info": {
   "codemirror_mode": {
    "name": "ipython",
    "version": 3
   },
   "file_extension": ".py",
   "mimetype": "text/x-python",
   "name": "python",
   "nbconvert_exporter": "python",
   "pygments_lexer": "ipython3",
   "version": "3.8.5"
  }
 },
 "nbformat": 4,
 "nbformat_minor": 4
}
