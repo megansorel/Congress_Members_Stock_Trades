{
 "cells": [
  {
   "cell_type": "code",
   "execution_count": 1,
   "metadata": {
    "ExecuteTime": {
     "end_time": "2021-06-04T20:07:17.062879Z",
     "start_time": "2021-06-04T20:07:16.600417Z"
    }
   },
   "outputs": [],
   "source": [
    "import pandas as pd\n",
    "import datetime"
   ]
  },
  {
   "cell_type": "code",
   "execution_count": 2,
   "metadata": {
    "ExecuteTime": {
     "end_time": "2021-06-04T20:07:17.107632Z",
     "start_time": "2021-06-04T20:07:17.064130Z"
    }
   },
   "outputs": [],
   "source": [
    "house = pd.read_csv('data/house_stocks.csv')\n",
    "senate = pd.read_csv('data/senate_stocks.csv')"
   ]
  },
  {
   "cell_type": "code",
   "execution_count": 3,
   "metadata": {
    "ExecuteTime": {
     "end_time": "2021-06-04T20:07:17.221168Z",
     "start_time": "2021-06-04T20:07:17.109072Z"
    }
   },
   "outputs": [],
   "source": [
    "#senate['transaction_date'] = pd.to_datetime(senate['transaction_date'])\n",
    "senate.drop(columns = ['asset_type', 'comment', 'ptr_link'], inplace=True)\n",
    "senate['representative'] = senate['senator']\n",
    "senate.drop(columns = 'senator', inplace = True)\n",
    "senate.loc[senate['type'] == 'Purchase', 'type'] = 'purchase'\n",
    "senate.loc[senate['type'] == 'Sale (Full)', 'type'] = 'sale_full'\n",
    "senate.loc[senate['type'] == 'Sale (Partial)', 'type'] = 'sale_partial'\n",
    "senate.loc[senate['type'] == 'Exchange', 'type'] = 'exchange'\n",
    "senate['timestamp'] = [int(datetime.datetime.strptime(timer,\"%m/%d/%Y\").timestamp()) for timer in senate['transaction_date']]\n",
    "senate['transaction_date'] = [str(datetime.datetime.strptime(timer,\"%m/%d/%Y\"))[:10] for timer in senate['transaction_date']]"
   ]
  },
  {
   "cell_type": "code",
   "execution_count": 4,
   "metadata": {
    "ExecuteTime": {
     "end_time": "2021-06-04T20:07:17.287856Z",
     "start_time": "2021-06-04T20:07:17.222308Z"
    }
   },
   "outputs": [],
   "source": [
    "#house['transaction_date'] = pd.to_datetime(house['transaction_date'])\n",
    "house.drop(columns = ['disclosure_year', 'disclosure_date', 'district', 'ptr_link', 'cap_gains_over_200_usd'], inplace = True)\n",
    "house['representative'] = [rep[5:] for rep in house['representative']]\n",
    "house['timestamp'] = [int(datetime.datetime.strptime(timer,\"%Y-%m-%d\").timestamp()) for timer in house['transaction_date']]"
   ]
  },
  {
   "cell_type": "code",
   "execution_count": 5,
   "metadata": {
    "ExecuteTime": {
     "end_time": "2021-06-04T20:07:17.293707Z",
     "start_time": "2021-06-04T20:07:17.288788Z"
    }
   },
   "outputs": [],
   "source": [
    "df = pd.concat([house, senate])\n",
    "df.drop(columns = ['owner'], inplace = True)"
   ]
  },
  {
   "cell_type": "code",
   "execution_count": 6,
   "metadata": {
    "ExecuteTime": {
     "end_time": "2021-06-04T20:07:17.332100Z",
     "start_time": "2021-06-04T20:07:17.295011Z"
    }
   },
   "outputs": [],
   "source": [
    "df.dropna(inplace=True)\n",
    "df.drop(df[df.ticker.str.contains('-')].index, inplace = True)\n",
    "df.drop(df[df.ticker.str.contains('\\.')].index, inplace = True)"
   ]
  },
  {
   "cell_type": "code",
   "execution_count": null,
   "metadata": {},
   "outputs": [],
   "source": []
  },
  {
   "cell_type": "code",
   "execution_count": 7,
   "metadata": {
    "ExecuteTime": {
     "end_time": "2021-06-04T20:07:17.376508Z",
     "start_time": "2021-06-04T20:07:17.332982Z"
    }
   },
   "outputs": [],
   "source": [
    "df.to_csv('data/senate_and_house.csv')"
   ]
  }
 ],
 "metadata": {
  "kernelspec": {
   "display_name": "Python 3",
   "language": "python",
   "name": "python3"
  },
  "language_info": {
   "codemirror_mode": {
    "name": "ipython",
    "version": 3
   },
   "file_extension": ".py",
   "mimetype": "text/x-python",
   "name": "python",
   "nbconvert_exporter": "python",
   "pygments_lexer": "ipython3",
   "version": "3.8.5"
  }
 },
 "nbformat": 4,
 "nbformat_minor": 4
}
