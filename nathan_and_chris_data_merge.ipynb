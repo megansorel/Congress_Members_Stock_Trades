{
 "cells": [
  {
   "cell_type": "code",
   "execution_count": 51,
   "metadata": {
    "ExecuteTime": {
     "end_time": "2021-06-04T18:34:12.091488Z",
     "start_time": "2021-06-04T18:34:12.084905Z"
    }
   },
   "outputs": [],
   "source": [
    "import pandas as pd\n",
    "import datetime"
   ]
  },
  {
   "cell_type": "code",
   "execution_count": 52,
   "metadata": {
    "ExecuteTime": {
     "end_time": "2021-06-04T18:34:12.160721Z",
     "start_time": "2021-06-04T18:34:12.094275Z"
    }
   },
   "outputs": [],
   "source": [
    "house = pd.read_csv('data/house_stocks.csv')\n",
    "senate = pd.read_csv('data/senate_stocks.csv')"
   ]
  },
  {
   "cell_type": "code",
   "execution_count": 53,
   "metadata": {
    "ExecuteTime": {
     "end_time": "2021-06-04T18:34:12.221624Z",
     "start_time": "2021-06-04T18:34:12.162242Z"
    }
   },
   "outputs": [],
   "source": [
    "#senate['transaction_date'] = pd.to_datetime(senate['transaction_date'])\n",
    "senate.drop(columns = ['asset_type', 'comment', 'ptr_link'], inplace=True)\n",
    "senate['representative'] = senate['senator']\n",
    "senate.drop(columns = 'senator', inplace = True)\n",
    "senate.loc[senate['type'] == 'Purchase', 'type'] = 'purchase'\n",
    "senate.loc[senate['type'] == 'Sale (Full)', 'type'] = 'sale_full'\n",
    "senate.loc[senate['type'] == 'Sale (Partial)', 'type'] = 'sale_partial'\n",
    "senate.loc[senate['type'] == 'Exchange', 'type'] = 'exchange'\n",
    "senate['timestamp'] = [int(datetime.datetime.strptime(timer,\"%m/%d/%Y\").timestamp()) for timer in senate['transaction_date']]"
   ]
  },
  {
   "cell_type": "code",
   "execution_count": 54,
   "metadata": {
    "ExecuteTime": {
     "end_time": "2021-06-04T18:34:12.291611Z",
     "start_time": "2021-06-04T18:34:12.223848Z"
    }
   },
   "outputs": [],
   "source": [
    "#house['transaction_date'] = pd.to_datetime(house['transaction_date'])\n",
    "house.drop(columns = ['disclosure_year', 'disclosure_date', 'district', 'ptr_link', 'cap_gains_over_200_usd'], inplace = True)\n",
    "house['representative'] = [rep[5:] for rep in house['representative']]\n",
    "house['timestamp'] = [int(datetime.datetime.strptime(timer,\"%Y-%m-%d\").timestamp()) for timer in house['transaction_date']]"
   ]
  },
  {
   "cell_type": "code",
   "execution_count": 55,
   "metadata": {
    "ExecuteTime": {
     "end_time": "2021-06-04T18:34:12.300129Z",
     "start_time": "2021-06-04T18:34:12.292553Z"
    }
   },
   "outputs": [
    {
     "data": {
      "text/html": [
       "<div>\n",
       "<style scoped>\n",
       "    .dataframe tbody tr th:only-of-type {\n",
       "        vertical-align: middle;\n",
       "    }\n",
       "\n",
       "    .dataframe tbody tr th {\n",
       "        vertical-align: top;\n",
       "    }\n",
       "\n",
       "    .dataframe thead th {\n",
       "        text-align: right;\n",
       "    }\n",
       "</style>\n",
       "<table border=\"1\" class=\"dataframe\">\n",
       "  <thead>\n",
       "    <tr style=\"text-align: right;\">\n",
       "      <th></th>\n",
       "      <th>transaction_date</th>\n",
       "      <th>owner</th>\n",
       "      <th>ticker</th>\n",
       "      <th>asset_description</th>\n",
       "      <th>type</th>\n",
       "      <th>amount</th>\n",
       "      <th>representative</th>\n",
       "      <th>timestamp</th>\n",
       "      <th>name</th>\n",
       "      <th>total_raised</th>\n",
       "      <th>total_from_small_donors</th>\n",
       "      <th>percent_from_small_donors*</th>\n",
       "      <th>total_money_raised</th>\n",
       "      <th>party</th>\n",
       "    </tr>\n",
       "  </thead>\n",
       "  <tbody>\n",
       "  </tbody>\n",
       "</table>\n",
       "</div>"
      ],
      "text/plain": [
       "Empty DataFrame\n",
       "Columns: [transaction_date, owner, ticker, asset_description, type, amount, representative, timestamp, name, total_raised, total_from_small_donors, percent_from_small_donors*, total_money_raised, party]\n",
       "Index: []"
      ]
     },
     "execution_count": 55,
     "metadata": {},
     "output_type": "execute_result"
    }
   ],
   "source": [
    "pd.merge(left = house, right = donations, how = 'inner', left_on = 'representative', right_on = 'name')"
   ]
  },
  {
   "cell_type": "code",
   "execution_count": 56,
   "metadata": {
    "ExecuteTime": {
     "end_time": "2021-06-04T18:34:12.311993Z",
     "start_time": "2021-06-04T18:34:12.301194Z"
    }
   },
   "outputs": [
    {
     "data": {
      "text/html": [
       "<div>\n",
       "<style scoped>\n",
       "    .dataframe tbody tr th:only-of-type {\n",
       "        vertical-align: middle;\n",
       "    }\n",
       "\n",
       "    .dataframe tbody tr th {\n",
       "        vertical-align: top;\n",
       "    }\n",
       "\n",
       "    .dataframe thead th {\n",
       "        text-align: right;\n",
       "    }\n",
       "</style>\n",
       "<table border=\"1\" class=\"dataframe\">\n",
       "  <thead>\n",
       "    <tr style=\"text-align: right;\">\n",
       "      <th></th>\n",
       "      <th>transaction_date</th>\n",
       "      <th>ticker</th>\n",
       "      <th>asset_description</th>\n",
       "      <th>type</th>\n",
       "      <th>amount</th>\n",
       "      <th>representative</th>\n",
       "      <th>timestamp</th>\n",
       "    </tr>\n",
       "  </thead>\n",
       "  <tbody>\n",
       "    <tr>\n",
       "      <th>0</th>\n",
       "      <td>2020-02-24</td>\n",
       "      <td>BHC</td>\n",
       "      <td>Bausch Health Companies Inc.</td>\n",
       "      <td>purchase</td>\n",
       "      <td>$1,001 - $15,000</td>\n",
       "      <td>Susie Lee</td>\n",
       "      <td>1582520400</td>\n",
       "    </tr>\n",
       "    <tr>\n",
       "      <th>1</th>\n",
       "      <td>2020-03-06</td>\n",
       "      <td>BAH</td>\n",
       "      <td>Booz Allen Hamilton Holding Corporation</td>\n",
       "      <td>sale_full</td>\n",
       "      <td>$1,001 - $15,000</td>\n",
       "      <td>Susie Lee</td>\n",
       "      <td>1583470800</td>\n",
       "    </tr>\n",
       "    <tr>\n",
       "      <th>2</th>\n",
       "      <td>2020-03-23</td>\n",
       "      <td>BYD</td>\n",
       "      <td>Boyd Gaming Corporation</td>\n",
       "      <td>sale_full</td>\n",
       "      <td>$1,001 - $15,000</td>\n",
       "      <td>Susie Lee</td>\n",
       "      <td>1584936000</td>\n",
       "    </tr>\n",
       "    <tr>\n",
       "      <th>3</th>\n",
       "      <td>2020-02-04</td>\n",
       "      <td>CTLT</td>\n",
       "      <td>Catalent, Inc.</td>\n",
       "      <td>purchase</td>\n",
       "      <td>$1,001 - $15,000</td>\n",
       "      <td>Susie Lee</td>\n",
       "      <td>1580792400</td>\n",
       "    </tr>\n",
       "    <tr>\n",
       "      <th>4</th>\n",
       "      <td>2020-03-18</td>\n",
       "      <td>CBRE</td>\n",
       "      <td>CBRE Group Inc Common Stock Class A</td>\n",
       "      <td>sale_partial</td>\n",
       "      <td>$1,001 - $15,000</td>\n",
       "      <td>Susie Lee</td>\n",
       "      <td>1584504000</td>\n",
       "    </tr>\n",
       "    <tr>\n",
       "      <th>...</th>\n",
       "      <td>...</td>\n",
       "      <td>...</td>\n",
       "      <td>...</td>\n",
       "      <td>...</td>\n",
       "      <td>...</td>\n",
       "      <td>...</td>\n",
       "      <td>...</td>\n",
       "    </tr>\n",
       "    <tr>\n",
       "      <th>8551</th>\n",
       "      <td>08/17/2012</td>\n",
       "      <td>NaN</td>\n",
       "      <td>This filing was disclosed via scanned PDF. Use...</td>\n",
       "      <td>NaN</td>\n",
       "      <td>Unknown</td>\n",
       "      <td>Sheldon Whitehouse</td>\n",
       "      <td>1345176000</td>\n",
       "    </tr>\n",
       "    <tr>\n",
       "      <th>8552</th>\n",
       "      <td>08/16/2012</td>\n",
       "      <td>NaN</td>\n",
       "      <td>This filing was disclosed via scanned PDF. Use...</td>\n",
       "      <td>NaN</td>\n",
       "      <td>Unknown</td>\n",
       "      <td>Pat Roberts</td>\n",
       "      <td>1345089600</td>\n",
       "    </tr>\n",
       "    <tr>\n",
       "      <th>8553</th>\n",
       "      <td>08/15/2012</td>\n",
       "      <td>NaN</td>\n",
       "      <td>This filing was disclosed via scanned PDF. Use...</td>\n",
       "      <td>NaN</td>\n",
       "      <td>Unknown</td>\n",
       "      <td>Robert J Portman</td>\n",
       "      <td>1345003200</td>\n",
       "    </tr>\n",
       "    <tr>\n",
       "      <th>8554</th>\n",
       "      <td>08/02/2012</td>\n",
       "      <td>NaN</td>\n",
       "      <td>This filing was disclosed via scanned PDF. Use...</td>\n",
       "      <td>NaN</td>\n",
       "      <td>Unknown</td>\n",
       "      <td>Thomas R Carper</td>\n",
       "      <td>1343880000</td>\n",
       "    </tr>\n",
       "    <tr>\n",
       "      <th>8555</th>\n",
       "      <td>07/25/2012</td>\n",
       "      <td>NaN</td>\n",
       "      <td>This filing was disclosed via scanned PDF. Use...</td>\n",
       "      <td>NaN</td>\n",
       "      <td>Unknown</td>\n",
       "      <td>Benjamin L Cardin</td>\n",
       "      <td>1343188800</td>\n",
       "    </tr>\n",
       "  </tbody>\n",
       "</table>\n",
       "<p>18711 rows × 7 columns</p>\n",
       "</div>"
      ],
      "text/plain": [
       "     transaction_date ticker  \\\n",
       "0          2020-02-24    BHC   \n",
       "1          2020-03-06    BAH   \n",
       "2          2020-03-23    BYD   \n",
       "3          2020-02-04   CTLT   \n",
       "4          2020-03-18   CBRE   \n",
       "...               ...    ...   \n",
       "8551       08/17/2012    NaN   \n",
       "8552       08/16/2012    NaN   \n",
       "8553       08/15/2012    NaN   \n",
       "8554       08/02/2012    NaN   \n",
       "8555       07/25/2012    NaN   \n",
       "\n",
       "                                      asset_description          type  \\\n",
       "0                          Bausch Health Companies Inc.      purchase   \n",
       "1               Booz Allen Hamilton Holding Corporation     sale_full   \n",
       "2                               Boyd Gaming Corporation     sale_full   \n",
       "3                                        Catalent, Inc.      purchase   \n",
       "4                   CBRE Group Inc Common Stock Class A  sale_partial   \n",
       "...                                                 ...           ...   \n",
       "8551  This filing was disclosed via scanned PDF. Use...           NaN   \n",
       "8552  This filing was disclosed via scanned PDF. Use...           NaN   \n",
       "8553  This filing was disclosed via scanned PDF. Use...           NaN   \n",
       "8554  This filing was disclosed via scanned PDF. Use...           NaN   \n",
       "8555  This filing was disclosed via scanned PDF. Use...           NaN   \n",
       "\n",
       "                amount      representative   timestamp  \n",
       "0     $1,001 - $15,000           Susie Lee  1582520400  \n",
       "1     $1,001 - $15,000           Susie Lee  1583470800  \n",
       "2     $1,001 - $15,000           Susie Lee  1584936000  \n",
       "3     $1,001 - $15,000           Susie Lee  1580792400  \n",
       "4     $1,001 - $15,000           Susie Lee  1584504000  \n",
       "...                ...                 ...         ...  \n",
       "8551           Unknown  Sheldon Whitehouse  1345176000  \n",
       "8552           Unknown         Pat Roberts  1345089600  \n",
       "8553           Unknown    Robert J Portman  1345003200  \n",
       "8554           Unknown     Thomas R Carper  1343880000  \n",
       "8555           Unknown   Benjamin L Cardin  1343188800  \n",
       "\n",
       "[18711 rows x 7 columns]"
      ]
     },
     "execution_count": 56,
     "metadata": {},
     "output_type": "execute_result"
    }
   ],
   "source": [
    "df = pd.concat([house, senate])\n",
    "df.drop(columns = ['owner'], inplace = True)\n",
    "df"
   ]
  },
  {
   "cell_type": "code",
   "execution_count": 57,
   "metadata": {
    "ExecuteTime": {
     "end_time": "2021-06-04T18:34:12.404549Z",
     "start_time": "2021-06-04T18:34:12.313129Z"
    }
   },
   "outputs": [],
   "source": [
    "df.dropna(inplace=True)\n",
    "df.drop(df[df.ticker.str.contains('-')].index, inplace = True)\n",
    "df.drop(df[df.ticker.str.contains('\\.')].index, inplace = True)"
   ]
  },
  {
   "cell_type": "code",
   "execution_count": null,
   "metadata": {},
   "outputs": [],
   "source": []
  },
  {
   "cell_type": "code",
   "execution_count": 58,
   "metadata": {
    "ExecuteTime": {
     "end_time": "2021-06-04T18:34:12.449709Z",
     "start_time": "2021-06-04T18:34:12.405494Z"
    }
   },
   "outputs": [],
   "source": [
    "df.to_csv('data/senate_and_house.csv')"
   ]
  }
 ],
 "metadata": {
  "kernelspec": {
   "display_name": "Python 3",
   "language": "python",
   "name": "python3"
  },
  "language_info": {
   "codemirror_mode": {
    "name": "ipython",
    "version": 3
   },
   "file_extension": ".py",
   "mimetype": "text/x-python",
   "name": "python",
   "nbconvert_exporter": "python",
   "pygments_lexer": "ipython3",
   "version": "3.8.5"
  }
 },
 "nbformat": 4,
 "nbformat_minor": 4
}
