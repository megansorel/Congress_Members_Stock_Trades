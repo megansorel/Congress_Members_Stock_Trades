{
 "cells": [
  {
   "cell_type": "code",
   "execution_count": 16,
   "metadata": {
    "ExecuteTime": {
     "end_time": "2021-06-04T19:57:06.812767Z",
     "start_time": "2021-06-04T19:57:06.809433Z"
    }
   },
   "outputs": [],
   "source": [
    "import pandas as pd\n",
    "import datetime"
   ]
  },
  {
   "cell_type": "code",
   "execution_count": 17,
   "metadata": {
    "ExecuteTime": {
     "end_time": "2021-06-04T19:57:06.888314Z",
     "start_time": "2021-06-04T19:57:06.815777Z"
    }
   },
   "outputs": [],
   "source": [
    "house = pd.read_csv('data/house_stocks.csv')\n",
    "senate = pd.read_csv('data/senate_stocks.csv')"
   ]
  },
  {
   "cell_type": "code",
   "execution_count": 18,
   "metadata": {
    "ExecuteTime": {
     "end_time": "2021-06-04T19:57:07.002405Z",
     "start_time": "2021-06-04T19:57:06.890229Z"
    }
   },
   "outputs": [],
   "source": [
    "#senate['transaction_date'] = pd.to_datetime(senate['transaction_date'])\n",
    "senate.drop(columns = ['asset_type', 'comment', 'ptr_link'], inplace=True)\n",
    "senate['representative'] = senate['senator']\n",
    "senate.drop(columns = 'senator', inplace = True)\n",
    "senate.loc[senate['type'] == 'Purchase', 'type'] = 'purchase'\n",
    "senate.loc[senate['type'] == 'Sale (Full)', 'type'] = 'sale_full'\n",
    "senate.loc[senate['type'] == 'Sale (Partial)', 'type'] = 'sale_partial'\n",
    "senate.loc[senate['type'] == 'Exchange', 'type'] = 'exchange'\n",
    "senate['timestamp'] = [int(datetime.datetime.strptime(timer,\"%m/%d/%Y\").timestamp()) for timer in senate['transaction_date']]\n",
    "senate['transaction_date'] = [str(datetime.datetime.strptime(timer,\"%m/%d/%Y\"))[:10] for timer in senate['transaction_date']]"
   ]
  },
  {
   "cell_type": "code",
   "execution_count": 19,
   "metadata": {
    "ExecuteTime": {
     "end_time": "2021-06-04T19:57:07.068422Z",
     "start_time": "2021-06-04T19:57:07.003575Z"
    }
   },
   "outputs": [],
   "source": [
    "#house['transaction_date'] = pd.to_datetime(house['transaction_date'])\n",
    "house.drop(columns = ['disclosure_year', 'disclosure_date', 'district', 'ptr_link', 'cap_gains_over_200_usd'], inplace = True)\n",
    "house['representative'] = [rep[5:] for rep in house['representative']]\n",
    "house['timestamp'] = [int(datetime.datetime.strptime(timer,\"%Y-%m-%d\").timestamp()) for timer in house['transaction_date']]"
   ]
  },
  {
   "cell_type": "code",
   "execution_count": 20,
   "metadata": {
    "ExecuteTime": {
     "end_time": "2021-06-04T19:57:07.074823Z",
     "start_time": "2021-06-04T19:57:07.069330Z"
    }
   },
   "outputs": [],
   "source": [
    "df = pd.concat([house, senate])\n",
    "df.drop(columns = ['owner'], inplace = True)"
   ]
  },
  {
   "cell_type": "code",
   "execution_count": 21,
   "metadata": {
    "ExecuteTime": {
     "end_time": "2021-06-04T19:57:07.121870Z",
     "start_time": "2021-06-04T19:57:07.075644Z"
    }
   },
   "outputs": [],
   "source": [
    "df.dropna(inplace=True)\n",
    "df.drop(df[df.ticker.str.contains('-')].index, inplace = True)\n",
    "df.drop(df[df.ticker.str.contains('\\.')].index, inplace = True)"
   ]
  },
  {
   "cell_type": "code",
   "execution_count": null,
   "metadata": {},
   "outputs": [],
   "source": []
  },
  {
   "cell_type": "code",
   "execution_count": 22,
   "metadata": {
    "ExecuteTime": {
     "end_time": "2021-06-04T19:57:07.167685Z",
     "start_time": "2021-06-04T19:57:07.122802Z"
    }
   },
   "outputs": [],
   "source": [
    "df.to_csv('data/senate_and_house.csv')"
   ]
  }
 ],
 "metadata": {
  "kernelspec": {
   "display_name": "Python 3",
   "language": "python",
   "name": "python3"
  },
  "language_info": {
   "codemirror_mode": {
    "name": "ipython",
    "version": 3
   },
   "file_extension": ".py",
   "mimetype": "text/x-python",
   "name": "python",
   "nbconvert_exporter": "python",
   "pygments_lexer": "ipython3",
   "version": "3.8.5"
  }
 },
 "nbformat": 4,
 "nbformat_minor": 4
}
